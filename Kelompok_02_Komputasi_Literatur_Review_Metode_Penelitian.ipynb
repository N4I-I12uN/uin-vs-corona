{
 "cells": [
  {
   "cell_type": "markdown",
   "metadata": {},
   "source": [
    "# Tugas Metode Penelitian Kelompok 2 Komputasi"
   ]
  },
  {
   "cell_type": "markdown",
   "metadata": {},
   "source": [
    "### Nama anggota :\n",
    "1. Rani Istiqomah (11170940000007)\n",
    "2. Rista Cahya Putri (11170940000008)\n",
    "3. Nihayah Azzahra (11170940000015)\n",
    "4. Tsabita Mahdiyyah Umar (11170940000030)\n",
    "5. Riza Fahriska (11170940000045)"
   ]
  },
  {
   "cell_type": "markdown",
   "metadata": {},
   "source": [
    "<img src=\"images/Mind Map Covid-19 Kelompok 2 Komputasi.png\" style=\"width: 950px; height:510px\"/>"
   ]
  },
  {
   "cell_type": "markdown",
   "metadata": {},
   "source": [
    "<p style='text-align: justify;'>&nbsp;&nbsp;&nbsp;&nbsp;&nbsp;&nbsp;Sejak Desember 2019, penyakit pneumonia yang tidak diketahui terjadi di Wuhan, China. Dua puluh tujuh kasus pertama yang dilaporkan semuanya terkait dengan Pasar Grosir Makanan Laut Huanan di Wuhan, Provinsi Hubei, China yang menjual produk akuatik, unggas hidup, dan hewan liar. Pada 11 Februari 2020, secara resmi Badan Kesehatan Dunia (WHO) menamai penyakit ini sebagai <i>Corona Virus Disease 2019</i> (Covid-19). Menurut [1], penularan virus Covid-19 ini terjadi melalui interaksi langsung dari manusia ke manusia, khususnya ketika salah satu diantara orang tersebut mengalami gejala namun tanpa menggunakan pelindung. Kemudian berdasarkan catatan penelitian yang dilakukan [8] dari 73,214 catatan pasien, kategori kasus Covid-19 dibagi menjadi : terkonfirmasi covid-19 yaitu sebanyak 44,672 (61.8%), kasus terduga 16,186 (22.4%), kasus yang didiagnosis secara klinis (hanya Provinsi Hubei) 10,567 (14.6%) dan kasus asimptomatik 889 (1.2%). Asimptomatik adalah seseorang yang terinfeksi Covid-19 namun tidak mengalami gejala umum, seperti batuk, demam tinggi serta sesak napas. Meskipun tidak menunjukkan gejala seperti kasus terinfeksi lainnya, namun asimptomatik dapat juga membawa dan menularkan virus ini ke manusia lainnya.[3]</p>"
   ]
  },
  {
   "cell_type": "markdown",
   "metadata": {},
   "source": [
    "<p style='text-align: justify;'>&nbsp;&nbsp;&nbsp;&nbsp;&nbsp;&nbsp;Covid-19 dapat menginfeksi berbagai kalangan usia, mulai dari anak-anak sampai orang dewasa. Namun, penelitian menunjukkan bahwa orang dewasa termasuk dalam populasi dengan tingkat infeksi tertinggi dibandingkan anak-anak maupun neonatus.[3] Penelitian ini didukung oleh [8] yang meneliti bahwa dari total 44,672 kasus terinfeksi Covid-19, terdapat 1,023 kasus kematian yang terjadi. Dari 1,023 kasus kematian tersebut, orang dewasa di atas 80 tahun memiliki tingkat kematian paling tinggi yaitu 14.8% dibandingkan dengan kelompok usia lainnya. Selain itu seseorang dengan kondisi komorbiditas juga memiliki tingkat kematian yang tinggi, yaitu 10.5% penyakit kardiovaskulas, 7.3% diabetes, 6.3% penyakit pernapasan kronis, 6.0% hipertensi, dan 5.6% penderita kanker. Selanjutnya, menurut informasi yang didapat dari [5], masa inkubasi rata-rata Covid-19 adalah selama 4 hari. Interval serial antara pasangan transmisi berkisar antara 3 hari dan 8 hari. Dari 17 kasus yang dikonfirmasi, demam dan batuk adalah dua gejala yang paling umum, disusul dengan gejala kekeruhan paru-paru, limfopenia, dan trombositopenia.[5]</p>"
   ]
  },
  {
   "cell_type": "markdown",
   "metadata": {},
   "source": [
    "<p style='text-align: justify;'>&nbsp;&nbsp;&nbsp;&nbsp;&nbsp;&nbsp;Singapura termasuk negara-kota di Asia Tenggara yang meningkatkan pengawasan untuk mendeteksi individu yang terkena Covid-19 lebih awal. Singapura mengkonfirmasi kasus pertama Covid-19 dari Wuhan pada 23 Januari 2020. Pada 22 Februari 2020, 89 orang di Singapura dikonfirmasi terinfeksi Covid-19, dan 18 individu pertama yang terinfeksi semua melaporkan melakukan perjalanan ke Wuhan baru-baru ini. Berdasarkan pengamatan yang dilakukan [5], melaporkan data untuk tiga kelompok pertama kasus COVID-19 di Singapura, penyelidikan epidemiologis dan klinis melalui wawancara dan catatan medis rawat inap, melakukan investigasi lapangan yang dilakukan untuk memastikan karakteristik penyakit dan jenis paparan, statistik ringkasan untuk menandai periode inkubasi dari Covid-19 dan interval serial antara pasangan transmisi. Sementara itu, Taiwan yang merupakan salah satu negara yang sangat dekat dengan China menjadi salah satu negara yang melakukan respon cepat terbaik dalam penanganan penyebaran Covid-19. Penanganan wabah virus Covid-19 di Taiwan dilakukan dengan cara deklarasi kesehatan melalui SMS, pelaporan riwayat gejala kesehatan dan riwayat perjalanan dalam 14 hari terakhir serta memastikan warganya tetap berada di rumah selama masa inkubasi.</p>"
   ]
  },
  {
   "cell_type": "markdown",
   "metadata": {},
   "source": [
    "<p style='text-align: justify;'>&nbsp;&nbsp;&nbsp;&nbsp;&nbsp;&nbsp;Langkah efektif yang dapat dilakukan guna menanggulangi wabah Covid-19 diantaranya adalah <i>physical distancing</i>. Berdasarkan [4], Wuhan menerapkan <i>physical distancing</i> sejak munculnya Covid-19 ini. <i>Physical distancing</i> yang dilakukan berupa pembatasan aktivitas dengan menutup sekolah-sekolah dan tempat kerja. Tindakan ini ternyata efektif dilakukan jika masyarakat Wuhan kembali bekerja pada awal April 2020. Hal ini ditandai dengan menurunnya median jumlah infeksi dari 92% menjadi 24%. Selain itu, di Wuhan, langkah tersebut juga dapat menunda puncak wabah pada akhir tahun 2019 serta dapat memberikan kesempatan bagi pelayanan kesehatan supaya dapat mengatasi wabah ini. Covid-19 ini ternyata memiliki kemiripan dengan SARS-CoV dan MERS-CoV. Mengingat Covid-19 memiliki gen yang hampir mirip 86% dengan SARS. Disinyalir virus ini memiliki nenek moyang yang sama dengan SARS dan MERS. Virus SARS dan MERS dikonfirmasi sebagai anggota subkelompok <i>Beta-coronavirus</i>. Gejala dari SARS dan MERS hampir sama juga yaitu pneumonia yang diikuti oleh sindrom gangguan pernapasan akut (ARDS). Belajar dari kejadian mewabahnya virus SARS, maka penanganan pada SARS memungkinkan dapat diaplikasikan ke penanganan wabah virus Covid-19 dengan pelaporan riwayat gejala kesehatan dan riwayat perjalanan dalam 14 hari terakhir serta beberapa tindakan lain yang dapat memperlambat penyebaran Covid-19 seperti isolasi pasien, karantina wilayah tetapi tetap memikirkan dampak ekonomi yang akan terjadi, <i>social distancing</i>, menghindari kerumunan, menjaga kesehatan, dan lain-lain serta yang paling penting adalah mentaati kebijakan pemerintah dalam melakukan pencegahan virus Covid-19.</p>"
   ]
  },
  {
   "cell_type": "markdown",
   "metadata": {},
   "source": [
    "## Daftar Pustaka\n",
    "\n",
    "1. Ghinai, I., et al. (2020). First known person-to-person transmission of severe acute respiratory syndrome coronavirus 2 (SARS-CoV-2) in the USA. The Lancet. https://doi.org/10.1016/S0140-6736(20)30607-3\n",
    "2.\tKhan, M., Kazmi, S., Bashir, A., & Siddique, N. (2020). COVID-19 infection: origin, transmission, and characteristics of human coronaviruses. Journal of Advanced Research. https://doi.org/10.1016/j.jare.2020.03.005\n",
    "3.\tLai, C.-C., et al. (2020). Asymptomatic carrier state, acute respiratory disease, and pneumonia due to severe acute respiratory syndrome coronavirus 2 (SARS-CoV-2): Facts and myths. Journal of Microbiology, Immunology and Infection. https://doi.org/10.1016/j.jmii.2020.02.012\n",
    "4.\tPrem, K., et al. (2020). The effect of control strategies to reduce social mixing on outcomes of the COVID-19 epidemic in Wuhan, China: a modelling study. The Lancet Public Health. https://doi.org/10.1016/s2468-2667(20)30073-6\n",
    "5.\tPUNG, Rachael, et al. Investigation of three clusters of COVID-19 in Singapore: implications for surveillance and response measures. The Lancet, 2020.\n",
    "6.\tWang, C. J., Ng, C. Y., & Brook, R. H. (2020). Response to COVID-19 in Taiwan: Big Data Analytics, New Technology, and Proactive Testing. In JAMA - Journal of the American Medical Association. https://doi.org/10.1001/jama.2020.3151\n",
    "7.\tWilder-Smith, A., Chiew, C. J., & Lee, V. J. (2020). Can we contain the COVID-19 outbreak with the same measures as for SARS? The Lancet. Infectious Diseases. https://doi.org/10.1016/S1473-3099(20)30129-8\n",
    "8.\tTeam, T. N. C. P. E. R. E. (2020). The Epidemiological Characteristics of an Outbreak of 2019 Novel Coronavirus Diseases (COVID-19) — China, 2020. China CDC Weekly."
   ]
  }
 ],
 "metadata": {
  "kernelspec": {
   "display_name": "Python 3",
   "language": "python",
   "name": "python3"
  },
  "language_info": {
   "codemirror_mode": {
    "name": "ipython",
    "version": 3
   },
   "file_extension": ".py",
   "mimetype": "text/x-python",
   "name": "python",
   "nbconvert_exporter": "python",
   "pygments_lexer": "ipython3",
   "version": "3.6.7"
  }
 },
 "nbformat": 4,
 "nbformat_minor": 2
}
