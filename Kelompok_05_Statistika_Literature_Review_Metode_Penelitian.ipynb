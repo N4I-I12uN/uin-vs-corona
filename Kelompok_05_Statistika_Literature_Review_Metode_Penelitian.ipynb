{
 "cells": [
  {
   "cell_type": "markdown",
   "metadata": {},
   "source": [
    "# Literature Review (Metode Penelitian)\n",
    "\n",
    "## Kelompok 5 Statistika\n",
    "\n",
    "1. Adisty Putri Aulia (11170940000032)\n",
    "2. Mutia Nofitasari (11170940000049)\n",
    "3. Putri Maharani Pujiastuti (11170940000006)\n",
    "4. Salsabila Fauziah Rahman (11170940000054)\n",
    "5. Saskia Salsya Bella (11170940000061)\n",
    "6. Siti Zalfarosa Salsabila (11170940000034)\n",
    "\n",
    "# Coronavirus Disease (COVID-19)"
   ]
  },
  {
   "cell_type": "markdown",
   "metadata": {},
   "source": [
    "<img src=\"images/Mind Map COVID-19 Kelompok 5 Statistika.jpg\">"
   ]
  },
  {
   "cell_type": "markdown",
   "metadata": {},
   "source": [
    "<div style=\"text-align: justify\"> Pandemi yang sedang berlangsung saat ini di hampir seluruh belahan dunia yang kita sebut dengan COVID-19 dapat menular melalui kontak fisik [1] [2] atau penularan/transmisi dari manusia ke manusia, cara mendeteksinya dapat dilakukan dengan RT-PCR [3] [4] [5]. Cara mengurangi penularan dapat dengan dilakukan mengurangi kontak fisik antar manusia seperti membatasi mobilitas penduduk [2] [6] dan melakukan karantina serta isolasi [2] [3]. Penularan atau transmisi COVID-19 ini telah terjadi dibeberapa belahan dunia seperti di Wuhan, Cina [7] dan Vietnam [4]. Telah terjadi penularan dari manusia ke manusia sebesar 41% di Rumah sakit Zhonghan, Wuhan [7]. Selain itu, penularan dari manusia ke manusia juga terjadi di Vietnam, yaitu penularan pada satu keluarga yang berawal dari sang ayah [4]. Kemudian, untuk mengetahui reproduksi harian [2] dan simulasi penyebaran COVID-19 di seluruh daratan Cina [6] digunakan metode SEIR. Terdapat orang-orang yang rentan terhadap virus ini diantaranya adalah orang yang berusia lanjut [7]. </div> <br>\n",
    "<div style=\"text-align: justify\"> Ada beberapa gejala klinis yang dialami oleh pasien positif COVID-19. Gejala klinis yang dialami oleh pasien COVID-19 diantaranya, yaitu meningkatnya suhu tubuh, penurunan limfosit, dan peningkatan prokalsitonin [4] [7] [8]. Berdasarkan penelitian, dari 36 pasien, 19 pasien (53%) memiliki tipe klinis disertai pneumonia, dan 17 pasien (47%) tipe klinis ringan (tidak memiliki gejala) [8]. Beberapa peneliti melakukan observasi dengan mengambil data pada pasien-pasien positif COVID-19 di rumah sakit yang telah ditentukan, peneliti mengamati epideminologis pasien yang terinfeksi COVID-19, pasien tanpa gejala sangat sulit untuk diidentifikasi karena tidak memiliki informasi epideminologis yang jelas [7] [8]. Cara penanganan yang dilakukan oleh pihak rumah sakit kepada pasien positif COVID-19 diantaranya, yaitu inhalasi oksigen, terapi antibakteri, terapi glukokartiroid, dan terapi antivirus [7]. Pada Rumah Sakit di Zhejiang, China, mereka menerapkan inhalasi oksigen dan pemberian lopinovir ritonavir kepada pasien COVID-19 [8]. </div> <br>\n",
    "<div style=\"text-align: justify\"> Dibahas juga mengenai estimasi kasus pandemi COVID-19 [3] [6]. Diinformasikan bahwa perkiraan wabah akan memuncak dalam 2 minggu (setelah 23 Januari 2020) [3] sedangkan ada yang menyimpulkan bahwa wabah akan tumbuh secara eksponensial sekitar 1-2 minggu [6]. </div>"
   ]
  },
  {
   "cell_type": "markdown",
   "metadata": {},
   "source": [
    "## Daftar Pustaka\n",
    "\n",
    "1. H. Chen et al., “Clinical characteristics and intrauterine vertical transmission potential of COVID-19 infection in nine pregnant women: a retrospective review of medical records,” Lancet, vol. 395, no. 10226, pp. 809–815, 2020, doi: 10.1016/S0140-6736(20)30360-3.\n",
    "2.\tB. Tang, N. L. Bragazzi, Q. Li, S. Tang, Y. Xiao, and J. Wu, “An updated estimation of the risk of transmission of the novel coronavirus (2019-nCov),” Infect. Dis. Model., vol. 5, pp. 248–255, 2020, doi: 10.1016/j.idm.2020.02.001.\n",
    "3.\tB. Tang et al., “Estimation of the Transmission Risk of the 2019-nCoV and Its Implication for Public Health Interventions,” J. Clin. Med., vol. 9, no. 2, p. 462, 2020, doi: 10.3390/jcm9020462.\n",
    "4.\tE. Faure, E. Kipnis, P. Bortolotti, and J. Salik, “Importation and Human-to-Human Transmission of a Novel Coronavirus in Vietnam,” N. Engl. J. Med., vol. 29, no. 1, pp. 2016–2017, 2020, doi: 10.1056/NEJMc1609332.\n",
    "5.\tV. M. Corman et al., “Detection of 2019 novel coronavirus (2019-nCoV) by real-time RT-PCR,” Euro Surveill., vol. 25, no. 3, pp. 1–8, 2020, doi: 10.2807/1560-7917.ES.2020.25.3.2000045.\n",
    "6.\tJ. T. Wu, K. Leung, and G. M. Leung, “Nowcasting and forecasting the potential domestic and international spread of the 2019-nCoV outbreak originating in Wuhan, China: a modelling study,” Lancet, vol. 395, no. 10225, pp. 689–697, 2020, doi: 10.1016/S0140-6736(20)30260-9.\n",
    "7.\tD. Wang et al., “Clinical Characteristics of 138 Hospitalized Patients with 2019 Novel Coronavirus-Infected Pneumonia in Wuhan, China,” JAMA - J. Am. Med. Assoc., vol. 323, no. 11, pp. 1061–1069, 2020, doi: 10.1001/jama.2020.1585.\n",
    "8.\tH. Qiu, J. Wu, L. Hong, Y. Luo, Q. Song, and D. Chen, “Clinical and epidemiological features of 36 children with coronavirus disease 2019 (COVID-19) in Zhejiang, China: an observational cohort study,” Lancet Infect. Dis., vol. 2019, no. 20, pp. 1–8, 2020, doi: 10.1016/s1473-3099(20)30198-5.\n",
    "\n"
   ]
  }
 ],
 "metadata": {
  "kernelspec": {
   "display_name": "Python 3",
   "language": "python",
   "name": "python3"
  },
  "language_info": {
   "codemirror_mode": {
    "name": "ipython",
    "version": 3
   },
   "file_extension": ".py",
   "mimetype": "text/x-python",
   "name": "python",
   "nbconvert_exporter": "python",
   "pygments_lexer": "ipython3",
   "version": "3.7.6"
  }
 },
 "nbformat": 4,
 "nbformat_minor": 4
}
