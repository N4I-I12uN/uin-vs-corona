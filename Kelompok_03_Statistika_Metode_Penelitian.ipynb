{
 "cells": [
  {
   "cell_type": "markdown",
   "metadata": {},
   "source": [
    "# Tugas Mata Kuliah Metode Penelitian\n",
    "\n",
    "## Kelompok 3 Statistik\n",
    "\n",
    "Nama Anggota:\n",
    "- Amirah Bonita (11170940000033)\n",
    "- Laila Khodriatun Khasanah (11170940000035)\n",
    "- Serin Tias Sidqi (11170940000040)\n",
    "- Novi Fitianingrum (11170940000048)\n",
    "- Delia Nur Rizki (11170940000056)\n",
    "- Suci Rama Wahyuni (11170940000058)\n",
    "   "
   ]
  },
  {
   "cell_type": "markdown",
   "metadata": {},
   "source": [
    "## Tugas Literature Review"
   ]
  },
  {
   "cell_type": "markdown",
   "metadata": {},
   "source": [
    "# Corona Virus Disease 2019"
   ]
  },
  {
   "cell_type": "markdown",
   "metadata": {},
   "source": [
    "<img src=\"images/Mind Map Covid-19 Kelompok 3 statistika.jpg\"/>"
   ]
  },
  {
   "cell_type": "markdown",
   "metadata": {},
   "source": [
    "Coronaviruses adalah virus RNA positif yang tidak tersegmentasi yang termasuk dalam keluarga Coronaviridae dan urutan Nidovirales dan menyebar secara luas pada manusia dan mamalia lainnya [3]. Berdasarkan penelitian yang dilakukan di China [1][2][3][5][6], pada awal infeksi kasus pneumonia ini muncul, penyebabnya tidak diketahui [3][4][5][6]. Namun, menurut penelitian sebelumnya tentang investigasi epidemiologi SARS, reservoir alami Covid-19 adalah kelelawar, prevalensi kelelawar koroner diantara kehidupan liar adalah tinggi dan memiliki kesamaan identitas urutan tertentu dengan virus SARS. Oleh karena itu, kelelawar dianggap sebagai reservoir inang alami dari coronavirus yang mirip SARS. Secara teoritis, jika orang memakan reservoir atau hewan yang terinfeksi, mereka dapat terinfeksi [2]. Untuk penyebaran dan penularan bisa melalui berbagai media. Menurut [4] penyebaran virus bisa melalui darah atau sistem limfatik dari saluran pernapasan, serta menurut [2] partikel virus menyebar melalui mukosa pernapasan dan secara bersamaan menginfeksi sel-sel lain yang dapat memicu badai sitokin dan serangkaian respon imun. Sedangkan dalam [6] saat ini, tidak ada bukti penularan melalui udara. RNA virus dapat ditemukan dalam pelepasan cairan hidung, dahak, dan kadang-kadang darah atau tinja. Tetapi penularan melalui fecal oral belum dikonfirmasi.<br><br>\n",
    "Beberapa Peneliti melakukan penelitian, Berdasarkan jurnal [3] penelitian dilakukan dengan metode pengambilan data formulir data WHO, the International Severe Acute Respiratory and Emerging Infection Consortium dan wawancara secara langsung dengan pasien.Berdasarkan jurnal [1] dan [4] penelitian dilakukan dengan memperoleh data laboratorium dari test CT dada dan PCR pasien. Dan berdasarkan penelitian yang dilakukan pada jurnal [2] data diperoleh dari  Demografi, riwayat medis, Pemeriksa Laboratorium, dan komorbiditas. Data diolah berdasarkan analisis statistik, peneliti pada jurnal [3] menggunakan pembanding Uji Mann-Whitney, Median(IQR), dan Boxplot. Sedangkan peneliti pada jurnal [2] untuk data kontinu menggunaka uji t, jika data tidak normal menggunakan Uji Mann-Whitney, untuk uji koefisien korelasi menggunakan pearson dan spearman, dan untuk data kategorik, dibandingkan dengan uji Chi-square. <br><br>\n",
    "Berdasarkan penelitian tersebut, virus ini menyebar dan memiliki gejala umum dan gejala sekunder. Gejala Umum tersebut seperti demam, batuk, dan kelelahan [1][3][4][6].Sedangkan gejala sekunder yaitu produksi dahak, sakit kepala, hemoptisis, diare [3][6],pembawa asimtomatik, penyakit pernafasan akut (ISPA), dan pneumonia [5]. Kriteria pasien yang terjangkit virus ini pada umumnya kebanyakan laki-laki, berusia 40 tahun-an, dan sudah terpapar mengunjungi ke pasar Wuhan, tidak ada remaja dan anak-anak yang terinfeksi [3]. Namun berdasarkan penelitian yang dilakukan peneliti jurnal [5] pasien yang terjangkit bisa dari berbagai kalangan usia. Dari virus inipun menimbulkan beberapa komplikasi yaitu gangguan pernapasan akut , RNAaemia , cedera jantung akut, dan infeksi sekunder [3][4]. ARDS dan VT/VF [1].Dan juga Hipertensi, diabetes melitus, dan kardiovaskular[5].<br><br>\n",
    "Masa inkubasi yang terjadi didalam tubuh seseorang berbeda-beda. Menurut [5][6], masa inkubasi covid-19 mempunyai rata-rata 5,2 hari dengan interval kepercayaan 95% sedangkan menurut [1], pasien asimtomatik masa inkubasi 0-19 hari dan pada pasien keseluruhan paling lama selama 24 hari. Berdasarkan penelitian yang dilakukan mengenai pengobatan, belum ada pengobatan  antivirus untuk infeksi coronavirus yang terbukti efektif [2][3][6]. Dikarenakan belum adanya pengobatan yang efektif tersebut, maka beberapa tindakan dilakukan guna memutus rantai penyebaran virus dan memperkuat antibodi tubuh pasien, seperti penggunaan masker N95 yang teruji fit dan tindakan pencegahan melalui udara[3]. Dan juga pemberian antivirus, antibiotik, terapi kortikosteroid, terapi glukokortikoid imun dan dukungan pernapasan[2].Namun penelitian terus dilakukan untuk berusaha mendapatkan obat yang efektif dapat membunuh virus tersebut, seperti dengan kombinasi lopinavir dan ritonavir [3][6], klorokuin[4], dan antivirus remdesivir [5][6].<br><br>"
   ]
  },
  {
   "cell_type": "markdown",
   "metadata": {},
   "source": [
    "\n",
    "\n",
    "1. Bai, Yan et al. 2020. “Presumed Asymptomatic Carrier Transmission of COVID-19.” JAMA - Journal of the American Medical Association.\n",
    "2. Guo, Tao et al. 2020. “Cardiovascular Implications of Fatal Outcomes of Patients with Coronavirus Disease 2019 (COVID-19).” JAMA Cardiology.\n",
    "3. Huang, Chaolin et al. 2020. “Clinical Features of Patients Infected with 2019 Novel Coronavirus in Wuhan, China.” The Lancet.\n",
    "4. Inciardi, Riccardo M. et al. 2020. “Cardiac Involvement in a Patient with Coronavirus Disease 2019 (COVID-19).” JAMA Cardiology.\n",
    "5. Lai, Chih Cheng et al. 2020. “Asymptomatic Carrier State, Acute Respiratory Disease, and Pneumonia Due to Severe Acute Respiratory Syndrome Coronavirus 2 (SARS-CoV-2): Facts and Myths.” Journal of Microbiology, Immunology and Infection.\n",
    "6. Wu, Yi Chi, Ching Sung Chen, and Yu Jiun Chan. 2020. “The Outbreak of COVID-19: An Overview.” Journal of the Chinese Medical Association."
   ]
  },
  {
   "cell_type": "markdown",
   "metadata": {},
   "source": [
    "## Tugas Dataset\n",
    "## Dataset 01"
   ]
  },
  {
   "cell_type": "code",
   "execution_count": 1,
   "metadata": {},
   "outputs": [],
   "source": [
    "import pandas as pd"
   ]
  },
  {
   "cell_type": "code",
   "execution_count": 2,
   "metadata": {},
   "outputs": [],
   "source": [
    "data = pd.read_csv(\"data/Kelompok_03_Statistika_Dataset_01.csv\")"
   ]
  },
  {
   "cell_type": "code",
   "execution_count": 3,
   "metadata": {
    "scrolled": true
   },
   "outputs": [
    {
     "data": {
      "text/html": [
       "<div>\n",
       "<style scoped>\n",
       "    .dataframe tbody tr th:only-of-type {\n",
       "        vertical-align: middle;\n",
       "    }\n",
       "\n",
       "    .dataframe tbody tr th {\n",
       "        vertical-align: top;\n",
       "    }\n",
       "\n",
       "    .dataframe thead th {\n",
       "        text-align: right;\n",
       "    }\n",
       "</style>\n",
       "<table border=\"1\" class=\"dataframe\">\n",
       "  <thead>\n",
       "    <tr style=\"text-align: right;\">\n",
       "      <th></th>\n",
       "      <th>Entity</th>\n",
       "      <th>Code</th>\n",
       "      <th>Date</th>\n",
       "      <th>Cumulative total tests</th>\n",
       "    </tr>\n",
       "  </thead>\n",
       "  <tbody>\n",
       "    <tr>\n",
       "      <th>0</th>\n",
       "      <td>Australia</td>\n",
       "      <td>AUS</td>\n",
       "      <td>Mar 22, 2020</td>\n",
       "      <td>143056</td>\n",
       "    </tr>\n",
       "    <tr>\n",
       "      <th>1</th>\n",
       "      <td>Australia</td>\n",
       "      <td>AUS</td>\n",
       "      <td>Mar 29, 2020</td>\n",
       "      <td>211261</td>\n",
       "    </tr>\n",
       "    <tr>\n",
       "      <th>2</th>\n",
       "      <td>Australia</td>\n",
       "      <td>AUS</td>\n",
       "      <td>Apr 2, 2020</td>\n",
       "      <td>261000</td>\n",
       "    </tr>\n",
       "    <tr>\n",
       "      <th>3</th>\n",
       "      <td>Australia</td>\n",
       "      <td>AUS</td>\n",
       "      <td>Apr 3, 2020</td>\n",
       "      <td>277278</td>\n",
       "    </tr>\n",
       "    <tr>\n",
       "      <th>4</th>\n",
       "      <td>Australia</td>\n",
       "      <td>AUS</td>\n",
       "      <td>Apr 6, 2020</td>\n",
       "      <td>302759</td>\n",
       "    </tr>\n",
       "  </tbody>\n",
       "</table>\n",
       "</div>"
      ],
      "text/plain": [
       "      Entity Code          Date  Cumulative total tests\n",
       "0  Australia  AUS  Mar 22, 2020                  143056\n",
       "1  Australia  AUS  Mar 29, 2020                  211261\n",
       "2  Australia  AUS   Apr 2, 2020                  261000\n",
       "3  Australia  AUS   Apr 3, 2020                  277278\n",
       "4  Australia  AUS   Apr 6, 2020                  302759"
      ]
     },
     "execution_count": 3,
     "metadata": {},
     "output_type": "execute_result"
    }
   ],
   "source": [
    "data.head()"
   ]
  },
  {
   "cell_type": "markdown",
   "metadata": {},
   "source": [
    "## Metadata\n",
    "\n",
    "- Link                            : https://data.humdata.org/dataset/total-covid-19-tests-performed-by-country\n",
    "- Source                          : Our World in Data\n",
    "- Contributor\t                  : HDX\n",
    "- Date of Dataset\t              : Jan 18, 2020 - Apr 08, 2020\n",
    "- Updated\t                      : April 9, 2020\n",
    "- Expected Update Frequency\t      : As needed\n",
    "- Location\t                      : Australia,  Austria,  Bahrain,  Belgium,  Canada,  Costa Rica,  Czechia,  Denmark,                                             Ecuador,  Estonia,  Finland,  France,  Germany,  Greece,  Iceland,  India,  Indonesia,                                         Ireland,  Italy,  Japan,  Korea, Republic Of,  Lithuania,  Malaysia,  Netherlands, ... More\n",
    "- Visibility\t                  : Public\n",
    "- License\t                      : Creative Commons Attribution International\n",
    "- Methodology\t                  : Direct Observational Data/Anecdotal Data\n",
    "- Caveats / Comments\t          : For comparisons across the series it is important to understand the definitions of the                                         different measures. These are provided here.\n",
    "- Tags\t                          : COVID-19, EPIDEMICS AND OUTBREAKS, HEALTH\n",
    "- File Format\t                  : CSV\n"
   ]
  },
  {
   "cell_type": "markdown",
   "metadata": {},
   "source": [
    "## Dataset 02"
   ]
  },
  {
   "cell_type": "code",
   "execution_count": 4,
   "metadata": {},
   "outputs": [],
   "source": [
    "data = pd.read_csv(\"data/Kelompok_03_Statistika_Dataset_02.csv\")"
   ]
  },
  {
   "cell_type": "code",
   "execution_count": 5,
   "metadata": {},
   "outputs": [
    {
     "data": {
      "text/html": [
       "<div>\n",
       "<style scoped>\n",
       "    .dataframe tbody tr th:only-of-type {\n",
       "        vertical-align: middle;\n",
       "    }\n",
       "\n",
       "    .dataframe tbody tr th {\n",
       "        vertical-align: top;\n",
       "    }\n",
       "\n",
       "    .dataframe thead th {\n",
       "        text-align: right;\n",
       "    }\n",
       "</style>\n",
       "<table border=\"1\" class=\"dataframe\">\n",
       "  <thead>\n",
       "    <tr style=\"text-align: right;\">\n",
       "      <th></th>\n",
       "      <th>date</th>\n",
       "      <th>county</th>\n",
       "      <th>state</th>\n",
       "      <th>fips</th>\n",
       "      <th>cases</th>\n",
       "      <th>deaths</th>\n",
       "    </tr>\n",
       "  </thead>\n",
       "  <tbody>\n",
       "    <tr>\n",
       "      <th>0</th>\n",
       "      <td>2020-01-21</td>\n",
       "      <td>Snohomish</td>\n",
       "      <td>Washington</td>\n",
       "      <td>53061.0</td>\n",
       "      <td>1</td>\n",
       "      <td>0</td>\n",
       "    </tr>\n",
       "    <tr>\n",
       "      <th>1</th>\n",
       "      <td>2020-01-22</td>\n",
       "      <td>Snohomish</td>\n",
       "      <td>Washington</td>\n",
       "      <td>53061.0</td>\n",
       "      <td>1</td>\n",
       "      <td>0</td>\n",
       "    </tr>\n",
       "    <tr>\n",
       "      <th>2</th>\n",
       "      <td>2020-01-23</td>\n",
       "      <td>Snohomish</td>\n",
       "      <td>Washington</td>\n",
       "      <td>53061.0</td>\n",
       "      <td>1</td>\n",
       "      <td>0</td>\n",
       "    </tr>\n",
       "    <tr>\n",
       "      <th>3</th>\n",
       "      <td>2020-01-24</td>\n",
       "      <td>Cook</td>\n",
       "      <td>Illinois</td>\n",
       "      <td>17031.0</td>\n",
       "      <td>1</td>\n",
       "      <td>0</td>\n",
       "    </tr>\n",
       "    <tr>\n",
       "      <th>4</th>\n",
       "      <td>2020-01-24</td>\n",
       "      <td>Snohomish</td>\n",
       "      <td>Washington</td>\n",
       "      <td>53061.0</td>\n",
       "      <td>1</td>\n",
       "      <td>0</td>\n",
       "    </tr>\n",
       "  </tbody>\n",
       "</table>\n",
       "</div>"
      ],
      "text/plain": [
       "         date     county       state     fips  cases  deaths\n",
       "0  2020-01-21  Snohomish  Washington  53061.0      1       0\n",
       "1  2020-01-22  Snohomish  Washington  53061.0      1       0\n",
       "2  2020-01-23  Snohomish  Washington  53061.0      1       0\n",
       "3  2020-01-24       Cook    Illinois  17031.0      1       0\n",
       "4  2020-01-24  Snohomish  Washington  53061.0      1       0"
      ]
     },
     "execution_count": 5,
     "metadata": {},
     "output_type": "execute_result"
    }
   ],
   "source": [
    "data.head()"
   ]
  },
  {
   "cell_type": "markdown",
   "metadata": {},
   "source": [
    "## Metadata\n",
    "\n",
    "\n",
    "- Link : https://www.kaggle.com/fireballbyedimyrnmom/us-counties-covid-19-dataset\n",
    "### Usage Information\n",
    "- License\t                : Other (specified in description)\n",
    "- DOI\t                    : 10.34740/kaggle/dsv/1078191\n",
    "- Citation\t            : Mitch Smith and , et al., “US counties COVID 19 dataset.” Kaggle, doi: 10.34740/KAGGLE/DSV/1078191.\n",
    "- Visibility\t            : Public\n",
    "- Sources\t                : https://raw.githubusercontent.com/nytimes/covid-19-data/master/us-counties.csv\n",
    "### Provenance\n",
    "- Collection methodology\t: I collected the link from a public GitHub link by the NYT. It is opened to the public. According - to the authors, \"The data is the product of dozens of journalists working across several time zones to monitor news conferences, analyze data releases and seek clarification from public officials on how they categorize cases\". Located at: https://raw.githubusercontent.com/nytimes/covid-19-data/master/us-counties.csv\n",
    "### Maintainers\n",
    "- Dataset owner\t        : MyrnaMFL\n",
    "### Authors \n",
    "- Name                    : Mitch Smith\n",
    "- Bio\t                    : Contributors for the NYT's with data collection\n",
    "- Name                 \t: , et al.\n",
    "### Updates\n",
    "- Expected update frequency :\tWeekly\n",
    "- Last updated\t          : 2020-04-13\n",
    "- Date created\t          : 2020-03-28\n",
    "- Current version\t          : Version 31\n",
    "### Date Coverage\n",
    "- Temporal coverage\t      : 2020-01-21 to 2020-03-27\n",
    "- Spatial coverage\t      : United States\n"
   ]
  }
 ],
 "metadata": {
  "kernelspec": {
   "display_name": "Python 3",
   "language": "python",
   "name": "python3"
  },
  "language_info": {
   "codemirror_mode": {
    "name": "ipython",
    "version": 3
   },
   "file_extension": ".py",
   "mimetype": "text/x-python",
   "name": "python",
   "nbconvert_exporter": "python",
   "pygments_lexer": "ipython3",
   "version": "3.7.6"
  }
 },
 "nbformat": 4,
 "nbformat_minor": 4
}
