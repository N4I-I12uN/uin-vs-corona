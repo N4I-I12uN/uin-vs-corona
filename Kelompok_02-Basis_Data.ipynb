{
 "cells": [
  {
   "cell_type": "markdown",
   "metadata": {},
   "source": [
    "# TUGAS BASIS DATA\n",
    "\n",
    "## Membuat database dari 3 dataset tentang COVID-19 \n",
    "\n",
    "1. Data statistik perkembangan covid19 di indonesia\n",
    "2. Data covid19 indonesia per provinsi\n",
    "3. Data jumlah_rs_rujukan_per_provinsi\n",
    "\n",
    "## Kelompok 2 Komputasi\n",
    "\n",
    "1. Zahrotul Aulia (11160940000024)\n",
    "2. Rani Istiqomah (11170940000007)\n",
    "3. Rista Cahya Putri (11170940000008)\n",
    "4. Nadhilah Farhana (11160940000084)\n",
    "5. Panji Reza Pratama (11160940000044)\n",
    "6. Tsabita Mahdiyyah Umar (11170940000030)\n",
    "7. Nihayah Azzahra (11170940000015)\n",
    "8. Laras Julyanti (11160940000029)\n",
    "9. Savira Pratiwi (11160940000026)\n",
    "10. Riza Fahriska (11170940000045)"
   ]
  },
  {
   "cell_type": "code",
   "execution_count": 1,
   "metadata": {},
   "outputs": [
    {
     "name": "stdout",
     "output_type": "stream",
     "text": [
      "Collecting mysql-connector-python\n",
      "  Downloading https://files.pythonhosted.org/packages/b6/f6/78a05be0987bd531dec8064288f4eef1148fe784c364dd3b37cccf400c02/mysql_connector_python-8.0.19-cp37-cp37m-win_amd64.whl (4.3MB)\n",
      "Collecting dnspython==1.16.0 (from mysql-connector-python)\n",
      "  Downloading https://files.pythonhosted.org/packages/ec/d3/3aa0e7213ef72b8585747aa0e271a9523e713813b9a20177ebe1e939deb0/dnspython-1.16.0-py2.py3-none-any.whl (188kB)\n",
      "Collecting protobuf==3.6.1 (from mysql-connector-python)\n",
      "  Downloading https://files.pythonhosted.org/packages/77/78/a7f1ce761e2c738e209857175cd4f90a8562d1bde32868a8cd5290d58926/protobuf-3.6.1-py2.py3-none-any.whl (390kB)\n",
      "Requirement already satisfied: six>=1.9 in c:\\users\\user\\anaconda3\\lib\\site-packages (from protobuf==3.6.1->mysql-connector-python) (1.12.0)\n",
      "Requirement already satisfied: setuptools in c:\\users\\user\\anaconda3\\lib\\site-packages (from protobuf==3.6.1->mysql-connector-python) (40.8.0)\n",
      "Installing collected packages: dnspython, protobuf, mysql-connector-python\n",
      "Successfully installed dnspython-1.16.0 mysql-connector-python-8.0.19 protobuf-3.6.1\n"
     ]
    }
   ],
   "source": [
    "!pip install mysql-connector-python"
   ]
  },
  {
   "cell_type": "code",
   "execution_count": 2,
   "metadata": {},
   "outputs": [],
   "source": [
    "import mysql.connector as mysql\n",
    "from time import time"
   ]
  },
  {
   "cell_type": "code",
   "execution_count": 3,
   "metadata": {},
   "outputs": [],
   "source": [
    "dbPar = {'db_': '', 'usr':'', 'pas':'', 'hst':''}"
   ]
  },
  {
   "cell_type": "code",
   "execution_count": 4,
   "metadata": {},
   "outputs": [],
   "source": [
    "def conMql(dbPar, maxTry=3):\n",
    "    try_ = 0\n",
    "    while try_<maxTry:\n",
    "        try:\n",
    "            return mysql.connect(host=dbPar['hst'],user=dbPar['usr'],passwd=dbPar['pas'],db=dbPar['db_'])\n",
    "        except (mysql.Error) as e:      \n",
    "            print (\"Error Connecting to MySQL %d: %s, please wait retrying\" % (e.args[0],e.args[1]))\n",
    "            try_ += 1; time.sleep(1)"
   ]
  },
  {
   "cell_type": "code",
   "execution_count": 5,
   "metadata": {},
   "outputs": [
    {
     "data": {
      "text/plain": [
       "'Done'"
      ]
     },
     "execution_count": 5,
     "metadata": {},
     "output_type": "execute_result"
    }
   ],
   "source": [
    "# Create Table 1\n",
    "\n",
    "db = conMql(dbPar)\n",
    "cur = db.cursor()\n",
    "cur.execute('''CREATE TABLE statistik_perkembangan_covid_indonesia (\n",
    "  hari_ke INT(10) NOT NULL,\n",
    "  tanggal DATE NOT NULL,\n",
    "  jumlah_kasus_baru_per_hari INT(10) NOT NULL,\n",
    "  jumlah_kasus_kumulatif INT(10) NOT NULL,\n",
    "  jumlah_pasien_dalam_perawatan INT(10) NOT NULL,\n",
    "  persentase_pasien_dalam_perawatan FLOAT NOT NULL,\n",
    "  jumlah_pasien_sembuh INT(10) NOT NULL,\n",
    "  persentase_pasien_sembuh FLOAT NOT NULL,\n",
    "  jumlah_pasien_meninggal INT(10) NOT NULL,\n",
    "  persentase_pasien_meninggal FLOAT NOT NULL,\n",
    "  jumlah_kasus_sembuh_per_hari INT(10) NOT NULL,\n",
    "  jumlah_kasus_meninggal_per_hari INT(10) NOT NULL,\n",
    "  jumlah_kasus_dirawat_per_hari INT(10) NOT NULL,\n",
    "  PRIMARY KEY (tanggal));\n",
    "  ''')\n",
    "cur.close();\n",
    "db.close()\n",
    "'Done'"
   ]
  },
  {
   "cell_type": "code",
   "execution_count": 8,
   "metadata": {},
   "outputs": [
    {
     "data": {
      "text/plain": [
       "'Done'"
      ]
     },
     "execution_count": 8,
     "metadata": {},
     "output_type": "execute_result"
    }
   ],
   "source": [
    "# Create Table 2\n",
    "\n",
    "db = conMql(dbPar)\n",
    "cur = db.cursor()\n",
    "cur.execute('''CREATE TABLE covid19_indonesia_per_provinsi (\n",
    "  X VARCHAR(10) DEFAULT NULL,\n",
    "  Y VARCHAR(11) DEFAULT NULL,\n",
    "  FID INT(10) DEFAULT NULL,\n",
    "  kode_prov VARCHAR(8) DEFAULT NULL,\n",
    "  provinsi VARCHAR(30) NOT NULL,\n",
    "  kode_posi INT(3) NOT NULL,\n",
    "  kode_semb INT(3) NOT NULL,\n",
    "  kode_meni INT(3) NOT NULL,\n",
    "  PRIMARY KEY (provinsi));\n",
    "  ''')\n",
    "cur.close();\n",
    "db.close()\n",
    "'Done'"
   ]
  },
  {
   "cell_type": "code",
   "execution_count": 9,
   "metadata": {},
   "outputs": [
    {
     "data": {
      "text/plain": [
       "'Done'"
      ]
     },
     "execution_count": 9,
     "metadata": {},
     "output_type": "execute_result"
    }
   ],
   "source": [
    "# Create Table 3\n",
    "\n",
    "db = conMql(dbPar)\n",
    "cur = db.cursor()\n",
    "cur.execute('''CREATE TABLE jumlah_rs_rujukan_per_provinsi (\n",
    "    provinsi VARCHAR(30) NOT NULL,\n",
    "    jumlah VARCHAR(4) NOT NULL,\n",
    "    PRIMARY KEY (provinsi));\n",
    "    ''')\n",
    "cur.close();\n",
    "db.close()\n",
    "'Done'"
   ]
  },
  {
   "cell_type": "code",
   "execution_count": 10,
   "metadata": {},
   "outputs": [
    {
     "data": {
      "text/plain": [
       "'Done'"
      ]
     },
     "execution_count": 10,
     "metadata": {},
     "output_type": "execute_result"
    }
   ],
   "source": [
    "# Insert Data 1\n",
    "\n",
    "db = conMql(dbPar)\n",
    "cur = db.cursor()\n",
    "cur.execute('''\n",
    "INSERT INTO statistik_perkembangan_covid_indonesia\n",
    "(hari_ke, tanggal, jumlah_kasus_baru_per_hari, jumlah_kasus_kumulatif, jumlah_pasien_dalam_perawatan,\n",
    "persentase_pasien_dalam_perawatan, jumlah_pasien_sembuh, persentase_pasien_sembuh, jumlah_pasien_meninggal, \n",
    "persentase_pasien_meninggal, jumlah_kasus_sembuh_per_hari, jumlah_kasus_meninggal_per_hari, jumlah_kasus_dirawat_per_hari)\n",
    "VALUES\n",
    "(1, '2020-03-02', 2, 2, 2, 100, 0, 0, 0, 0, 0, 0, 2),\n",
    "(2, '2020-03-03', 0, 2, 2, 100, 0, 0, 0, 0, 0, 0, 0),\n",
    "(3, '2020-03-04', 0, 2, 2, 100, 0, 0, 0, 0, 0, 0, 0),\n",
    "(4, '2020-03-05', 0, 2, 2, 100, 0, 0, 0, 0, 0, 0, 0),\n",
    "(5, '2020-03-06', 2, 4, 4, 100, 0, 0, 0, 0, 0, 0, 2),\n",
    "(6, '2020-03-07', 0, 4, 4, 100, 0, 0, 0, 0, 0, 0, 0),\n",
    "(7, '2020-03-08', 2, 6, 6, 100, 0, 0, 0, 0, 0, 0, 2),\n",
    "(8, '2020-03-09', 13, 19, 19, 100, 0, 0, 0, 0, 0, 0, 13),\n",
    "(9, '2020-03-10', 8, 27, 25, 92.59, 2, 7.41, 0, 0, 2, 0, 6),\n",
    "(10, '2020-03-11', 7, 34, 31, 91.17, 2, 5.88, 1, 2.94, 0, 1, 6),\n",
    "(11, '2020-03-12', 0, 34, 31, 91.17, 2, 5.88, 1, 2.94, 0, 0, 0),\n",
    "(12, '2020-03-13', 35, 69, 63, 91.3, 2, 2.89, 4, 5.79, 0, 3, 32),\n",
    "(13, '2020-03-14', 27, 96, 83, 86.46, 8, 8.33, 5, 5.21, 6, 1, 20),\n",
    "(14, '2020-03-15', 21, 117, 104, 88.89, 8, 6.84, 5, 4.27, 0, 0, 21),\n",
    "(15, '2020-03-16', 17, 134, 121, 90.29, 8, 5.97, 5, 3.73, 0, 0, 17),\n",
    "(16, '2020-03-17', 38, 172, 158, 91.86, 9, 5.23, 5, 2.91, 1, 0, 37),\n",
    "(17, '2020-03-18', 55, 227, 197, 86.78, 11, 4.85, 19, 8.37, 2, 14, 39),\n",
    "(18, '2020-03-19', 81, 308, 268, 87.01, 15, 4.87, 25, 8.12, 4, 6, 71),\n",
    "(19, '2020-03-20', 61, 369, 320, 86.72, 17, 4.61, 32, 8.67, 2, 7, 52),\n",
    "(20, '2020-03-21', 81, 450, 392, 87.11, 20, 4.44, 38, 8.44, 3, 6, 72),\n",
    "(21, '2020-03-22', 64, 514, 437, 85.02, 29, 5.64, 48, 9.34, 9, 10, 45),\n",
    "(22, '2020-03-23', 65, 579, 500, 86.36, 30, 5.18, 49, 8.46, 1, 1, 63),\n",
    "(23, '2020-03-24', 106, 685, 600, 87.59, 30, 4.38, 55, 8.03, 0, 6, 100),\n",
    "(24, '2020-03-25', 105, 790, 701, 88.73, 31, 3.92, 58, 7.34, 1, 3, 101),\n",
    "(25, '2020-03-26', 103, 893, 780, 87.35, 35, 3.92, 78, 8.73, 4, 20, 79);\n",
    "''')\n",
    "cur.close();\n",
    "db.close()\n",
    "'Done'"
   ]
  },
  {
   "cell_type": "code",
   "execution_count": 11,
   "metadata": {},
   "outputs": [
    {
     "data": {
      "text/plain": [
       "'Done'"
      ]
     },
     "execution_count": 11,
     "metadata": {},
     "output_type": "execute_result"
    }
   ],
   "source": [
    "# Insert Data 2\n",
    "\n",
    "db = conMql(dbPar)\n",
    "cur = db.cursor()\n",
    "cur.execute('''\n",
    "INSERT INTO covid19_indonesia_per_provinsi (X, Y, FID, kode_prov, provinsi, kode_posi, kode_semb, kode_meni)\n",
    "VALUES\n",
    "('96.9095227', '4.225081892', 1, '11', 'Aceh', 5, 1, 1),\n",
    "('115.131651', '-8.36974326', 17, '51', 'Bali', 81, 19, 2),\n",
    "('106.109197', '-6.45618159', 16, '36', 'Banten', 281, 7, 21),\n",
    "('102.26312', '-3.79116', 7, '17', 'Bengkulu', 4, 0, 1),\n",
    "('110.445367', '-7.89501381', 14, '34', 'Daerah Istimewa Yogyakarta', 41, 6, 7),\n",
    "('106.82649', '-6.17148', 11, '31', 'DKI Jakarta', 2044, 142, 195),\n",
    "('123.06184', '0.53707', 29, '75', 'Gorontalo', 1, 0, 0),\n",
    "('103.59932', '-1.61775', 5, '15', 'Jambi', 4, 0, 0),\n",
    "('107.602807', '-6.91998021', 12, '32', 'Jawa Barat', 450, 19, 43),\n",
    "('110.201112', '-7.25897038', 13, '33', 'Jawa Tengah', 200, 19, 25),\n",
    "('112.733678', '-7.72011301', 15, '35', 'Jawa Timur', 386, 68, 27),\n",
    "('111.120762', '-0.08590123', 20, '61', 'Kalimantan Barat', 13, 3, 3),\n",
    "('115.311307', '-2.44977913', 22, '63', 'Kalimantan Selatan', 34, 0, 2),\n",
    "('113.181047', '-1.63434004', 21, '62', 'Kalimantan Tengah', 24, 7, 1),\n",
    "('116.470858', '0.461046227', 23, '64', 'Kalimantan Timur', 35, 6, 1),\n",
    "('116.216718', '2.888820961', 24, '65', 'Kalimantan Utara', 16, 0, 1),\n",
    "('105.986948', '-2.25295641', 8, '19', 'Kepulauan Bangka Belitung', 4, 0, 1),\n",
    "('108.202228', '3.915947241', 10, '21', 'Kepulauan Riau', 21, 2, 1),\n",
    "('105.018313', '-4.91807308', 9, '18', 'Lampung', 20, 1, 1),\n",
    "('129.360425', '-3.12611934', 31, '81', 'Maluku', 11, 1, 0),\n",
    "('128.015929', '0.869337001', 32, '82', 'Maluku Utara', 2, 1, 0),\n",
    "('117.506862', '-8.60665208', 18, '52', 'Nusa Tenggara Barat', 37, 2, 2),\n",
    "('121.141829', '-8.60484333', 19, '53', 'Nusa Tenggara Timur', 1, 0, 0),\n",
    "('140', '-5', 33, '94', 'Papua', 63, 5, 3),\n",
    "('132.968341', '-2.04172328', 34, '91', 'Papua Barat', 3, 0, 1),\n",
    "('101.812892', '0.510525849', 4, '14', 'Riau', 16, 1, 0),\n",
    "('119.343471', '-2.46190201', 30, '76', 'Sulawesi Barat', 5, 2, 1),\n",
    "('120.161157', '-3.74711571', 27, '73', 'Sulawesi Selatan', 222, 25, 15),\n",
    "('120.449592', '-1.45921495', 26, '72', 'Sulawesi Tengah', 19, 2, 2),\n",
    "('122.078678', '-4.13280397', 28, '74', 'Sulawesi Tenggara', 16, 1, 1),\n",
    "('124.535378', '1.286097687', 25, '71', 'Sulawesi Utara', 17, 1, 2),\n",
    "('100.466805', '-0.85191434', 3, '13', 'Sumatera Barat', 44, 6, 3),\n",
    "('104.170419', '-3.21334682', 6, '16', 'Sumatera Selatan', 21, 4, 2),\n",
    "('99.0578878', '2.184779215', 2, '12', 'Sumatera Utara', 65, 8, 8);\n",
    "''')\n",
    "cur.close();\n",
    "db.close()\n",
    "'Done'"
   ]
  },
  {
   "cell_type": "code",
   "execution_count": 12,
   "metadata": {},
   "outputs": [
    {
     "data": {
      "text/plain": [
       "'Done'"
      ]
     },
     "execution_count": 12,
     "metadata": {},
     "output_type": "execute_result"
    }
   ],
   "source": [
    "# Insert Data 3\n",
    "\n",
    "db = conMql(dbPar)\n",
    "cur = db.cursor()\n",
    "cur.execute('''\n",
    "INSERT INTO jumlah_rs_rujukan_per_provinsi (provinsi, jumlah)\n",
    "VALUES\n",
    "('Jawa Tengah', '13'), ('Jawa Timur', '11'), ('DKI Jakarta', '8'),\n",
    "('Jawa Barat', '8'), ('Sulawesi Selatan', '7'), ('Sumatera Utara', '5'),\n",
    "('Sumatera Selatan', '5'), ('Kalimantan Timur', '5'), ('Sulawesi Tengah', '5'),\n",
    "('Lampung', '4'), ('Kepulauan Riau', '4'), ('DI Yogyakarta', '4'),\n",
    "('Bali', '4'), ('Nusa Tenggara Barat', '4'), ('Kalimantan Barat', '4'),\n",
    "('Sulawesi Utara', '4'), ('Riau', '3'), ('Bengkulu', '3'),\n",
    "('Nusa Tenggara Timur ', '3'), ('Kalimantan Tengah', '3'), ('Maluku', '3'),\n",
    "('Papua', '3'), ('Aceh', '2'), ('Sumatera Barat', '2'),\n",
    "('Kepulauan Bangka Belitung', '2'), ('Banten', '2'), ('Kalimantan Selatan', '2'),\n",
    "('Kalimantan Utara', '2'), ('Papua Barat', '2'), ('Jambi', '1'),\n",
    "('Sulawesi Tenggara', '1'), ('Gorontalo', '1'), ('Sulawesi Barat', '1'),\n",
    "('Maluku Utara', '1');\n",
    "''')\n",
    "cur.close();\n",
    "db.close()\n",
    "'Done'"
   ]
  }
 ],
 "metadata": {
  "kernelspec": {
   "display_name": "Python 3",
   "language": "python",
   "name": "python3"
  },
  "language_info": {
   "codemirror_mode": {
    "name": "ipython",
    "version": 3
   },
   "file_extension": ".py",
   "mimetype": "text/x-python",
   "name": "python",
   "nbconvert_exporter": "python",
   "pygments_lexer": "ipython3",
   "version": "3.6.7"
  }
 },
 "nbformat": 4,
 "nbformat_minor": 2
}
