{
 "cells": [
  {
   "cell_type": "markdown",
   "metadata": {},
   "source": [
    "# Tugas Metode Penelitian - Literature Review\n",
    "## Kelompok 3 Komputasi\n",
    "\n",
    "Anggota Kelompok:\n",
    "- Siti Masitoh (11170940000010)\n",
    "- Priska Maya Putri (11170940000019)\n",
    "- Dina Mariana (1170940000026)\n",
    "- Soraya Zulfa S. (1170940000038)\n",
    "- Mufi Oktaviani (1170940000057)\n",
    "- Hana Sheila (1170940000059)"
   ]
  },
  {
   "cell_type": "markdown",
   "metadata": {},
   "source": [
    "# Corona Virus Disease 2019 "
   ]
  },
  {
   "cell_type": "code",
   "execution_count": null,
   "metadata": {},
   "outputs": [],
   "source": []
  },
  {
   "cell_type": "markdown",
   "metadata": {},
   "source": [
    "<img src=\"images/bagan.png\">"
   ]
  },
  {
   "cell_type": "markdown",
   "metadata": {},
   "source": [
    "Review<br><br>\n",
    "\n",
    "Wabah COVID-19 (sebelumnya 2019-nCoV) disebabkan oleh virus SARS-CoV-2. Wabah ini dipicu pada Desember 2019 di kota Wuhan di provinsi Hubei, Cina [3].  Penyakit Coronavirus baru yang muncul pada akhir 2019 (COVID-19) telah menyebar ke mayoritas negara Asia Timur dan Tenggara dan telah mengakibatkan sejumlah besar kematian [2]. Penyebaran COVID-19 tampaknya mengikuti pola difusi relokasi di luar negara-negara tetangga hingga COVID-19 terus menyebar ke seluruh dunia [3][4]. Virus ini diketahui ditularkan dari hewan ke manusia seperti dilaporkan bahwa sebagian pasien  terkena paparan dari Pasar Grosir Makanan Laut Huanan yang menjual banyak spesies hewan hidup [6]. Mengingat fakta bahwa pemukiman manusia semakin berkembang ke ruang hidup hewan, ada kemungkinan akan lebih banyak transfer virus dari hewan ke manusia [4]. <br><br>\n",
    "Penyebaran COVID-19 tidak mengenal etnis dan jenis kelamin [4]. Penyakit ini dapat membunuh orang dari kelompok sosial ekonomi apa pun di masyarakat mana pun [3]. Segala usia rentan terinfeksi virus corona [6]. Resiko kematian pada orang dewasa muda lebih rendah dibandingkan pada orang dewasa tua, paling banyak sekitar 0,1% -0,2% [2].  Namun  resiko kematian pada orang dewasa muda pun tidak bisa dianggap tidak parah.  Manifestasi klinis kasus COVID-19 anak-anak umumnya kurang parah dibandingkan dengan pasien dewasa, namun anak-anak kecil, terutama bayi, rentan terhadap infeksi [6][2]. Karena sebagian besar anak-anak ini cenderung untuk mengekspos diri mereka kepada anggota keluarga dan atau anak-anak lain,  menunjukkan bahwa penyebaran COVID-19 juga melalui penularan dari manusia ke manusia[6]<br><br>\n",
    "Negara- negara dengan skor HDI yang tinggi, populasi yang relatif besar, pendapatan tinggi dan diaspora (perantau) Tiongkok yang cukup besar menjadi negara dengan volume populasi terinfeksi  terbesar [4]. Karena virus menyebar secara global antar negara akhirnya pemerintah negara mengeluarkan kebijakan Pandemic Mitigation Restriction (PMR), lockdown, larangan perjalanan, dan diharuskan tinggal di rumah untuk pencegahan penyebaran [1][5]. Walaupun kebijakan PMR ini dimaksudkan untuk memperlambat penyebaran virus, namun  dampak juga terjadi pada kegiatan ekonomi global [1][3]. Melambatnya ekonomi dengan gangguan produksi, fungsi rantai pasokan global pun terganggu [1][3].  Kepanikan di kalangan konsumen dan perusahaan telah mengubah pola konsumsi  dan penyesuaian harga dengan stock di pasar yang berdampak menciptakan anomali pasar [1][3.] Pembatasan perdagangan, penangguhan semua perdagangan memperlambat kegiatan ekonomi global akibatnya indeks saham global telah jatuh,  menyebabkan banyak pihak gagal dan rugi [1][3][5].<br><br>\n",
    "Dalam hal ini pemerintah disarankan menerapkan beberapa kebijakan yang diharapkan bisa mengurangi dampak Covid-19 dari segi epidemi maupun dampak covid-19 pada transaksi bisnis internasional dan perekonomian global [3][5]. Dalam jangka pendek mengkarantina orang yang terkena dampak, mengurangi interaksi sosial berskala besar dan sosiaisasi prakek hidup bersih adalah respons yang efektif. Dalam bidang ekonomi pun pemerintah mengambil kebijakan untuk tetap melaksanakan bank pusat perekonomian serta investasi kesehatan dan pembangunan jangka panjang.[3]<br><br>\n",
    "\n",
    "\n",
    "REFERENSI\n",
    "[1] Gormsen, N. J., & Koijen, R. S. J. (2020). Coronavirus: Impact on Stock Prices and Growth Expectations. SSRN Electronic Journal. https://doi.org/10.2139/ssrn.3555917\n",
    "\n",
    "[2] Kobayashi, T., Jung, S., Linton, N., Kinoshita, R., Hayashi, K., Miyama, T., et al. (2020). Communicating the Risk of Death from Novel. Journal of Clinical Madichine.\n",
    "\n",
    "[3]  McKibbin, W. J., & Fernando, R. (2020). The Global Macroeconomic Impacts of COVID-19: Seven Scenarios. SSRN Electronic Journal. https://doi.org/10.2139/ssrn.3547729\n",
    "\n",
    "[4] Sirkeci, I., & Yucesahin, M. M. (2020). Coronavirus and Migration: Analysis of Human Mobility and the Spread of Covid-19. MIGRATION LETTERS.\n",
    "\n",
    "[5] TORSELLO, M., & WINKLER, M. M. (2020). Coronavirus-infected international business transactions: a preliminary diagnosis. European Journal of Risk Regulation.\n",
    "\n",
    "[6] Yuanyuan Dong, MD. Xi Mo, PhD., Yabin Hu, MD., Xin Qi, PhD, Jiang, F., Zhongyi Jiang, MD, et al.(2020). Epidemiology of COVID-19 Among Children in China. PEDIATRICS.\n",
    "\n"
   ]
  }
 ],
 "metadata": {
  "kernelspec": {
   "display_name": "Python 3",
   "language": "python",
   "name": "python3"
  },
  "language_info": {
   "codemirror_mode": {
    "name": "ipython",
    "version": 3
   },
   "file_extension": ".py",
   "mimetype": "text/x-python",
   "name": "python",
   "nbconvert_exporter": "python",
   "pygments_lexer": "ipython3",
   "version": "3.6.6"
  }
 },
 "nbformat": 4,
 "nbformat_minor": 2
}
