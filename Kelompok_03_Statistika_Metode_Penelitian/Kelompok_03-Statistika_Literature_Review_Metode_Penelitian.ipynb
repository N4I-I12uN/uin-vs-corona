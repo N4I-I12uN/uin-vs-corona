{
 "cells": [
  {
   "cell_type": "markdown",
   "metadata": {},
   "source": [
    "# Tugas Mata Kuliah Metode Penelitian\n",
    "\n",
    "## Kelompok 3 Statistik\n",
    "\n",
    "Nama Anggota:\n",
    "- Amirah Bonita (11170940000033)\n",
    "- Laila Khodriatun Khasanah (11170940000035)\n",
    "- Serin Tias Sidqi (11170940000040)\n",
    "- Novi Fitianingrum (11170940000048)\n",
    "- Delia Nur Rizki (11170940000056)\n",
    "- Suci Rama Wahyuni (11170940000058)\n",
    "   "
   ]
  },
  {
   "cell_type": "markdown",
   "metadata": {},
   "source": [
    "# Corona Virus Disease 2019"
   ]
  },
  {
   "cell_type": "markdown",
   "metadata": {},
   "source": [
    "<img src=\"Mind Map Covid-19 Kelompok 3 statistika.jpg\"/>"
   ]
  },
  {
   "cell_type": "markdown",
   "metadata": {},
   "source": [
    "Coronaviruses adalah virus RNA positif yang tidak tersegmentasi yang termasuk dalam keluarga Coronaviridae dan urutan Nidovirales dan menyebar secara luas pada manusia dan mamalia lainnya [3]. Berdasarkan penelitian yang dilakukan di China [1][2][3][5][6], pada awal infeksi kasus pneumonia ini muncul, penyebabnya tidak diketahui [3][4][5][6]. Namun, menurut penelitian sebelumnya tentang investigasi epidemiologi SARS, reservoir alami Covid-19 adalah kelelawar, prevalensi kelelawar koroner diantara kehidupan liar adalah tinggi dan memiliki kesamaan identitas urutan tertentu dengan virus SARS. Oleh karena itu, kelelawar dianggap sebagai reservoir inang alami dari coronavirus yang mirip SARS. Secara teoritis, jika orang memakan reservoir atau hewan yang terinfeksi, mereka dapat terinfeksi [2]. Untuk penyebaran dan penularan bisa melalui berbagai media. Menurut [4] penyebaran virus bisa melalui darah atau sistem limfatik dari saluran pernapasan, serta menurut [2] partikel virus menyebar melalui mukosa pernapasan dan secara bersamaan menginfeksi sel-sel lain yang dapat memicu badai sitokin dan serangkaian respon imun. Sedangkan dalam [6] saat ini, tidak ada bukti penularan melalui udara. RNA virus dapat ditemukan dalam pelepasan cairan hidung, dahak, dan kadang-kadang darah atau tinja. Tetapi penularan melalui fecal oral belum dikonfirmasi.<br><br>\n",
    "Beberapa Peneliti melakukan penelitian, Berdasarkan jurnal [3] penelitian dilakukan dengan metode pengambilan data formulir data WHO, the International Severe Acute Respiratory and Emerging Infection Consortium dan wawancara secara langsung dengan pasien.Berdasarkan jurnal [1] dan [4] penelitian dilakukan dengan memperoleh data laboratorium dari test CT dada dan PCR pasien. Dan berdasarkan penelitian yang dilakukan pada jurnal [2] data diperoleh dari  Demografi, riwayat medis, Pemeriksa Laboratorium, dan komorbiditas. Data diolah berdasarkan analisis statistik, peneliti pada jurnal [3] menggunakan pembanding Uji Mann-Whitney, Median(IQR), dan Boxplot. Sedangkan peneliti pada jurnal [2] untuk data kontinu menggunaka uji t, jika data tidak normal menggunakan Uji Mann-Whitney, untuk uji koefisien korelasi menggunakan pearson dan spearman, dan untuk data kategorik, dibandingkan dengan uji Chi-square. <br><br>\n",
    "Berdasarkan penelitian tersebut, virus ini menyebar dan memiliki gejala umum dan gejala sekunder. Gejala Umum tersebut seperti demam, batuk, dan kelelahan [1][3][4][6].Sedangkan gejala sekunder yaitu produksi dahak, sakit kepala, hemoptisis, diare [3][6],pembawa asimtomatik, penyakit pernafasan akut (ISPA), dan pneumonia [5]. Kriteria pasien yang terjangkit virus ini pada umumnya kebanyakan laki-laki, berusia 40 tahun-an, dan sudah terpapar mengunjungi ke pasar Wuhan, tidak ada remaja dan anak-anak yang terinfeksi [3]. Namun berdasarkan penelitian yang dilakukan peneliti jurnal [5] pasien yang terjangkit bisa dari berbagai kalangan usia. Dari virus inipun menimbulkan beberapa komplikasi yaitu gangguan pernapasan akut , RNAaemia , cedera jantung akut, dan infeksi sekunder [3][4]. ARDS dan VT/VF [1].Dan juga Hipertensi, diabetes melitus, dan kardiovaskular[5].<br><br>\n",
    "Masa inkubasi yang terjadi didalam tubuh seseorang berbeda-beda. Menurut [5][6], masa inkubasi covid-19 mempunyai rata-rata 5,2 hari dengan interval kepercayaan 95% sedangkan menurut [1], pasien asimtomatik masa inkubasi 0-19 hari dan pada pasien keseluruhan paling lama selama 24 hari. Berdasarkan penelitian yang dilakukan mengenai pengobatan, belum ada pengobatan  antivirus untuk infeksi coronavirus yang terbukti efektif [2][3][6]. Dikarenakan belum adanya pengobatan yang efektif tersebut, maka beberapa tindakan dilakukan guna memutus rantai penyebaran virus dan memperkuat antibodi tubuh pasien, seperti penggunaan masker N95 yang teruji fit dan tindakan pencegahan melalui udara[3]. Dan juga pemberian antivirus, antibiotik, terapi kortikosteroid, terapi glukokortikoid imun dan dukungan pernapasan[2].Namun penelitian terus dilakukan untuk berusaha mendapatkan obat yang efektif dapat membunuh virus tersebut, seperti dengan kombinasi lopinavir dan ritonavir [3][6], klorokuin[4], dan antivirus remdesivir [5][6].<br><br>"
   ]
  },
  {
   "cell_type": "markdown",
   "metadata": {},
   "source": [
    "\n",
    "\n",
    "1. Bai, Yan et al. 2020. “Presumed Asymptomatic Carrier Transmission of COVID-19.” JAMA - Journal of the American Medical Association.\n",
    "2. Guo, Tao et al. 2020. “Cardiovascular Implications of Fatal Outcomes of Patients with Coronavirus Disease 2019 (COVID-19).” JAMA Cardiology.\n",
    "3. Huang, Chaolin et al. 2020. “Clinical Features of Patients Infected with 2019 Novel Coronavirus in Wuhan, China.” The Lancet.\n",
    "4. Inciardi, Riccardo M. et al. 2020. “Cardiac Involvement in a Patient with Coronavirus Disease 2019 (COVID-19).” JAMA Cardiology.\n",
    "5. Lai, Chih Cheng et al. 2020. “Asymptomatic Carrier State, Acute Respiratory Disease, and Pneumonia Due to Severe Acute Respiratory Syndrome Coronavirus 2 (SARS-CoV-2): Facts and Myths.” Journal of Microbiology, Immunology and Infection.\n",
    "6. Wu, Yi Chi, Ching Sung Chen, and Yu Jiun Chan. 2020. “The Outbreak of COVID-19: An Overview.” Journal of the Chinese Medical Association."
   ]
  }
 ],
 "metadata": {
  "kernelspec": {
   "display_name": "Python 3",
   "language": "python",
   "name": "python3"
  },
  "language_info": {
   "codemirror_mode": {
    "name": "ipython",
    "version": 3
   },
   "file_extension": ".py",
   "mimetype": "text/x-python",
   "name": "python",
   "nbconvert_exporter": "python",
   "pygments_lexer": "ipython3",
   "version": "3.7.6"
  }
 },
 "nbformat": 4,
 "nbformat_minor": 4
}
