{
 "cells": [
  {
   "cell_type": "markdown",
   "metadata": {},
   "source": [
    "# DATA MINING "
   ]
  },
  {
   "cell_type": "markdown",
   "metadata": {},
   "source": [
    "## Kelompok 4\n",
    "\n",
    "- Siti Hafshah Nurul Arafah (11160940000083)\n",
    "- Amel Andrisa Alpa (11160940000055)\n",
    "- Astri Apriliya (11160940000081)\n",
    "- Etih Supriatna (11160940000060)\n",
    "- Ibrahim Farhan (11170940000043)\n",
    "- Fatih Al Gusda P (11170940000050)\n",
    "- Adrian Fajar (11170940000036)\n",
    "- Fany Andisa (11170940000021)\n",
    "- Yulisnawati (11170940000005)"
   ]
  },
  {
   "cell_type": "markdown",
   "metadata": {},
   "source": [
    "### Data 1"
   ]
  },
  {
   "cell_type": "code",
   "execution_count": 1,
   "metadata": {},
   "outputs": [],
   "source": [
    "%matplotlib inline\n",
    "import warnings; warnings.simplefilter('ignore')\n",
    "import scipy, itertools, pandas as pd, matplotlib.pyplot as plt, seaborn as sns, numpy as np\n",
    "from scipy import stats\n",
    "from sklearn.preprocessing import StandardScaler, MinMaxScaler\n",
    "\n",
    "plt.style.use('bmh'); sns.set()"
   ]
  },
  {
   "cell_type": "code",
   "execution_count": 2,
   "metadata": {},
   "outputs": [],
   "source": [
    "Data_Covid = pd.read_csv('C:/Users/Amellia Andrisa Alpa/Downloads/Data M/Daily-Update IDN-COVID19 - Sheet5.csv')\n",
    "Data_Covid1 = pd.read_csv('C:/Users/Amellia Andrisa Alpa/Downloads/Data M/Case by Provinces - IDN-COVID19 - Sheet2.csv')"
   ]
  },
  {
   "cell_type": "code",
   "execution_count": 3,
   "metadata": {},
   "outputs": [
    {
     "name": "stdout",
     "output_type": "stream",
     "text": [
      "<class 'pandas.core.frame.DataFrame'>\n",
      "RangeIndex: 40 entries, 0 to 39\n",
      "Data columns (total 10 columns):\n",
      "Day                        40 non-null int64\n",
      "Date                       40 non-null object\n",
      "Daily_cases                40 non-null int64\n",
      "Cumulative_cases           40 non-null int64\n",
      "Patient_under_treatment    40 non-null int64\n",
      "Recovered_cases            32 non-null float64\n",
      "Total_death                31 non-null float64\n",
      "Recovered-cases_perDay     32 non-null float64\n",
      "Death_cases_perDay         31 non-null float64\n",
      "Treatment_cases_perDay     36 non-null float64\n",
      "dtypes: float64(5), int64(4), object(1)\n",
      "memory usage: 3.2+ KB\n"
     ]
    }
   ],
   "source": [
    "Data_Covid.info()"
   ]
  },
  {
   "cell_type": "code",
   "execution_count": 4,
   "metadata": {},
   "outputs": [
    {
     "data": {
      "text/html": [
       "<div>\n",
       "<style scoped>\n",
       "    .dataframe tbody tr th:only-of-type {\n",
       "        vertical-align: middle;\n",
       "    }\n",
       "\n",
       "    .dataframe tbody tr th {\n",
       "        vertical-align: top;\n",
       "    }\n",
       "\n",
       "    .dataframe thead th {\n",
       "        text-align: right;\n",
       "    }\n",
       "</style>\n",
       "<table border=\"1\" class=\"dataframe\">\n",
       "  <thead>\n",
       "    <tr style=\"text-align: right;\">\n",
       "      <th></th>\n",
       "      <th>Day</th>\n",
       "      <th>Date</th>\n",
       "      <th>Daily_cases</th>\n",
       "      <th>Cumulative_cases</th>\n",
       "      <th>Patient_under_treatment</th>\n",
       "      <th>Recovered_cases</th>\n",
       "      <th>Total_death</th>\n",
       "      <th>Recovered-cases_perDay</th>\n",
       "      <th>Death_cases_perDay</th>\n",
       "      <th>Treatment_cases_perDay</th>\n",
       "    </tr>\n",
       "  </thead>\n",
       "  <tbody>\n",
       "    <tr>\n",
       "      <th>0</th>\n",
       "      <td>1</td>\n",
       "      <td>2020-03-02T00:00:00.000Z</td>\n",
       "      <td>2</td>\n",
       "      <td>2</td>\n",
       "      <td>2</td>\n",
       "      <td>NaN</td>\n",
       "      <td>NaN</td>\n",
       "      <td>NaN</td>\n",
       "      <td>NaN</td>\n",
       "      <td>NaN</td>\n",
       "    </tr>\n",
       "    <tr>\n",
       "      <th>1</th>\n",
       "      <td>2</td>\n",
       "      <td>2020-03-03T00:00:00.000Z</td>\n",
       "      <td>2</td>\n",
       "      <td>2</td>\n",
       "      <td>2</td>\n",
       "      <td>NaN</td>\n",
       "      <td>NaN</td>\n",
       "      <td>NaN</td>\n",
       "      <td>NaN</td>\n",
       "      <td>NaN</td>\n",
       "    </tr>\n",
       "    <tr>\n",
       "      <th>2</th>\n",
       "      <td>3</td>\n",
       "      <td>2020-03-04T00:00:00.000Z</td>\n",
       "      <td>2</td>\n",
       "      <td>2</td>\n",
       "      <td>2</td>\n",
       "      <td>NaN</td>\n",
       "      <td>NaN</td>\n",
       "      <td>NaN</td>\n",
       "      <td>NaN</td>\n",
       "      <td>NaN</td>\n",
       "    </tr>\n",
       "    <tr>\n",
       "      <th>3</th>\n",
       "      <td>4</td>\n",
       "      <td>2020-03-05T00:00:00.000Z</td>\n",
       "      <td>2</td>\n",
       "      <td>2</td>\n",
       "      <td>2</td>\n",
       "      <td>NaN</td>\n",
       "      <td>NaN</td>\n",
       "      <td>NaN</td>\n",
       "      <td>NaN</td>\n",
       "      <td>NaN</td>\n",
       "    </tr>\n",
       "    <tr>\n",
       "      <th>4</th>\n",
       "      <td>5</td>\n",
       "      <td>2020-03-06T00:00:00.000Z</td>\n",
       "      <td>2</td>\n",
       "      <td>4</td>\n",
       "      <td>4</td>\n",
       "      <td>NaN</td>\n",
       "      <td>NaN</td>\n",
       "      <td>NaN</td>\n",
       "      <td>NaN</td>\n",
       "      <td>2.0</td>\n",
       "    </tr>\n",
       "    <tr>\n",
       "      <th>5</th>\n",
       "      <td>6</td>\n",
       "      <td>2020-03-07T00:00:00.000Z</td>\n",
       "      <td>2</td>\n",
       "      <td>4</td>\n",
       "      <td>4</td>\n",
       "      <td>NaN</td>\n",
       "      <td>NaN</td>\n",
       "      <td>NaN</td>\n",
       "      <td>NaN</td>\n",
       "      <td>2.0</td>\n",
       "    </tr>\n",
       "    <tr>\n",
       "      <th>6</th>\n",
       "      <td>7</td>\n",
       "      <td>2020-03-08T00:00:00.000Z</td>\n",
       "      <td>2</td>\n",
       "      <td>6</td>\n",
       "      <td>6</td>\n",
       "      <td>NaN</td>\n",
       "      <td>NaN</td>\n",
       "      <td>NaN</td>\n",
       "      <td>NaN</td>\n",
       "      <td>2.0</td>\n",
       "    </tr>\n",
       "    <tr>\n",
       "      <th>7</th>\n",
       "      <td>8</td>\n",
       "      <td>2020-03-09T00:00:00.000Z</td>\n",
       "      <td>13</td>\n",
       "      <td>19</td>\n",
       "      <td>19</td>\n",
       "      <td>NaN</td>\n",
       "      <td>NaN</td>\n",
       "      <td>NaN</td>\n",
       "      <td>NaN</td>\n",
       "      <td>13.0</td>\n",
       "    </tr>\n",
       "    <tr>\n",
       "      <th>8</th>\n",
       "      <td>9</td>\n",
       "      <td>2020-03-10T00:00:00.000Z</td>\n",
       "      <td>8</td>\n",
       "      <td>27</td>\n",
       "      <td>25</td>\n",
       "      <td>2.0</td>\n",
       "      <td>NaN</td>\n",
       "      <td>2.0</td>\n",
       "      <td>NaN</td>\n",
       "      <td>6.0</td>\n",
       "    </tr>\n",
       "    <tr>\n",
       "      <th>9</th>\n",
       "      <td>10</td>\n",
       "      <td>2020-03-11T00:00:00.000Z</td>\n",
       "      <td>7</td>\n",
       "      <td>34</td>\n",
       "      <td>31</td>\n",
       "      <td>2.0</td>\n",
       "      <td>1.0</td>\n",
       "      <td>2.0</td>\n",
       "      <td>1.0</td>\n",
       "      <td>6.0</td>\n",
       "    </tr>\n",
       "  </tbody>\n",
       "</table>\n",
       "</div>"
      ],
      "text/plain": [
       "   Day                      Date  Daily_cases  Cumulative_cases  \\\n",
       "0    1  2020-03-02T00:00:00.000Z            2                 2   \n",
       "1    2  2020-03-03T00:00:00.000Z            2                 2   \n",
       "2    3  2020-03-04T00:00:00.000Z            2                 2   \n",
       "3    4  2020-03-05T00:00:00.000Z            2                 2   \n",
       "4    5  2020-03-06T00:00:00.000Z            2                 4   \n",
       "5    6  2020-03-07T00:00:00.000Z            2                 4   \n",
       "6    7  2020-03-08T00:00:00.000Z            2                 6   \n",
       "7    8  2020-03-09T00:00:00.000Z           13                19   \n",
       "8    9  2020-03-10T00:00:00.000Z            8                27   \n",
       "9   10  2020-03-11T00:00:00.000Z            7                34   \n",
       "\n",
       "   Patient_under_treatment  Recovered_cases  Total_death  \\\n",
       "0                        2              NaN          NaN   \n",
       "1                        2              NaN          NaN   \n",
       "2                        2              NaN          NaN   \n",
       "3                        2              NaN          NaN   \n",
       "4                        4              NaN          NaN   \n",
       "5                        4              NaN          NaN   \n",
       "6                        6              NaN          NaN   \n",
       "7                       19              NaN          NaN   \n",
       "8                       25              2.0          NaN   \n",
       "9                       31              2.0          1.0   \n",
       "\n",
       "   Recovered-cases_perDay  Death_cases_perDay  Treatment_cases_perDay  \n",
       "0                     NaN                 NaN                     NaN  \n",
       "1                     NaN                 NaN                     NaN  \n",
       "2                     NaN                 NaN                     NaN  \n",
       "3                     NaN                 NaN                     NaN  \n",
       "4                     NaN                 NaN                     2.0  \n",
       "5                     NaN                 NaN                     2.0  \n",
       "6                     NaN                 NaN                     2.0  \n",
       "7                     NaN                 NaN                    13.0  \n",
       "8                     2.0                 NaN                     6.0  \n",
       "9                     2.0                 1.0                     6.0  "
      ]
     },
     "execution_count": 4,
     "metadata": {},
     "output_type": "execute_result"
    }
   ],
   "source": [
    "Data_Covid.head(10)"
   ]
  },
  {
   "cell_type": "code",
   "execution_count": 5,
   "metadata": {},
   "outputs": [
    {
     "data": {
      "text/html": [
       "<div>\n",
       "<style scoped>\n",
       "    .dataframe tbody tr th:only-of-type {\n",
       "        vertical-align: middle;\n",
       "    }\n",
       "\n",
       "    .dataframe tbody tr th {\n",
       "        vertical-align: top;\n",
       "    }\n",
       "\n",
       "    .dataframe thead th {\n",
       "        text-align: right;\n",
       "    }\n",
       "</style>\n",
       "<table border=\"1\" class=\"dataframe\">\n",
       "  <thead>\n",
       "    <tr style=\"text-align: right;\">\n",
       "      <th></th>\n",
       "      <th>Day</th>\n",
       "      <th>Date</th>\n",
       "      <th>Daily_cases</th>\n",
       "      <th>Cumulative_cases</th>\n",
       "      <th>Patient_under_treatment</th>\n",
       "      <th>Recovered_cases</th>\n",
       "      <th>Total_death</th>\n",
       "      <th>Recovered-cases_perDay</th>\n",
       "      <th>Death_cases_perDay</th>\n",
       "      <th>Treatment_cases_perDay</th>\n",
       "    </tr>\n",
       "  </thead>\n",
       "  <tbody>\n",
       "    <tr>\n",
       "      <th>33</th>\n",
       "      <td>34</td>\n",
       "      <td>2020-04-04T00:00:00.000Z</td>\n",
       "      <td>106</td>\n",
       "      <td>2092</td>\n",
       "      <td>1751</td>\n",
       "      <td>150.0</td>\n",
       "      <td>191.0</td>\n",
       "      <td>16.0</td>\n",
       "      <td>10.0</td>\n",
       "      <td>80.0</td>\n",
       "    </tr>\n",
       "    <tr>\n",
       "      <th>34</th>\n",
       "      <td>35</td>\n",
       "      <td>2020-04-05T00:00:00.000Z</td>\n",
       "      <td>181</td>\n",
       "      <td>2273</td>\n",
       "      <td>1911</td>\n",
       "      <td>164.0</td>\n",
       "      <td>198.0</td>\n",
       "      <td>14.0</td>\n",
       "      <td>7.0</td>\n",
       "      <td>160.0</td>\n",
       "    </tr>\n",
       "    <tr>\n",
       "      <th>35</th>\n",
       "      <td>36</td>\n",
       "      <td>2020-04-06T00:00:00.000Z</td>\n",
       "      <td>218</td>\n",
       "      <td>2491</td>\n",
       "      <td>2090</td>\n",
       "      <td>192.0</td>\n",
       "      <td>209.0</td>\n",
       "      <td>28.0</td>\n",
       "      <td>11.0</td>\n",
       "      <td>179.0</td>\n",
       "    </tr>\n",
       "    <tr>\n",
       "      <th>36</th>\n",
       "      <td>37</td>\n",
       "      <td>2020-04-07T00:00:00.000Z</td>\n",
       "      <td>247</td>\n",
       "      <td>2738</td>\n",
       "      <td>2313</td>\n",
       "      <td>204.0</td>\n",
       "      <td>221.0</td>\n",
       "      <td>12.0</td>\n",
       "      <td>12.0</td>\n",
       "      <td>223.0</td>\n",
       "    </tr>\n",
       "    <tr>\n",
       "      <th>37</th>\n",
       "      <td>38</td>\n",
       "      <td>2020-04-08T00:00:00.000Z</td>\n",
       "      <td>218</td>\n",
       "      <td>2956</td>\n",
       "      <td>2494</td>\n",
       "      <td>222.0</td>\n",
       "      <td>240.0</td>\n",
       "      <td>18.0</td>\n",
       "      <td>19.0</td>\n",
       "      <td>181.0</td>\n",
       "    </tr>\n",
       "    <tr>\n",
       "      <th>38</th>\n",
       "      <td>39</td>\n",
       "      <td>2020-04-09T00:00:00.000Z</td>\n",
       "      <td>337</td>\n",
       "      <td>3293</td>\n",
       "      <td>2761</td>\n",
       "      <td>252.0</td>\n",
       "      <td>280.0</td>\n",
       "      <td>30.0</td>\n",
       "      <td>40.0</td>\n",
       "      <td>267.0</td>\n",
       "    </tr>\n",
       "    <tr>\n",
       "      <th>39</th>\n",
       "      <td>40</td>\n",
       "      <td>2020-04-10T00:00:00.000Z</td>\n",
       "      <td>219</td>\n",
       "      <td>3512</td>\n",
       "      <td>2924</td>\n",
       "      <td>282.0</td>\n",
       "      <td>306.0</td>\n",
       "      <td>30.0</td>\n",
       "      <td>26.0</td>\n",
       "      <td>163.0</td>\n",
       "    </tr>\n",
       "  </tbody>\n",
       "</table>\n",
       "</div>"
      ],
      "text/plain": [
       "    Day                      Date  Daily_cases  Cumulative_cases  \\\n",
       "33   34  2020-04-04T00:00:00.000Z          106              2092   \n",
       "34   35  2020-04-05T00:00:00.000Z          181              2273   \n",
       "35   36  2020-04-06T00:00:00.000Z          218              2491   \n",
       "36   37  2020-04-07T00:00:00.000Z          247              2738   \n",
       "37   38  2020-04-08T00:00:00.000Z          218              2956   \n",
       "38   39  2020-04-09T00:00:00.000Z          337              3293   \n",
       "39   40  2020-04-10T00:00:00.000Z          219              3512   \n",
       "\n",
       "    Patient_under_treatment  Recovered_cases  Total_death  \\\n",
       "33                     1751            150.0        191.0   \n",
       "34                     1911            164.0        198.0   \n",
       "35                     2090            192.0        209.0   \n",
       "36                     2313            204.0        221.0   \n",
       "37                     2494            222.0        240.0   \n",
       "38                     2761            252.0        280.0   \n",
       "39                     2924            282.0        306.0   \n",
       "\n",
       "    Recovered-cases_perDay  Death_cases_perDay  Treatment_cases_perDay  \n",
       "33                    16.0                10.0                    80.0  \n",
       "34                    14.0                 7.0                   160.0  \n",
       "35                    28.0                11.0                   179.0  \n",
       "36                    12.0                12.0                   223.0  \n",
       "37                    18.0                19.0                   181.0  \n",
       "38                    30.0                40.0                   267.0  \n",
       "39                    30.0                26.0                   163.0  "
      ]
     },
     "execution_count": 5,
     "metadata": {},
     "output_type": "execute_result"
    }
   ],
   "source": [
    "Data_Covid.tail(7)"
   ]
  },
  {
   "cell_type": "code",
   "execution_count": 6,
   "metadata": {},
   "outputs": [
    {
     "data": {
      "text/html": [
       "<div>\n",
       "<style scoped>\n",
       "    .dataframe tbody tr th:only-of-type {\n",
       "        vertical-align: middle;\n",
       "    }\n",
       "\n",
       "    .dataframe tbody tr th {\n",
       "        vertical-align: top;\n",
       "    }\n",
       "\n",
       "    .dataframe thead th {\n",
       "        text-align: right;\n",
       "    }\n",
       "</style>\n",
       "<table border=\"1\" class=\"dataframe\">\n",
       "  <thead>\n",
       "    <tr style=\"text-align: right;\">\n",
       "      <th></th>\n",
       "      <th>Day</th>\n",
       "      <th>Daily_cases</th>\n",
       "      <th>Cumulative_cases</th>\n",
       "      <th>Patient_under_treatment</th>\n",
       "      <th>Recovered_cases</th>\n",
       "      <th>Total_death</th>\n",
       "      <th>Recovered-cases_perDay</th>\n",
       "      <th>Death_cases_perDay</th>\n",
       "      <th>Treatment_cases_perDay</th>\n",
       "    </tr>\n",
       "  </thead>\n",
       "  <tbody>\n",
       "    <tr>\n",
       "      <th>count</th>\n",
       "      <td>40.000000</td>\n",
       "      <td>40.000000</td>\n",
       "      <td>40.000000</td>\n",
       "      <td>40.000000</td>\n",
       "      <td>32.000000</td>\n",
       "      <td>31.000000</td>\n",
       "      <td>32.000000</td>\n",
       "      <td>31.000000</td>\n",
       "      <td>36.000000</td>\n",
       "    </tr>\n",
       "    <tr>\n",
       "      <th>mean</th>\n",
       "      <td>20.500000</td>\n",
       "      <td>88.175000</td>\n",
       "      <td>919.375000</td>\n",
       "      <td>780.850000</td>\n",
       "      <td>74.968750</td>\n",
       "      <td>101.354839</td>\n",
       "      <td>9.406250</td>\n",
       "      <td>10.000000</td>\n",
       "      <td>81.388889</td>\n",
       "    </tr>\n",
       "    <tr>\n",
       "      <th>std</th>\n",
       "      <td>11.690452</td>\n",
       "      <td>83.412748</td>\n",
       "      <td>1047.325769</td>\n",
       "      <td>878.411315</td>\n",
       "      <td>82.202929</td>\n",
       "      <td>91.432142</td>\n",
       "      <td>8.893127</td>\n",
       "      <td>8.698659</td>\n",
       "      <td>67.751343</td>\n",
       "    </tr>\n",
       "    <tr>\n",
       "      <th>min</th>\n",
       "      <td>1.000000</td>\n",
       "      <td>2.000000</td>\n",
       "      <td>2.000000</td>\n",
       "      <td>2.000000</td>\n",
       "      <td>2.000000</td>\n",
       "      <td>1.000000</td>\n",
       "      <td>1.000000</td>\n",
       "      <td>1.000000</td>\n",
       "      <td>2.000000</td>\n",
       "    </tr>\n",
       "    <tr>\n",
       "      <th>25%</th>\n",
       "      <td>10.750000</td>\n",
       "      <td>11.750000</td>\n",
       "      <td>34.000000</td>\n",
       "      <td>31.000000</td>\n",
       "      <td>10.500000</td>\n",
       "      <td>22.000000</td>\n",
       "      <td>2.000000</td>\n",
       "      <td>3.000000</td>\n",
       "      <td>20.750000</td>\n",
       "    </tr>\n",
       "    <tr>\n",
       "      <th>50%</th>\n",
       "      <td>20.500000</td>\n",
       "      <td>73.000000</td>\n",
       "      <td>482.000000</td>\n",
       "      <td>414.500000</td>\n",
       "      <td>33.000000</td>\n",
       "      <td>78.000000</td>\n",
       "      <td>6.000000</td>\n",
       "      <td>9.000000</td>\n",
       "      <td>75.500000</td>\n",
       "    </tr>\n",
       "    <tr>\n",
       "      <th>75%</th>\n",
       "      <td>30.250000</td>\n",
       "      <td>129.250000</td>\n",
       "      <td>1565.250000</td>\n",
       "      <td>1337.500000</td>\n",
       "      <td>117.500000</td>\n",
       "      <td>175.500000</td>\n",
       "      <td>13.250000</td>\n",
       "      <td>13.500000</td>\n",
       "      <td>110.750000</td>\n",
       "    </tr>\n",
       "    <tr>\n",
       "      <th>max</th>\n",
       "      <td>40.000000</td>\n",
       "      <td>337.000000</td>\n",
       "      <td>3512.000000</td>\n",
       "      <td>2924.000000</td>\n",
       "      <td>282.000000</td>\n",
       "      <td>306.000000</td>\n",
       "      <td>30.000000</td>\n",
       "      <td>40.000000</td>\n",
       "      <td>267.000000</td>\n",
       "    </tr>\n",
       "  </tbody>\n",
       "</table>\n",
       "</div>"
      ],
      "text/plain": [
       "             Day  Daily_cases  Cumulative_cases  Patient_under_treatment  \\\n",
       "count  40.000000    40.000000         40.000000                40.000000   \n",
       "mean   20.500000    88.175000        919.375000               780.850000   \n",
       "std    11.690452    83.412748       1047.325769               878.411315   \n",
       "min     1.000000     2.000000          2.000000                 2.000000   \n",
       "25%    10.750000    11.750000         34.000000                31.000000   \n",
       "50%    20.500000    73.000000        482.000000               414.500000   \n",
       "75%    30.250000   129.250000       1565.250000              1337.500000   \n",
       "max    40.000000   337.000000       3512.000000              2924.000000   \n",
       "\n",
       "       Recovered_cases  Total_death  Recovered-cases_perDay  \\\n",
       "count        32.000000    31.000000               32.000000   \n",
       "mean         74.968750   101.354839                9.406250   \n",
       "std          82.202929    91.432142                8.893127   \n",
       "min           2.000000     1.000000                1.000000   \n",
       "25%          10.500000    22.000000                2.000000   \n",
       "50%          33.000000    78.000000                6.000000   \n",
       "75%         117.500000   175.500000               13.250000   \n",
       "max         282.000000   306.000000               30.000000   \n",
       "\n",
       "       Death_cases_perDay  Treatment_cases_perDay  \n",
       "count           31.000000               36.000000  \n",
       "mean            10.000000               81.388889  \n",
       "std              8.698659               67.751343  \n",
       "min              1.000000                2.000000  \n",
       "25%              3.000000               20.750000  \n",
       "50%              9.000000               75.500000  \n",
       "75%             13.500000              110.750000  \n",
       "max             40.000000              267.000000  "
      ]
     },
     "execution_count": 6,
     "metadata": {},
     "output_type": "execute_result"
    }
   ],
   "source": [
    "Data_Covid.describe()"
   ]
  },
  {
   "cell_type": "code",
   "execution_count": 7,
   "metadata": {},
   "outputs": [
    {
     "data": {
      "text/plain": [
       "Day                          int64\n",
       "Date                        object\n",
       "Daily_cases                  int64\n",
       "Cumulative_cases             int64\n",
       "Patient_under_treatment      int64\n",
       "Recovered_cases            float64\n",
       "Total_death                float64\n",
       "Recovered-cases_perDay     float64\n",
       "Death_cases_perDay         float64\n",
       "Treatment_cases_perDay     float64\n",
       "dtype: object"
      ]
     },
     "execution_count": 7,
     "metadata": {},
     "output_type": "execute_result"
    }
   ],
   "source": [
    "Data_Covid.dtypes"
   ]
  },
  {
   "cell_type": "code",
   "execution_count": 8,
   "metadata": {},
   "outputs": [],
   "source": [
    "Data_Covid.drop(columns=['Day'],inplace=True)\n",
    "Data_Covid['Date']=Data_Covid['Date'].astype('datetime64')"
   ]
  },
  {
   "cell_type": "code",
   "execution_count": 9,
   "metadata": {},
   "outputs": [
    {
     "data": {
      "text/plain": [
       "Date                       datetime64[ns]\n",
       "Daily_cases                         int64\n",
       "Cumulative_cases                    int64\n",
       "Patient_under_treatment             int64\n",
       "Recovered_cases                   float64\n",
       "Total_death                       float64\n",
       "Recovered-cases_perDay            float64\n",
       "Death_cases_perDay                float64\n",
       "Treatment_cases_perDay            float64\n",
       "dtype: object"
      ]
     },
     "execution_count": 9,
     "metadata": {},
     "output_type": "execute_result"
    }
   ],
   "source": [
    "Data_Covid.dtypes"
   ]
  },
  {
   "cell_type": "code",
   "execution_count": 10,
   "metadata": {},
   "outputs": [
    {
     "data": {
      "text/html": [
       "<div>\n",
       "<style scoped>\n",
       "    .dataframe tbody tr th:only-of-type {\n",
       "        vertical-align: middle;\n",
       "    }\n",
       "\n",
       "    .dataframe tbody tr th {\n",
       "        vertical-align: top;\n",
       "    }\n",
       "\n",
       "    .dataframe thead th {\n",
       "        text-align: right;\n",
       "    }\n",
       "</style>\n",
       "<table border=\"1\" class=\"dataframe\">\n",
       "  <thead>\n",
       "    <tr style=\"text-align: right;\">\n",
       "      <th></th>\n",
       "      <th>Date</th>\n",
       "      <th>Daily_cases</th>\n",
       "      <th>Cumulative_cases</th>\n",
       "      <th>Patient_under_treatment</th>\n",
       "      <th>Recovered_cases</th>\n",
       "      <th>Total_death</th>\n",
       "      <th>Recovered-cases_perDay</th>\n",
       "      <th>Death_cases_perDay</th>\n",
       "      <th>Treatment_cases_perDay</th>\n",
       "    </tr>\n",
       "  </thead>\n",
       "  <tbody>\n",
       "    <tr>\n",
       "      <th>count</th>\n",
       "      <td>40</td>\n",
       "      <td>40.000000</td>\n",
       "      <td>40.000000</td>\n",
       "      <td>40.000000</td>\n",
       "      <td>32.000000</td>\n",
       "      <td>31.000000</td>\n",
       "      <td>32.000000</td>\n",
       "      <td>31.000000</td>\n",
       "      <td>36.000000</td>\n",
       "    </tr>\n",
       "    <tr>\n",
       "      <th>unique</th>\n",
       "      <td>40</td>\n",
       "      <td>NaN</td>\n",
       "      <td>NaN</td>\n",
       "      <td>NaN</td>\n",
       "      <td>NaN</td>\n",
       "      <td>NaN</td>\n",
       "      <td>NaN</td>\n",
       "      <td>NaN</td>\n",
       "      <td>NaN</td>\n",
       "    </tr>\n",
       "    <tr>\n",
       "      <th>top</th>\n",
       "      <td>2020-03-13 00:00:00</td>\n",
       "      <td>NaN</td>\n",
       "      <td>NaN</td>\n",
       "      <td>NaN</td>\n",
       "      <td>NaN</td>\n",
       "      <td>NaN</td>\n",
       "      <td>NaN</td>\n",
       "      <td>NaN</td>\n",
       "      <td>NaN</td>\n",
       "    </tr>\n",
       "    <tr>\n",
       "      <th>freq</th>\n",
       "      <td>1</td>\n",
       "      <td>NaN</td>\n",
       "      <td>NaN</td>\n",
       "      <td>NaN</td>\n",
       "      <td>NaN</td>\n",
       "      <td>NaN</td>\n",
       "      <td>NaN</td>\n",
       "      <td>NaN</td>\n",
       "      <td>NaN</td>\n",
       "    </tr>\n",
       "    <tr>\n",
       "      <th>first</th>\n",
       "      <td>2020-03-02 00:00:00</td>\n",
       "      <td>NaN</td>\n",
       "      <td>NaN</td>\n",
       "      <td>NaN</td>\n",
       "      <td>NaN</td>\n",
       "      <td>NaN</td>\n",
       "      <td>NaN</td>\n",
       "      <td>NaN</td>\n",
       "      <td>NaN</td>\n",
       "    </tr>\n",
       "    <tr>\n",
       "      <th>last</th>\n",
       "      <td>2020-04-10 00:00:00</td>\n",
       "      <td>NaN</td>\n",
       "      <td>NaN</td>\n",
       "      <td>NaN</td>\n",
       "      <td>NaN</td>\n",
       "      <td>NaN</td>\n",
       "      <td>NaN</td>\n",
       "      <td>NaN</td>\n",
       "      <td>NaN</td>\n",
       "    </tr>\n",
       "    <tr>\n",
       "      <th>mean</th>\n",
       "      <td>NaN</td>\n",
       "      <td>88.175000</td>\n",
       "      <td>919.375000</td>\n",
       "      <td>780.850000</td>\n",
       "      <td>74.968750</td>\n",
       "      <td>101.354839</td>\n",
       "      <td>9.406250</td>\n",
       "      <td>10.000000</td>\n",
       "      <td>81.388889</td>\n",
       "    </tr>\n",
       "    <tr>\n",
       "      <th>std</th>\n",
       "      <td>NaN</td>\n",
       "      <td>83.412748</td>\n",
       "      <td>1047.325769</td>\n",
       "      <td>878.411315</td>\n",
       "      <td>82.202929</td>\n",
       "      <td>91.432142</td>\n",
       "      <td>8.893127</td>\n",
       "      <td>8.698659</td>\n",
       "      <td>67.751343</td>\n",
       "    </tr>\n",
       "    <tr>\n",
       "      <th>min</th>\n",
       "      <td>NaN</td>\n",
       "      <td>2.000000</td>\n",
       "      <td>2.000000</td>\n",
       "      <td>2.000000</td>\n",
       "      <td>2.000000</td>\n",
       "      <td>1.000000</td>\n",
       "      <td>1.000000</td>\n",
       "      <td>1.000000</td>\n",
       "      <td>2.000000</td>\n",
       "    </tr>\n",
       "    <tr>\n",
       "      <th>25%</th>\n",
       "      <td>NaN</td>\n",
       "      <td>11.750000</td>\n",
       "      <td>34.000000</td>\n",
       "      <td>31.000000</td>\n",
       "      <td>10.500000</td>\n",
       "      <td>22.000000</td>\n",
       "      <td>2.000000</td>\n",
       "      <td>3.000000</td>\n",
       "      <td>20.750000</td>\n",
       "    </tr>\n",
       "    <tr>\n",
       "      <th>50%</th>\n",
       "      <td>NaN</td>\n",
       "      <td>73.000000</td>\n",
       "      <td>482.000000</td>\n",
       "      <td>414.500000</td>\n",
       "      <td>33.000000</td>\n",
       "      <td>78.000000</td>\n",
       "      <td>6.000000</td>\n",
       "      <td>9.000000</td>\n",
       "      <td>75.500000</td>\n",
       "    </tr>\n",
       "    <tr>\n",
       "      <th>75%</th>\n",
       "      <td>NaN</td>\n",
       "      <td>129.250000</td>\n",
       "      <td>1565.250000</td>\n",
       "      <td>1337.500000</td>\n",
       "      <td>117.500000</td>\n",
       "      <td>175.500000</td>\n",
       "      <td>13.250000</td>\n",
       "      <td>13.500000</td>\n",
       "      <td>110.750000</td>\n",
       "    </tr>\n",
       "    <tr>\n",
       "      <th>max</th>\n",
       "      <td>NaN</td>\n",
       "      <td>337.000000</td>\n",
       "      <td>3512.000000</td>\n",
       "      <td>2924.000000</td>\n",
       "      <td>282.000000</td>\n",
       "      <td>306.000000</td>\n",
       "      <td>30.000000</td>\n",
       "      <td>40.000000</td>\n",
       "      <td>267.000000</td>\n",
       "    </tr>\n",
       "  </tbody>\n",
       "</table>\n",
       "</div>"
      ],
      "text/plain": [
       "                       Date  Daily_cases  Cumulative_cases  \\\n",
       "count                    40    40.000000         40.000000   \n",
       "unique                   40          NaN               NaN   \n",
       "top     2020-03-13 00:00:00          NaN               NaN   \n",
       "freq                      1          NaN               NaN   \n",
       "first   2020-03-02 00:00:00          NaN               NaN   \n",
       "last    2020-04-10 00:00:00          NaN               NaN   \n",
       "mean                    NaN    88.175000        919.375000   \n",
       "std                     NaN    83.412748       1047.325769   \n",
       "min                     NaN     2.000000          2.000000   \n",
       "25%                     NaN    11.750000         34.000000   \n",
       "50%                     NaN    73.000000        482.000000   \n",
       "75%                     NaN   129.250000       1565.250000   \n",
       "max                     NaN   337.000000       3512.000000   \n",
       "\n",
       "        Patient_under_treatment  Recovered_cases  Total_death  \\\n",
       "count                 40.000000        32.000000    31.000000   \n",
       "unique                      NaN              NaN          NaN   \n",
       "top                         NaN              NaN          NaN   \n",
       "freq                        NaN              NaN          NaN   \n",
       "first                       NaN              NaN          NaN   \n",
       "last                        NaN              NaN          NaN   \n",
       "mean                 780.850000        74.968750   101.354839   \n",
       "std                  878.411315        82.202929    91.432142   \n",
       "min                    2.000000         2.000000     1.000000   \n",
       "25%                   31.000000        10.500000    22.000000   \n",
       "50%                  414.500000        33.000000    78.000000   \n",
       "75%                 1337.500000       117.500000   175.500000   \n",
       "max                 2924.000000       282.000000   306.000000   \n",
       "\n",
       "        Recovered-cases_perDay  Death_cases_perDay  Treatment_cases_perDay  \n",
       "count                32.000000           31.000000               36.000000  \n",
       "unique                     NaN                 NaN                     NaN  \n",
       "top                        NaN                 NaN                     NaN  \n",
       "freq                       NaN                 NaN                     NaN  \n",
       "first                      NaN                 NaN                     NaN  \n",
       "last                       NaN                 NaN                     NaN  \n",
       "mean                  9.406250           10.000000               81.388889  \n",
       "std                   8.893127            8.698659               67.751343  \n",
       "min                   1.000000            1.000000                2.000000  \n",
       "25%                   2.000000            3.000000               20.750000  \n",
       "50%                   6.000000            9.000000               75.500000  \n",
       "75%                  13.250000           13.500000              110.750000  \n",
       "max                  30.000000           40.000000              267.000000  "
      ]
     },
     "execution_count": 10,
     "metadata": {},
     "output_type": "execute_result"
    }
   ],
   "source": [
    "Data_Covid.describe(include='all')"
   ]
  },
  {
   "cell_type": "code",
   "execution_count": 11,
   "metadata": {},
   "outputs": [
    {
     "data": {
      "text/plain": [
       "Date                       0\n",
       "Daily_cases                0\n",
       "Cumulative_cases           0\n",
       "Patient_under_treatment    0\n",
       "Recovered_cases            8\n",
       "Total_death                9\n",
       "Recovered-cases_perDay     8\n",
       "Death_cases_perDay         9\n",
       "Treatment_cases_perDay     4\n",
       "dtype: int64"
      ]
     },
     "execution_count": 11,
     "metadata": {},
     "output_type": "execute_result"
    }
   ],
   "source": [
    "#Mengecek missing value pada data \n",
    "Data_Covid.isnull().sum()"
   ]
  },
  {
   "cell_type": "code",
   "execution_count": 12,
   "metadata": {},
   "outputs": [],
   "source": [
    "Data_Covid = Data_Covid.fillna(0)"
   ]
  },
  {
   "cell_type": "code",
   "execution_count": 13,
   "metadata": {},
   "outputs": [
    {
     "data": {
      "text/plain": [
       "Date                       0\n",
       "Daily_cases                0\n",
       "Cumulative_cases           0\n",
       "Patient_under_treatment    0\n",
       "Recovered_cases            0\n",
       "Total_death                0\n",
       "Recovered-cases_perDay     0\n",
       "Death_cases_perDay         0\n",
       "Treatment_cases_perDay     0\n",
       "dtype: int64"
      ]
     },
     "execution_count": 13,
     "metadata": {},
     "output_type": "execute_result"
    }
   ],
   "source": [
    "Data_Covid.isnull().sum()"
   ]
  },
  {
   "cell_type": "code",
   "execution_count": 14,
   "metadata": {},
   "outputs": [
    {
     "data": {
      "text/html": [
       "<div>\n",
       "<style scoped>\n",
       "    .dataframe tbody tr th:only-of-type {\n",
       "        vertical-align: middle;\n",
       "    }\n",
       "\n",
       "    .dataframe tbody tr th {\n",
       "        vertical-align: top;\n",
       "    }\n",
       "\n",
       "    .dataframe thead th {\n",
       "        text-align: right;\n",
       "    }\n",
       "</style>\n",
       "<table border=\"1\" class=\"dataframe\">\n",
       "  <thead>\n",
       "    <tr style=\"text-align: right;\">\n",
       "      <th></th>\n",
       "      <th>Date</th>\n",
       "      <th>Daily_cases</th>\n",
       "      <th>Cumulative_cases</th>\n",
       "      <th>Patient_under_treatment</th>\n",
       "      <th>Recovered_cases</th>\n",
       "      <th>Total_death</th>\n",
       "      <th>Recovered-cases_perDay</th>\n",
       "      <th>Death_cases_perDay</th>\n",
       "      <th>Treatment_cases_perDay</th>\n",
       "    </tr>\n",
       "  </thead>\n",
       "  <tbody>\n",
       "    <tr>\n",
       "      <th>0</th>\n",
       "      <td>2020-03-02</td>\n",
       "      <td>2</td>\n",
       "      <td>2</td>\n",
       "      <td>2</td>\n",
       "      <td>0.0</td>\n",
       "      <td>0.0</td>\n",
       "      <td>0.0</td>\n",
       "      <td>0.0</td>\n",
       "      <td>0.0</td>\n",
       "    </tr>\n",
       "    <tr>\n",
       "      <th>1</th>\n",
       "      <td>2020-03-03</td>\n",
       "      <td>2</td>\n",
       "      <td>2</td>\n",
       "      <td>2</td>\n",
       "      <td>0.0</td>\n",
       "      <td>0.0</td>\n",
       "      <td>0.0</td>\n",
       "      <td>0.0</td>\n",
       "      <td>0.0</td>\n",
       "    </tr>\n",
       "    <tr>\n",
       "      <th>2</th>\n",
       "      <td>2020-03-04</td>\n",
       "      <td>2</td>\n",
       "      <td>2</td>\n",
       "      <td>2</td>\n",
       "      <td>0.0</td>\n",
       "      <td>0.0</td>\n",
       "      <td>0.0</td>\n",
       "      <td>0.0</td>\n",
       "      <td>0.0</td>\n",
       "    </tr>\n",
       "    <tr>\n",
       "      <th>3</th>\n",
       "      <td>2020-03-05</td>\n",
       "      <td>2</td>\n",
       "      <td>2</td>\n",
       "      <td>2</td>\n",
       "      <td>0.0</td>\n",
       "      <td>0.0</td>\n",
       "      <td>0.0</td>\n",
       "      <td>0.0</td>\n",
       "      <td>0.0</td>\n",
       "    </tr>\n",
       "    <tr>\n",
       "      <th>4</th>\n",
       "      <td>2020-03-06</td>\n",
       "      <td>2</td>\n",
       "      <td>4</td>\n",
       "      <td>4</td>\n",
       "      <td>0.0</td>\n",
       "      <td>0.0</td>\n",
       "      <td>0.0</td>\n",
       "      <td>0.0</td>\n",
       "      <td>2.0</td>\n",
       "    </tr>\n",
       "    <tr>\n",
       "      <th>5</th>\n",
       "      <td>2020-03-07</td>\n",
       "      <td>2</td>\n",
       "      <td>4</td>\n",
       "      <td>4</td>\n",
       "      <td>0.0</td>\n",
       "      <td>0.0</td>\n",
       "      <td>0.0</td>\n",
       "      <td>0.0</td>\n",
       "      <td>2.0</td>\n",
       "    </tr>\n",
       "    <tr>\n",
       "      <th>6</th>\n",
       "      <td>2020-03-08</td>\n",
       "      <td>2</td>\n",
       "      <td>6</td>\n",
       "      <td>6</td>\n",
       "      <td>0.0</td>\n",
       "      <td>0.0</td>\n",
       "      <td>0.0</td>\n",
       "      <td>0.0</td>\n",
       "      <td>2.0</td>\n",
       "    </tr>\n",
       "    <tr>\n",
       "      <th>7</th>\n",
       "      <td>2020-03-09</td>\n",
       "      <td>13</td>\n",
       "      <td>19</td>\n",
       "      <td>19</td>\n",
       "      <td>0.0</td>\n",
       "      <td>0.0</td>\n",
       "      <td>0.0</td>\n",
       "      <td>0.0</td>\n",
       "      <td>13.0</td>\n",
       "    </tr>\n",
       "    <tr>\n",
       "      <th>8</th>\n",
       "      <td>2020-03-10</td>\n",
       "      <td>8</td>\n",
       "      <td>27</td>\n",
       "      <td>25</td>\n",
       "      <td>2.0</td>\n",
       "      <td>0.0</td>\n",
       "      <td>2.0</td>\n",
       "      <td>0.0</td>\n",
       "      <td>6.0</td>\n",
       "    </tr>\n",
       "    <tr>\n",
       "      <th>9</th>\n",
       "      <td>2020-03-11</td>\n",
       "      <td>7</td>\n",
       "      <td>34</td>\n",
       "      <td>31</td>\n",
       "      <td>2.0</td>\n",
       "      <td>1.0</td>\n",
       "      <td>2.0</td>\n",
       "      <td>1.0</td>\n",
       "      <td>6.0</td>\n",
       "    </tr>\n",
       "  </tbody>\n",
       "</table>\n",
       "</div>"
      ],
      "text/plain": [
       "        Date  Daily_cases  Cumulative_cases  Patient_under_treatment  \\\n",
       "0 2020-03-02            2                 2                        2   \n",
       "1 2020-03-03            2                 2                        2   \n",
       "2 2020-03-04            2                 2                        2   \n",
       "3 2020-03-05            2                 2                        2   \n",
       "4 2020-03-06            2                 4                        4   \n",
       "5 2020-03-07            2                 4                        4   \n",
       "6 2020-03-08            2                 6                        6   \n",
       "7 2020-03-09           13                19                       19   \n",
       "8 2020-03-10            8                27                       25   \n",
       "9 2020-03-11            7                34                       31   \n",
       "\n",
       "   Recovered_cases  Total_death  Recovered-cases_perDay  Death_cases_perDay  \\\n",
       "0              0.0          0.0                     0.0                 0.0   \n",
       "1              0.0          0.0                     0.0                 0.0   \n",
       "2              0.0          0.0                     0.0                 0.0   \n",
       "3              0.0          0.0                     0.0                 0.0   \n",
       "4              0.0          0.0                     0.0                 0.0   \n",
       "5              0.0          0.0                     0.0                 0.0   \n",
       "6              0.0          0.0                     0.0                 0.0   \n",
       "7              0.0          0.0                     0.0                 0.0   \n",
       "8              2.0          0.0                     2.0                 0.0   \n",
       "9              2.0          1.0                     2.0                 1.0   \n",
       "\n",
       "   Treatment_cases_perDay  \n",
       "0                     0.0  \n",
       "1                     0.0  \n",
       "2                     0.0  \n",
       "3                     0.0  \n",
       "4                     2.0  \n",
       "5                     2.0  \n",
       "6                     2.0  \n",
       "7                    13.0  \n",
       "8                     6.0  \n",
       "9                     6.0  "
      ]
     },
     "execution_count": 14,
     "metadata": {},
     "output_type": "execute_result"
    }
   ],
   "source": [
    "Data_Covid.head(10)"
   ]
  },
  {
   "cell_type": "markdown",
   "metadata": {},
   "source": [
    "## Melihat kecenderungan total kematian dari kasus yang positif pada setiap harinya"
   ]
  },
  {
   "cell_type": "code",
   "execution_count": 34,
   "metadata": {},
   "outputs": [
    {
     "data": {
      "image/png": "[encoded data removed]",
      "text/plain": [
       "<Figure size 720x720 with 1 Axes>"
      ]
     },
     "metadata": {
      "needs_background": "light"
     },
     "output_type": "display_data"
    }
   ],
   "source": [
    "plt.figure(figsize=(10,10))\n",
    "p = sns.lineplot(x=\"Daily_cases\", y = \"Total_death\", data = Data_Covid)"
   ]
  },
  {
   "cell_type": "markdown",
   "metadata": {},
   "source": [
    "Berdasarkan plot diatas bahwa kasus kematian t...."
   ]
  },
  {
   "cell_type": "markdown",
   "metadata": {},
   "source": [
    "#### Mengecek Outlier"
   ]
  },
  {
   "cell_type": "code",
   "execution_count": 16,
   "metadata": {},
   "outputs": [
    {
     "data": {
      "image/png": "[encoded data removed]",
      "text/plain": [
       "<Figure size 432x288 with 1 Axes>"
      ]
     },
     "metadata": {
      "needs_background": "light"
     },
     "output_type": "display_data"
    }
   ],
   "source": [
    "#Distributions\n",
    "p = sns.distplot(Data_Covid['Total_death'], kde=True, rug=True)"
   ]
  },
  {
   "cell_type": "code",
   "execution_count": 17,
   "metadata": {},
   "outputs": [
    {
     "name": "stdout",
     "output_type": "stream",
     "text": [
      "(40,)\n"
     ]
    },
    {
     "data": {
      "text/plain": [
       "0    True\n",
       "1    True\n",
       "2    True\n",
       "3    True\n",
       "4    True\n",
       "Name: Total_death, dtype: bool"
      ]
     },
     "execution_count": 17,
     "metadata": {},
     "output_type": "execute_result"
    }
   ],
   "source": [
    "df = np.abs(Data_Covid.Total_death - Data_Covid.Total_death.mean())<=(2*Data_Covid.Total_death.std())\n",
    "# mu-2s<x<mu+2s\n",
    "print(df.shape)\n",
    "df.head()"
   ]
  },
  {
   "cell_type": "code",
   "execution_count": 18,
   "metadata": {},
   "outputs": [
    {
     "name": "stdout",
     "output_type": "stream",
     "text": [
      "(38, 9) (40, 9)\n"
     ]
    },
    {
     "data": {
      "text/plain": [
       "<bound method NDFrame.head of          Date  Daily_cases  Cumulative_cases  Patient_under_treatment  \\\n",
       "0  2020-03-02            2                 2                        2   \n",
       "1  2020-03-03            2                 2                        2   \n",
       "2  2020-03-04            2                 2                        2   \n",
       "3  2020-03-05            2                 2                        2   \n",
       "4  2020-03-06            2                 4                        4   \n",
       "5  2020-03-07            2                 4                        4   \n",
       "6  2020-03-08            2                 6                        6   \n",
       "7  2020-03-09           13                19                       19   \n",
       "8  2020-03-10            8                27                       25   \n",
       "9  2020-03-11            7                34                       31   \n",
       "10 2020-03-12            7                34                       31   \n",
       "11 2020-03-13           35                69                       63   \n",
       "12 2020-03-14           27                96                       83   \n",
       "13 2020-03-15           21               117                      104   \n",
       "14 2020-03-16           17               134                      121   \n",
       "15 2020-03-17           38               172                      158   \n",
       "16 2020-03-18           55               227                      197   \n",
       "17 2020-03-19           81               308                      268   \n",
       "18 2020-03-20           61               369                      320   \n",
       "19 2020-03-21           81               450                      392   \n",
       "20 2020-03-22           64               514                      437   \n",
       "21 2020-03-23           65               579                      500   \n",
       "22 2020-03-24          106               685                      600   \n",
       "23 2020-03-25          105               790                      701   \n",
       "24 2020-03-26          103               893                      780   \n",
       "25 2020-03-27          153              1046                      913   \n",
       "26 2020-03-28          109              1155                      994   \n",
       "27 2020-03-29          130              1285                     1107   \n",
       "28 2020-03-30          129              1414                     1217   \n",
       "29 2020-03-31          114              1528                     1311   \n",
       "30 2020-04-01          149              1677                     1417   \n",
       "31 2020-04-02          113              1790                     1508   \n",
       "32 2020-04-03          196              1986                     1671   \n",
       "33 2020-04-04          106              2092                     1751   \n",
       "34 2020-04-05          181              2273                     1911   \n",
       "35 2020-04-06          218              2491                     2090   \n",
       "36 2020-04-07          247              2738                     2313   \n",
       "37 2020-04-08          218              2956                     2494   \n",
       "\n",
       "    Recovered_cases  Total_death  Recovered-cases_perDay  Death_cases_perDay  \\\n",
       "0               0.0          0.0                     0.0                 0.0   \n",
       "1               0.0          0.0                     0.0                 0.0   \n",
       "2               0.0          0.0                     0.0                 0.0   \n",
       "3               0.0          0.0                     0.0                 0.0   \n",
       "4               0.0          0.0                     0.0                 0.0   \n",
       "5               0.0          0.0                     0.0                 0.0   \n",
       "6               0.0          0.0                     0.0                 0.0   \n",
       "7               0.0          0.0                     0.0                 0.0   \n",
       "8               2.0          0.0                     2.0                 0.0   \n",
       "9               2.0          1.0                     2.0                 1.0   \n",
       "10              2.0          1.0                     2.0                 1.0   \n",
       "11              2.0          4.0                     2.0                 3.0   \n",
       "12              8.0          5.0                     6.0                 1.0   \n",
       "13              8.0          5.0                     6.0                 1.0   \n",
       "14              8.0          5.0                     6.0                 1.0   \n",
       "15              9.0          5.0                     1.0                 1.0   \n",
       "16             11.0         19.0                     2.0                14.0   \n",
       "17             15.0         25.0                     4.0                 6.0   \n",
       "18             17.0         32.0                     2.0                 7.0   \n",
       "19             20.0         38.0                     3.0                 6.0   \n",
       "20             29.0         48.0                     9.0                10.0   \n",
       "21             30.0         49.0                     1.0                 1.0   \n",
       "22             30.0         55.0                     1.0                 6.0   \n",
       "23             31.0         58.0                     1.0                 3.0   \n",
       "24             35.0         78.0                     4.0                20.0   \n",
       "25             46.0         87.0                    11.0                 9.0   \n",
       "26             59.0        102.0                    13.0                15.0   \n",
       "27             64.0        114.0                     5.0                12.0   \n",
       "28             75.0        122.0                    11.0                 8.0   \n",
       "29             81.0        136.0                     6.0                14.0   \n",
       "30            103.0        157.0                    22.0                21.0   \n",
       "31            112.0        170.0                     9.0                13.0   \n",
       "32            134.0        181.0                    22.0                11.0   \n",
       "33            150.0        191.0                    16.0                10.0   \n",
       "34            164.0        198.0                    14.0                 7.0   \n",
       "35            192.0        209.0                    28.0                11.0   \n",
       "36            204.0        221.0                    12.0                12.0   \n",
       "37            222.0        240.0                    18.0                19.0   \n",
       "\n",
       "    Treatment_cases_perDay  \n",
       "0                      0.0  \n",
       "1                      0.0  \n",
       "2                      0.0  \n",
       "3                      0.0  \n",
       "4                      2.0  \n",
       "5                      2.0  \n",
       "6                      2.0  \n",
       "7                     13.0  \n",
       "8                      6.0  \n",
       "9                      6.0  \n",
       "10                     6.0  \n",
       "11                    32.0  \n",
       "12                    20.0  \n",
       "13                    21.0  \n",
       "14                    17.0  \n",
       "15                    37.0  \n",
       "16                    39.0  \n",
       "17                    71.0  \n",
       "18                    52.0  \n",
       "19                    72.0  \n",
       "20                    45.0  \n",
       "21                    63.0  \n",
       "22                   100.0  \n",
       "23                   101.0  \n",
       "24                    79.0  \n",
       "25                   133.0  \n",
       "26                    81.0  \n",
       "27                   113.0  \n",
       "28                   110.0  \n",
       "29                    94.0  \n",
       "30                   106.0  \n",
       "31                    91.0  \n",
       "32                   163.0  \n",
       "33                    80.0  \n",
       "34                   160.0  \n",
       "35                   179.0  \n",
       "36                   223.0  \n",
       "37                   181.0  >"
      ]
     },
     "execution_count": 18,
     "metadata": {},
     "output_type": "execute_result"
    }
   ],
   "source": [
    "Data_Covid2 = Data_Covid[df] # Data tanpa outliers\n",
    "print(Data_Covid2.shape, Data_Covid.shape)\n",
    "Data_Covid2.head"
   ]
  },
  {
   "cell_type": "code",
   "execution_count": 19,
   "metadata": {},
   "outputs": [
    {
     "data": {
      "image/png": "[encoded data removed]",
      "text/plain": [
       "<Figure size 432x288 with 1 Axes>"
      ]
     },
     "metadata": {
      "needs_background": "light"
     },
     "output_type": "display_data"
    }
   ],
   "source": [
    "# Distributions\n",
    "p = sns.distplot(Data_Covid2['Total_death'], kde=True, rug=True)"
   ]
  },
  {
   "cell_type": "code",
   "execution_count": 30,
   "metadata": {},
   "outputs": [
    {
     "data": {
      "image/png": "[encoded data removed]",
      "text/plain": [
       "<Figure size 720x720 with 1 Axes>"
      ]
     },
     "metadata": {
      "needs_background": "light"
     },
     "output_type": "display_data"
    }
   ],
   "source": [
    "plt.figure(figsize=(10,10)) #menggunakan data tanpa outlier\n",
    "p = sns.lineplot(x=\"Daily_cases\", y = \"Total_death\", data = Data_Covid2)"
   ]
  },
  {
   "cell_type": "markdown",
   "metadata": {},
   "source": [
    "Berdasarkan plot diatas, jumlah kematian meningkat dari kasus yang positif pada setiap harinya cenderung naik turun, dikarenakan berdasarkan data yang ada cukup banyak pasien yang dinyatakan positif juga mendapatkan perawatan dan  sembuh."
   ]
  },
  {
   "cell_type": "code",
   "execution_count": 21,
   "metadata": {},
   "outputs": [
    {
     "data": {
      "image/png": "[encoded data removed]",
      "text/plain": [
       "<Figure size 480.925x360 with 1 Axes>"
      ]
     },
     "metadata": {
      "needs_background": "light"
     },
     "output_type": "display_data"
    }
   ],
   "source": [
    "p= sns.catplot(x=\"Daily_cases\", y=\"Total_death\", hue=\"Patient_under_treatment\", kind=\"swarm\", data=Data_Covid2)"
   ]
  },
  {
   "cell_type": "markdown",
   "metadata": {},
   "source": [
    "## Melihat kecenderungan total kematian dari kasus pasien yang dirawat"
   ]
  },
  {
   "cell_type": "code",
   "execution_count": 31,
   "metadata": {},
   "outputs": [
    {
     "data": {
      "image/png": "[encoded data removed]",
      "text/plain": [
       "<Figure size 720x720 with 1 Axes>"
      ]
     },
     "metadata": {
      "needs_background": "light"
     },
     "output_type": "display_data"
    }
   ],
   "source": [
    "plt.figure(figsize=(10,10))\n",
    "p = sns.lineplot(x=\"Patient_under_treatment\", y = \"Total_death\", data = Data_Covid)"
   ]
  },
  {
   "cell_type": "code",
   "execution_count": 32,
   "metadata": {},
   "outputs": [
    {
     "data": {
      "image/png": "[encoded data removed]",
      "text/plain": [
       "<Figure size 720x720 with 1 Axes>"
      ]
     },
     "metadata": {
      "needs_background": "light"
     },
     "output_type": "display_data"
    }
   ],
   "source": [
    "plt.figure(figsize=(10,10)) #menggunakan data tanpa outlier\n",
    "p = sns.lineplot(x=\"Patient_under_treatment\", y = \"Total_death\", data = Data_Covid2)"
   ]
  },
  {
   "cell_type": "markdown",
   "metadata": {},
   "source": [
    "Berdasarkan Berdasarkan plot diatas, meski jumlah kematian meningkat, tidak dipungkiri bahwa jumlah kasus yang pasien yg dirawat meningkat dikarenakan berdasarkan data yang ada cukup banyak pasien yang dinyatakan positif setiap harinya."
   ]
  },
  {
   "cell_type": "markdown",
   "metadata": {},
   "source": [
    "## Melihat kecenderungan total kematian dari kasus pasien yang sembuh"
   ]
  },
  {
   "cell_type": "code",
   "execution_count": 33,
   "metadata": {},
   "outputs": [
    {
     "data": {
      "image/png": "[encoded data removed]",
      "text/plain": [
       "<Figure size 720x720 with 1 Axes>"
      ]
     },
     "metadata": {
      "needs_background": "light"
     },
     "output_type": "display_data"
    }
   ],
   "source": [
    "plt.figure(figsize=(10,10))\n",
    "p = sns.lineplot(x=\"Recovered_cases\", y = \"Total_death\", data = Data_Covid)"
   ]
  },
  {
   "cell_type": "code",
   "execution_count": 29,
   "metadata": {},
   "outputs": [
    {
     "data": {
      "image/png": "[encoded data removed]",
      "text/plain": [
       "<Figure size 720x720 with 1 Axes>"
      ]
     },
     "metadata": {
      "needs_background": "light"
     },
     "output_type": "display_data"
    }
   ],
   "source": [
    "plt.figure(figsize=(10,10)) #menggunakan data tanpa outlier\n",
    "p = sns.lineplot(x=\"Recovered_cases\", y = \"Total_death\", data = Data_Covid2)"
   ]
  },
  {
   "cell_type": "markdown",
   "metadata": {},
   "source": [
    "Berdasarkan plot diatas, meski jumlah kematian meningkat, tidak dipungkiri bahwa jumlah kasus yang sembuh meningkat dikarenakan berdasarkan data yang ada cukup banyak pasien yang positif tertangani untuk dirawat."
   ]
  },
  {
   "cell_type": "code",
   "execution_count": 35,
   "metadata": {},
   "outputs": [
    {
     "data": {
      "image/png": "[encoded data removed]",
      "text/plain": [
       "<Figure size 720x720 with 1 Axes>"
      ]
     },
     "metadata": {
      "needs_background": "light"
     },
     "output_type": "display_data"
    }
   ],
   "source": [
    "plt.figure(figsize=(10,10))\n",
    "p = sns.lineplot(x=\"Daily_cases\", y = \"Total_death\", data = Data_Covid2)\n",
    "p = sns.lineplot(x=\"Recovered_cases\", y = \"Total_death\", data = Data_Covid2)\n",
    "p = sns.lineplot(x=\"Patient_under_treatment\", y = \"Total_death\", data = Data_Covid2)"
   ]
  },
  {
   "cell_type": "code",
   "execution_count": 27,
   "metadata": {},
   "outputs": [
    {
     "data": {
      "text/html": [
       "<div>\n",
       "<style scoped>\n",
       "    .dataframe tbody tr th:only-of-type {\n",
       "        vertical-align: middle;\n",
       "    }\n",
       "\n",
       "    .dataframe tbody tr th {\n",
       "        vertical-align: top;\n",
       "    }\n",
       "\n",
       "    .dataframe thead th {\n",
       "        text-align: right;\n",
       "    }\n",
       "</style>\n",
       "<table border=\"1\" class=\"dataframe\">\n",
       "  <thead>\n",
       "    <tr style=\"text-align: right;\">\n",
       "      <th></th>\n",
       "      <th>Daily_cases</th>\n",
       "      <th>Cumulative_cases</th>\n",
       "      <th>Patient_under_treatment</th>\n",
       "      <th>Recovered_cases</th>\n",
       "      <th>Total_death</th>\n",
       "      <th>Recovered-cases_perDay</th>\n",
       "      <th>Death_cases_perDay</th>\n",
       "      <th>Treatment_cases_perDay</th>\n",
       "    </tr>\n",
       "  </thead>\n",
       "  <tbody>\n",
       "    <tr>\n",
       "      <th>Daily_cases</th>\n",
       "      <td>1.000000</td>\n",
       "      <td>0.943947</td>\n",
       "      <td>0.946658</td>\n",
       "      <td>0.905508</td>\n",
       "      <td>0.932907</td>\n",
       "      <td>0.804573</td>\n",
       "      <td>0.755224</td>\n",
       "      <td>0.994229</td>\n",
       "    </tr>\n",
       "    <tr>\n",
       "      <th>Cumulative_cases</th>\n",
       "      <td>0.943947</td>\n",
       "      <td>1.000000</td>\n",
       "      <td>0.999892</td>\n",
       "      <td>0.983868</td>\n",
       "      <td>0.996791</td>\n",
       "      <td>0.837376</td>\n",
       "      <td>0.737051</td>\n",
       "      <td>0.926128</td>\n",
       "    </tr>\n",
       "    <tr>\n",
       "      <th>Patient_under_treatment</th>\n",
       "      <td>0.946658</td>\n",
       "      <td>0.999892</td>\n",
       "      <td>1.000000</td>\n",
       "      <td>0.981524</td>\n",
       "      <td>0.996436</td>\n",
       "      <td>0.834560</td>\n",
       "      <td>0.740669</td>\n",
       "      <td>0.929287</td>\n",
       "    </tr>\n",
       "    <tr>\n",
       "      <th>Recovered_cases</th>\n",
       "      <td>0.905508</td>\n",
       "      <td>0.983868</td>\n",
       "      <td>0.981524</td>\n",
       "      <td>1.000000</td>\n",
       "      <td>0.975855</td>\n",
       "      <td>0.842372</td>\n",
       "      <td>0.661085</td>\n",
       "      <td>0.888878</td>\n",
       "    </tr>\n",
       "    <tr>\n",
       "      <th>Total_death</th>\n",
       "      <td>0.932907</td>\n",
       "      <td>0.996791</td>\n",
       "      <td>0.996436</td>\n",
       "      <td>0.975855</td>\n",
       "      <td>1.000000</td>\n",
       "      <td>0.845752</td>\n",
       "      <td>0.751982</td>\n",
       "      <td>0.910082</td>\n",
       "    </tr>\n",
       "    <tr>\n",
       "      <th>Recovered-cases_perDay</th>\n",
       "      <td>0.804573</td>\n",
       "      <td>0.837376</td>\n",
       "      <td>0.834560</td>\n",
       "      <td>0.842372</td>\n",
       "      <td>0.845752</td>\n",
       "      <td>1.000000</td>\n",
       "      <td>0.662438</td>\n",
       "      <td>0.755566</td>\n",
       "    </tr>\n",
       "    <tr>\n",
       "      <th>Death_cases_perDay</th>\n",
       "      <td>0.755224</td>\n",
       "      <td>0.737051</td>\n",
       "      <td>0.740669</td>\n",
       "      <td>0.661085</td>\n",
       "      <td>0.751982</td>\n",
       "      <td>0.662438</td>\n",
       "      <td>1.000000</td>\n",
       "      <td>0.697677</td>\n",
       "    </tr>\n",
       "    <tr>\n",
       "      <th>Treatment_cases_perDay</th>\n",
       "      <td>0.994229</td>\n",
       "      <td>0.926128</td>\n",
       "      <td>0.929287</td>\n",
       "      <td>0.888878</td>\n",
       "      <td>0.910082</td>\n",
       "      <td>0.755566</td>\n",
       "      <td>0.697677</td>\n",
       "      <td>1.000000</td>\n",
       "    </tr>\n",
       "  </tbody>\n",
       "</table>\n",
       "</div>"
      ],
      "text/plain": [
       "                         Daily_cases  Cumulative_cases  \\\n",
       "Daily_cases                 1.000000          0.943947   \n",
       "Cumulative_cases            0.943947          1.000000   \n",
       "Patient_under_treatment     0.946658          0.999892   \n",
       "Recovered_cases             0.905508          0.983868   \n",
       "Total_death                 0.932907          0.996791   \n",
       "Recovered-cases_perDay      0.804573          0.837376   \n",
       "Death_cases_perDay          0.755224          0.737051   \n",
       "Treatment_cases_perDay      0.994229          0.926128   \n",
       "\n",
       "                         Patient_under_treatment  Recovered_cases  \\\n",
       "Daily_cases                             0.946658         0.905508   \n",
       "Cumulative_cases                        0.999892         0.983868   \n",
       "Patient_under_treatment                 1.000000         0.981524   \n",
       "Recovered_cases                         0.981524         1.000000   \n",
       "Total_death                             0.996436         0.975855   \n",
       "Recovered-cases_perDay                  0.834560         0.842372   \n",
       "Death_cases_perDay                      0.740669         0.661085   \n",
       "Treatment_cases_perDay                  0.929287         0.888878   \n",
       "\n",
       "                         Total_death  Recovered-cases_perDay  \\\n",
       "Daily_cases                 0.932907                0.804573   \n",
       "Cumulative_cases            0.996791                0.837376   \n",
       "Patient_under_treatment     0.996436                0.834560   \n",
       "Recovered_cases             0.975855                0.842372   \n",
       "Total_death                 1.000000                0.845752   \n",
       "Recovered-cases_perDay      0.845752                1.000000   \n",
       "Death_cases_perDay          0.751982                0.662438   \n",
       "Treatment_cases_perDay      0.910082                0.755566   \n",
       "\n",
       "                         Death_cases_perDay  Treatment_cases_perDay  \n",
       "Daily_cases                        0.755224                0.994229  \n",
       "Cumulative_cases                   0.737051                0.926128  \n",
       "Patient_under_treatment            0.740669                0.929287  \n",
       "Recovered_cases                    0.661085                0.888878  \n",
       "Total_death                        0.751982                0.910082  \n",
       "Recovered-cases_perDay             0.662438                0.755566  \n",
       "Death_cases_perDay                 1.000000                0.697677  \n",
       "Treatment_cases_perDay             0.697677                1.000000  "
      ]
     },
     "execution_count": 27,
     "metadata": {},
     "output_type": "execute_result"
    }
   ],
   "source": [
    "#Mengecek Korelasi antar variabel\n",
    "Data_Covid2.corr()"
   ]
  },
  {
   "cell_type": "markdown",
   "metadata": {},
   "source": [
    "Berdasarkan plot dan tabel korelasi diatas,"
   ]
  },
  {
   "cell_type": "markdown",
   "metadata": {},
   "source": [
    "Dapat disimpulkan bahwa tingkat kematian yang semakin meningkat dipengaruhi atas Daily_cases (pasien yang positif) nya gagal untuk segera mendapatkan perawatan atau jika mendapatkan perawatan sekalipun yaitu yg berstatus Patient_under_treatment gagal untuk disembuhkan. Namun, meskipun begitu tidak dipungkiri bahwa jumlah yang sembuh tetap meningkat."
   ]
  },
  {
   "cell_type": "code",
   "execution_count": null,
   "metadata": {},
   "outputs": [],
   "source": []
  }
 ],
 "metadata": {
  "kernelspec": {
   "display_name": "Python 3",
   "language": "python",
   "name": "python3"
  },
  "language_info": {
   "codemirror_mode": {
    "name": "ipython",
    "version": 3
   },
   "file_extension": ".py",
   "mimetype": "text/x-python",
   "name": "python",
   "nbconvert_exporter": "python",
   "pygments_lexer": "ipython3",
   "version": "3.7.4"
  }
 },
 "nbformat": 4,
 "nbformat_minor": 2
}
