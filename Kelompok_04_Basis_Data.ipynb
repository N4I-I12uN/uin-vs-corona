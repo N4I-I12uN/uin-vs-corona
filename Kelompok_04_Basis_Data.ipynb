{
 "cells": [
  {
   "cell_type": "markdown",
   "metadata": {},
   "source": [
    "# BASIS DATA"
   ]
  },
  {
   "cell_type": "markdown",
   "metadata": {},
   "source": [
    "## Kelompok 4\n",
    "\n",
    "- Siti Hafshah Nurul Arafah (11160940000083)\n",
    "- Lintang Bristian (11160940000034)\n",
    "- Astri Apriliya (11160940000081)\n",
    "- Abdul Haffizh (11160940000056)\n",
    "- Ibrahim Farhan (11170940000043)\n",
    "- Fatih Al Gusda P (11170940000050)\n",
    "- Adrian Fajar (11170940000036)\n",
    "- Fany Andisa (11170940000021)\n",
    "- Yulisnawati (11170940000005)"
   ]
  },
  {
   "cell_type": "markdown",
   "metadata": {},
   "source": []
  },
  {
   "cell_type": "code",
   "execution_count": null,
   "metadata": {},
   "outputs": [],
   "source": [
    "import mysql.connector as mysql\n",
    "import pandas as pd\n",
    "from time import time"
   ]
  },
  {
   "cell_type": "code",
   "execution_count": 2,
   "metadata": {},
   "outputs": [],
   "source": [
    "dbPar = {'db_': 'basisdata_mtkfst', 'tbl':'mahasiswa', 'usr':'root', 'pas':'', 'hst':'localhost'}"
   ]
  },
  {
   "cell_type": "code",
   "execution_count": 3,
   "metadata": {},
   "outputs": [
    {
     "data": {
      "text/plain": [
       "('root', '')"
      ]
     },
     "execution_count": 3,
     "metadata": {},
     "output_type": "execute_result"
    }
   ],
   "source": [
    "dbPar['usr'], dbPar['pas']"
   ]
  },
  {
   "cell_type": "code",
   "execution_count": 4,
   "metadata": {},
   "outputs": [],
   "source": [
    "def conMql(dbPar, maxTry=3):\n",
    "    try_ = 0\n",
    "    while try_<maxTry:\n",
    "        try:\n",
    "            return mysql.connect(host=dbPar['hst'],user=dbPar['usr'],passwd=dbPar['pas'],db=dbPar['db_'])\n",
    "        except (mysql.Error) as e:      \n",
    "            print (\"Error Connecting to MySQL %d: %s, please wait retrying\" % (e.args[0],e.args[1]))\n",
    "            try_ += 1; time.sleep(1)"
   ]
  },
  {
   "cell_type": "markdown",
   "metadata": {},
   "source": [
    "## Data 1"
   ]
  },
  {
   "cell_type": "code",
   "execution_count": 51,
   "metadata": {},
   "outputs": [],
   "source": [
    "qry = \"CREATE TABLE `basisdata_mtkfst`.`corona` ( `day` VARCHAR(12) NOT NULL COMMENT 'hari' ,`date` DATE NOT NULL COMMENT 'Tahun Bulan Tanggal', `daily_cases` VARCHAR(10) CHARACTER SET utf8 COLLATE utf8_general_ci NOT NULL COMMENT 'kasus harian' , `cumulative_cases` VARCHAR(10) CHARACTER SET ascii COLLATE ascii_general_ci NOT NULL COMMENT 'kasus kumulatif' ,  `patient_under_treatment` VARCHAR(10) NOT NULL COMMENT 'pasien dalam pengawasan', `recovered_cases` VARCHAR(10) NOT NULL COMMENT 'kasus sembuh', `total_death` VARCHAR(10) NOT NULL COMMENT 'Kematian' , `recovered_cases_perday` VARCHAR(10) NOT NULL COMMENT 'Kasus sembuh perhari',`death_cases_perday` VARCHAR(10) NOT NULL COMMENT 'Kematian perhari',`treatment_perday` VARCHAR(10) NOT NULL COMMENT 'pneymbuhan perhari' ) ENGINE = MyISAM CHARSET=utf8 COLLATE utf8_general_ci COMMENT = 'Tabel Mahasiswa UIN Jakarta';\"\n",
    "db = conMql(dbPar)\n",
    "cur = db.cursor()\n",
    "res = cur.execute(qry)\n",
    "cur.close()\n",
    "db.close()\n",
    "res"
   ]
  },
  {
   "cell_type": "code",
   "execution_count": 53,
   "metadata": {},
   "outputs": [],
   "source": [
    "qry = \"INSERT INTO `corona`(`day`,`date`,`daily_cases`,`cumulative_cases`,`patient_under_treatment`,`recovered_cases`,`total_death`,`recovered_cases_perday`,`death_cases_perday`,`treatment_perday`) VALUES ('1', '2020-03-02', '2', '2', '2', '0' , '0', '0', '0','0'), ('2', '2020-03-03', '2', '2', '2', '0' , '0', '0', '0','0'), ('3', '2020-03-04', '2', '2', '2', '0' , '0', '0', '0','0'), ('4', '2020-03-05', '2', '2', '2', '0','0', '0', '0', '0'),('5', '2020-03-06', '2', '4', '4', '0','0', '0', '0', '2'),('6', '2020-03-07', '2', '4', '4', '0','0', '0', '0', '2'),('7', '2020-03-08', '2', '6', '6', '0','0', '0', '0', '2'),('8', '2020-03-09', '13', '19', '19', '0','0', '0', '0', '13'),('9', '2020-03-10', '8', '27', '25', '2','0', '2', '0', '6'),('10', '2020-03-11', '7', '34', '31', '2','1', '2', '1', '6'),('11', '2020-03-12', '7', '34', '31', '2','1', '2', '1', '6'),('12', '2020-03-13', '35', '69', '63', '2','4', '2', '3', '32'),('13', '2020-03-14', '27', '96', '83', '8','5', '6', '1', '20'),('14', '2020-03-15', '21', '107', '104', '8','5', '6', '1', '21'),('15', '2020-03-16', '17', '134', '121', '8','5', '6', '1', '17'),('16', '2020-03-17', '38', '172', '158', '9','5', '1', '1', '37'),('17', '2020-03-18', '55', '227', '197', '11','19', '2', '14', '39'),('18', '2020-03-19', '81', '308', '268', '15','25', '4', '6', '71'),('19', '2020-03-20', '61', '369', '320', '17','32', '2', '7', '52'),('20', '2020-03-21', '81', '450', '392', '20','38', '3', '6', '72') ;\"\n",
    "db = conMql(dbPar)\n",
    "cur = db.cursor()\n",
    "result = cur.execute(qry)\n",
    "cur.close()\n",
    "db.close()"
   ]
  },
  {
   "cell_type": "code",
   "execution_count": 5,
   "metadata": {},
   "outputs": [],
   "source": [
    "qry = \"INSERT INTO `corona`(`day`,`date`,`daily_cases`,`cumulative_cases`,`patient_under_treatment`,`recovered_cases`,`total_death`,`recovered_cases_perday`,`death_cases_perday`,`treatment_perday`) VALUES ('21', '2020-03-22', '64', '514', '437', '29' , '48', '9', '10','45'), ('22', '2020-03-23', '65', '579', '500', '30' , '49', '1', '1', '63'), ('23', '2020-03-24', '106', '685', '600', '30' , '55', '1', '6','100'), ('24', '2020-03-25', '105', '790', '701', '31','85', '1', '3', '101'),('25', '2020-03-26', '153', '1046', '913', '46', '87', '11', '9', '133'),('26', '2020-03-27', '153', '1046', '913', '46', '87', '11', '9', '133'),('27', '2020-03-28', '109', '1155', '994', '59', '102', '13', '15', '81'),('28', '2020-03-29', '130', '1285', '1107', '64', '114', '5', '12', '113'),('29', '2020-03-30', '129', '1414', '1217', '75', '122', '11', '8', '110'),('30', '2020-03-31', '114', '1528', '1311', '81', '136', '6', '14', '94'),('31', '2020-04-01', '149', '1677', '1417', '103', '157', '22', '21', '106'),('32', '2020-04-02', '113', '1790', '1508', '112', '170', '9', '13', '91'),('33', '2020-04-03', '196', '1986', '1671', '134', '181', '22', '11', '163'),('34', '2020-04-04', '106', '2092', '1751', '150', '191', '16', '10', '80'),('35', '2020-04-05', '181', '2273', '1911', '164', '198', '14', '7', '160'),('36', '2020-04-06', '218', '2491', '2090', '192', '209', '28', '11', '179'),('37', '2020-04-07', '247', '2738', '2313', '204','221', '12', '12', '223'),('38', '2020-04-08', '218', '2956', '2494', '222', '240', '18', '19', '181'),('39', '2020-04-09', '337', '3293', '32761', '252', '280', '30', '40', '267'),('40', '2020-04-10', '219', '3512', '2924', '282', '306', '30', '26', '163') ;\"\n",
    "db = conMql(dbPar)\n",
    "cur = db.cursor()\n",
    "result = cur.execute(qry)\n",
    "cur.close()\n",
    "db.close()"
   ]
  },
  {
   "cell_type": "markdown",
   "metadata": {},
   "source": [
    "## Data 2"
   ]
  },
  {
   "cell_type": "code",
   "execution_count": 6,
   "metadata": {},
   "outputs": [],
   "source": [
    "qry = \"CREATE TABLE `basisdata_mtkfst`.`corona_province` ( `id` VARCHAR(12) NOT NULL COMMENT 'Nomor ID' ,`province_code` VARCHAR(10) NOT NULL COMMENT 'Kode Provinsi', `province_name` VARCHAR(10) CHARACTER SET utf8 COLLATE utf8_general_ci NOT NULL COMMENT 'Nama Provinsi' , `confirmed_cases` VARCHAR(10) CHARACTER SET ascii COLLATE ascii_general_ci NOT NULL COMMENT 'kasus terkonfirmasi' ,  `recovered_cases` VARCHAR(10) NOT NULL COMMENT 'Kasus Sembuh', `death_cases` VARCHAR(10) NOT NULL COMMENT 'kasus kematian',`features_geometry_coordinat` VARCHAR(100) NOT NULL COMMENT 'Kordinat Geometri', PRIMARY KEY (`id`) ) ENGINE = MyISAM CHARSET=utf8 COLLATE utf8_general_ci COMMENT = 'Table corona per provins';\"\n",
    "db = conMql(dbPar)\n",
    "cur = db.cursor()\n",
    "res = cur.execute(qry)\n",
    "cur.close()\n",
    "db.close()\n",
    "res"
   ]
  },
  {
   "cell_type": "code",
   "execution_count": 9,
   "metadata": {},
   "outputs": [],
   "source": [
    "qry = \"INSERT INTO `corona_province` VALUES ('1', '11', 'Aceh', '5', '1', '1', '96.90952274776174,4.225081892093766'), ('2', '12', 'Sumatera Utara', '59', '8', '4', '99.05788784892918,2.1847792149105123'), ('3', '13', 'Sumatera Barat', '31', '6', '3', '100.46680503029916,-0.8519143477257053'), ('4', '14', 'Riau', '13', '1', '3', '101.81289195391142,0.5105258491811052'), ('5', '15', 'Jambi', '2', '1', '3', '103.59931999973588,-1.6177499996423312'), ('6', '16', 'Sumatera Selatan', '21', '1', '2', '104.17041944464856,-3.213346821849744'), ('7', '17', 'Bengkulu', '4', '1', '1', '102.26311999971767,-3.7911599999922694'), ('8', '19', 'Kepulauan Bangka Belitung', '3', '1', '1', '105.98694808180812,-2.2529564111524327'), ('11', '31', 'DKI Jakarta', '1753', '82', '154', '106.82648999970596,-6.171480000380943'), ('12', '32', 'Jawa Barat', '388', '19', '40', '107.60280789771438,-6.919980215676874'), ('13', '33', 'Jawa Tengah', '144', '18', '22', '110.201112529175,-7.258970382933987') ;\"\n",
    "db = conMql(dbPar)\n",
    "cur = db.cursor()\n",
    "result = cur.execute(qry)\n",
    "cur.close()\n",
    "db.close()"
   ]
  },
  {
   "cell_type": "code",
   "execution_count": 11,
   "metadata": {},
   "outputs": [],
   "source": [
    "qry = \"INSERT INTO `corona_province` VALUES ('14', '34', 'Daerah Istimewa Yogyakarta', '41', '6', '7', '110.4453669711082,-7.895013815160975'), ('15', '35', 'Jawa Timur', '256', '62', '22', '112.73367880118164,-7.720113018739567'), ('16', '36', 'Banten', '243', '7', '21', '106.10919706896232,-6.456181598923129'), ('17', '51', 'Bali', '75', '19', '2', '115.1316509954286,-8.369743261086477'), ('18', '52', 'Nusa Tenggara Barat', '25', '2', '2', '117.50686245225263,-8.606652084111358'), ('19', '53', 'Nusa Tenggara Timur', '1', '2', '2', '121.14182917026828,-8.604843331946174'), ('20', '61', 'Kalimantan Barat', '10', '3', '2', '111.12076240064371,-0.0859012339120799'), ('21', '61', 'Kalimantan Tengah', '24', '7', '1', '113.18104785169665,-1.6343400452136536'), ('22', '63', 'Kalimantan Selatan', '29', '7', '2', '115.3113078341141,-2.4497791372641027'), ('23', '64', 'Kalimantan Timur', '35', '6', '1', '116.47085839332128,0.46104622699002373'), ('24', '65', 'Kalimantan Utara', '16', '6', '1', '116.21671830879166,2.888820960580607'), ('25', '71', 'Sulawesi Utara', '13', '1', '2', '124.53537884973578,1.2860976870791814'), ('26', '72', 'Sulawesi Tengah', '14', '1', '2', '120.44959250038356,-1.4592149539219137'); \"\n",
    "db = conMql(dbPar)\n",
    "cur = db.cursor()\n",
    "result = cur.execute(qry)\n",
    "cur.close()\n",
    "db.close()"
   ]
  },
  {
   "cell_type": "code",
   "execution_count": 12,
   "metadata": {},
   "outputs": [],
   "source": [
    "qry = \"INSERT INTO `corona_province` VALUES ('27', '73', 'Sulawesi Selatan', '167', '24', '11', '120.16115770364496,-3.7471157118016927'), ('28', '74', 'Sulawesi Tenggara', '15', '1', '11', '122.0786780559111,-4.1328039709672435'), ('29', '75', 'Gorontalo', '1', '1', '11', '123.06184000014996,0.5370700003394442'), ('30', '76', 'Barat', '3', '1', '11', '119.34347138338468,-2.461902015116017'), ('31', '81', 'Maluku', '3', '1', '11', '129.3604249999869,-3.1261193431769434'), ('32', '82', 'Maluku Utara', '2', '1', '11', '128.0159294419005,0.8693370008694276'), ('33', '94', 'Papua', '38', '3', '2', '140.0000000003746,-5.000000000227514'), ('34', '91', 'Papua Barat', '2', '3', '1', '132.96834171194757,-2.0417232818795226' ), ('35', '91', 'Indonesia', '35', '3', '1', '113.91586500022191,-0.9898181822734585') ;\"\n",
    "db = conMql(dbPar)\n",
    "cur = db.cursor()\n",
    "result = cur.execute(qry)\n",
    "cur.close()\n",
    "db.close()"
   ]
  },
  {
   "cell_type": "code",
   "execution_count": null,
   "metadata": {},
   "outputs": [],
   "source": []
  }
 ],
 "metadata": {
  "kernelspec": {
   "display_name": "Python 3",
   "language": "python",
   "name": "python3"
  },
  "language_info": {
   "codemirror_mode": {
    "name": "ipython",
    "version": 3
   },
   "file_extension": ".py",
   "mimetype": "text/x-python",
   "name": "python",
   "nbconvert_exporter": "python",
   "pygments_lexer": "ipython3",
   "version": "3.7.4"
  }
 },
 "nbformat": 4,
 "nbformat_minor": 2
}
