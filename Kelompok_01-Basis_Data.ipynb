{
 "cells": [
  {
   "cell_type": "markdown",
   "metadata": {},
   "source": [
    "# Kelompok 1 Basis Data\n",
    "\n",
    "## Anggota Kelompok:\n",
    "- Fathu Rahman (11170940000028)\n",
    "- Reza Khaerul I (11170940000044)\n",
    "- Yulia Amandari (11170940000041)\n",
    "- Danny Yoga Alfarizki (11160940000049)\n",
    "- Rahmawati (11160940000035)\n",
    "- Ivansyah (11170940000047)\n",
    "- Hany Rahmanita (11170940000060)\n",
    "- Risky Febriawan (11160940000051)\n",
    "- Gilang Rizki Pratama (11150940000033)\n",
    "- Nurul Jannah (11160940000080)\n",
    "<br>\n",
    "\n",
    "## Nama tabel dataset:\n",
    "<br>\n",
    "\n",
    "- Kelompok_1Dataset_1\n",
    "- Kelompok_1Dataset_2\n",
    "- Kelompok_1Dataset_3"
   ]
  }
 ],
 "metadata": {
  "kernelspec": {
   "display_name": "Python 3",
   "language": "python",
   "name": "python3"
  },
  "language_info": {
   "codemirror_mode": {
    "name": "ipython",
    "version": 3
   },
   "file_extension": ".py",
   "mimetype": "text/x-python",
   "name": "python",
   "nbconvert_exporter": "python",
   "pygments_lexer": "ipython3",
   "version": "3.8.1"
  }
 },
 "nbformat": 4,
 "nbformat_minor": 4
}
