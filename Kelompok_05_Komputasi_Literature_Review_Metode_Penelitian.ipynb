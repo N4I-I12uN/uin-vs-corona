{
 "cells": [
  {
   "cell_type": "markdown",
   "metadata": {},
   "source": [
    "### Tugas Metode Peneitian (Literature Review)\n",
    "###  Kelompok 5 Komputasi \n",
    "1. Siti Aenun Naimatul Jannah (11170940000004)\n",
    "2. Irman Suryana (11170940000018)\n",
    "3. Gery Ferdian Aly (11170940000039)\n",
    "4. Tira Amalia (11170940000042)\n",
    "5. Ujang Hasanudin (11170940000062)\n",
    "\n",
    "##                                         2019 Novel Coronavirus "
   ]
  },
  {
   "cell_type": "markdown",
   "metadata": {},
   "source": [
    "### 1. Review \n",
    "        \n",
    "        Pada awal Desember 2019, kasus pneumonia baru telah ditemukan di kota Wuhan, China[2],[7]. Diduga virus ini telah menyebar sebelum Desember 2019[1]. Kasus pneumonia ini tidak diketahui penyebabnya dalam artian tidak terdeteksi apa penyebabnya[7]. Ini disebabkan penemuan betacoronavirus tipe baru yang seharusnya tidak ditemukan dalam sampel pasien pneumonia[7]. Penemuan kasus pneumonia baru di Wuhan ini disinyalir disebabkan oleh pasar tradisional yang menjual seafood[1]. Pasar tradisional yang menjual seafood inilah yang menjadi titik awal penyebaran dari hewan ke manusia dan dilanjutkan dari manusia ke manusia dan menyebar luas ke China[4]. Penemuan kasus baru ini disebabkan pada sel epitel saluran pernapasan manusia terisolasi oleh virus corona baru yang dinamakan 2019-nCov[8].  \n",
    "        Karakteristik pada 2019-nCov ini memiliki kesamaan pada virus yang menyebabkan SARS(Severe Acute Respiratory Syndrome) dan MERS (Middle East Respiratory Syndrome) yang gejala awalnya adalah flu biasa[2]. Dalam penyebaran virus-virus ini tidaklah serta merta orang itu langsung terjangkiti, melainkan ada masa inkubasi. Masa inkubasi merupakan masa dari orang itu terpapar sampai timbulnya penyakit[5]. Masa inkubasi cukup penting pada distribusi epidemiologi dan biasanya digunakan untuk menentukan lamanya waktu karantina dan juga dapat menghasilkan model matematis yang bisa memprediksi waktu berakhirnya virus itu[5][6]. Sebelum terpapar, orang dapat terkena covid-19 pada waktu orang itu tiba di Wuhan dan pergi meninggalkan Wuhan[2]. Rata-rata masa inkubasi pada masyarakat Wuhan selama 6 hari[2]. Sedangkan untuk masyarakat yang berasal dari luar kota Wuhan memiliki rata-rata masa inkubasi sebanyak 5 hari[2]. Hal ini dihitung berdasarkan distribusi pada waktu inkubasi merupakan distribusi log-normal, karena pada masa inkubasi orang akan mengalami gejala-gejala pada 5 hari pertama dan cenderung akan turun setelah 5 hari hingga 14 hari[2]. Sama halnya dengan covid-19, dari semua distribusi seperti Gamma, Weibull, Lognormal, log logistik, dan eksponensial, distribusi masa inkubasi pada virus MERS ini memiliki pendekatan yang baik untuk distibusi log-normal[6]. Jadi secara masa inkubasi, Covid-19 dengan MERS memiliki kesamaan karakteristik secara epidemiologi dengan SARS[5].\n",
    "        Dari informasi tersebut kita mendapatkan kunci parameter penting seperti untuk menekan rata-rata kematian, prakiraan waktu beakhirnya epidemi dan beberapa kemungkinan yang dapat diprediksi[5]. Perlu adanya kebijakan-kebijakan dari pemerintah untuk menekan angka laju kematian Covid-19, mengingat resiko kematian karena Covid-19 sebesar 12% terutama pada daerah China[3]. Karena laju kematian yang cukup tinggi inilah yang menyebabkan negara-negara memberlakukan pelarangan untuk bepergian ke luar negeri. Pelarangan ini dimulai sejak awal Februari 2020 terutama untuk negara-negara yang memiliki jumlah kasus terbanyak seperti China, Amerika Serikat, Rusia dan Italia[1]. Hasilnya menunjukkan bahwa pembatasan untuk bepergian ke dan dari luar negeri terutama China hanya sedikit memengaruhi penyebaran epidemi Covid-19 kecuali jika dikombinasikan dengan penurunan penularan yang signifikan dari masyarakat lokal sebanyak 50%[1]. Dan karena resiko kematian dari Covid-19 kemungkinan berubungan dengan kerusakan pada sistem kesehatan jika tanpa adanya tindakan medis secara tanggap seperti pemberian vaksin dan obat antiviral, menambah tindakan sosial seperti pembatasan jarak, karantina, kontrol infeksi dan pelarangan yang berkelanjutan dan meningkatkan sistem kesehatan seharusnya dapat lebih digencarkan lagi untuk menekan penyebaran Covid-19 secara cepat dan tepat[3]."
   ]
  },
  {
   "cell_type": "markdown",
   "metadata": {},
   "source": [
    "<img src=\"images/Mind_Map_Covid_19_Kelompok_5_Komputasi.png\"/>"
   ]
  },
  {
   "cell_type": "markdown",
   "metadata": {},
   "source": [
    "## 2. Referensi\n",
    "1. Chinazzi, M., Davis, J. T., Ajelli, M., Gioannini, C., Litvinova, M., Merler, S., Pastore Y Piontti, A., Mu, K., Rossi, L., Sun, K., Viboud, C., Xiong, X., Yu, H., Halloran, M. E., Longini, I. M., & Vespignani, A. (2020). \n",
    "The effect of travel restrictions on the spread of the 2019 novel coronavirus (COVID-19) outbreak. Science (New York, N.Y.). https://doi.org/10.1126/science.aba9757\n",
    "\n",
    "2. Lauer, S. A., Grantz, K. H., Bi, Q., Jones, F. K., Zheng, Q., Meredith, H. R., Azman, A. S., Reich, N. G., & Lessler, J. (2020). \n",
    "The Incubation Period of Coronavirus Disease 2019 (COVID-19) From Publicly Reported Confirmed Cases: Estimation and Application. Annals of Internal Medicine. https://doi.org/10.7326/M20-0504\n",
    "\n",
    "3. Mizumoto, K., & Chowell, G. (2020). \n",
    "Estimating Risk for Death from 2019 Novel Coronavirus Disease, China, January-February 2020. Emerging Infectious Diseases. https://doi.org/10.3201/eid2606.200233\n",
    "\n",
    "4. Jung, S.-M., Akhmetzhanov, A. R., Hayashi, K., Linton, N. M., Yang, Y., Yuan, B., Kobayashi, T., Kinoshita, R., & Nishiura, H. (2020). \n",
    "Real-Time Estimation of the Risk of Death from Novel Coronavirus (COVID-19) Infection: Inference Using Exported Cases. Journal of Clinical Medicine. https://doi.org/10.3390/jcm9020523\n",
    "\n",
    "5.  Linton NM, Kobayashi T, Yang Y, et al (2020). \n",
    "Incubation period and other epidemiological characteristics of 2019 novel coronavirus infections with right truncation: a statistical analysis of publicly available case data. J Clin Med ;9. [PMID: 32079150] doi:10.3390 /jcm9020538\n",
    "\n",
    "6.  Virlogeux V, Fang VJ, Park M, et al (2016). \n",
    "Comparison of incubation period distribution of human infections with MERS-CoV in South KoreaandSaudiArabia.SciRep.2016;6:35839.[PMID:27775012]doi: 10.1038/srep35839 \n",
    "\n",
    "7. Zhu N, Zhang D, Wang W, et al; China Novel Coronavirus Investigating and Research Team (2019).\n",
    "A novel coronavirus from patients with pneumonia in China.NEnglJMed.2020;382:727-733.[PMID: 31978945] doi:10.1056/NEJMoa2001017\n",
    "\n",
    "8. Yu, W. B., Tang, G. D., Zhang, L., & Corlett, R. T. (2020). Decoding evolution and transmissions of novel pneumonia coronavirus (SARS-CoV-2) using the whole genomic data. ChinaXriv. https://doi.org/10.12074/202002.00033"
   ]
  }
 ],
 "metadata": {
  "kernelspec": {
   "display_name": "Python 3",
   "language": "python",
   "name": "python3"
  },
  "language_info": {
   "codemirror_mode": {
    "name": "ipython",
    "version": 3
   },
   "file_extension": ".py",
   "mimetype": "text/x-python",
   "name": "python",
   "nbconvert_exporter": "python",
   "pygments_lexer": "ipython3",
   "version": "3.6.7"
  }
 },
 "nbformat": 4,
 "nbformat_minor": 2
}
