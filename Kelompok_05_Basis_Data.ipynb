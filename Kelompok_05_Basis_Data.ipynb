{
 "cells": [
  {
   "cell_type": "markdown",
   "metadata": {},
   "source": [
    "## Tugas Mata Kuliah Basis Data \n",
    "### Nama anggota\n",
    "1. Cucun Cunaeti                       (11160940000021)\n",
    "2. Saskia Sahrain                       (11160940000032)\n",
    "3. Alfi Hasni                                 (11160940000043)  \n",
    "4. Maisy Amelia Silvani               (11160940000066)\n",
    "5. Indah Tri Nurlita                      (11160940000082)\n",
    "6. Siti Aenun Naimatul Jannah              (11170940000004)\n",
    "7. Irman Suryana                         (11170940000018)\n",
    "8. Gery Ferdian Aly                      (11170940000039)\n",
    "9. Tira Amalia                               (11170940000042)\n",
    "10. Ujang Hasanudin                     (11170940000062)"
   ]
  },
  {
   "cell_type": "markdown",
   "metadata": {},
   "source": [
    "## Nama dataset :\n",
    "1. situasi_corona_di_indonesia \n",
    "2. kasus_corona_di_cina"
   ]
  },
  {
   "cell_type": "markdown",
   "metadata": {},
   "source": [
    "## 1. Situasi_Corona_di_Indonesia"
   ]
  },
  {
   "cell_type": "code",
   "execution_count": 139,
   "metadata": {},
   "outputs": [],
   "source": [
    "import pandas as pd\n",
    "import mysql.connector as mysql\n",
    "from time import time"
   ]
  },
  {
   "cell_type": "code",
   "execution_count": 134,
   "metadata": {},
   "outputs": [],
   "source": [
    "dbPar = {'db_': 'u8494347_mtkfstuin', 'tbl':'', 'usr':'u8494347_mtkfstuin', 'pas':'mtkfstuin', 'hst':'data-university.com'}"
   ]
  },
  {
   "cell_type": "code",
   "execution_count": 135,
   "metadata": {},
   "outputs": [],
   "source": [
    "def conMql(dbPar, maxTry=3):\n",
    "    try_ = 0\n",
    "    while try_<maxTry:\n",
    "        try:\n",
    "            return mysql.connect(host=dbPar['hst'],user=dbPar['usr'],passwd=dbPar['pas'],db=dbPar['db_'])\n",
    "        except (mysql.Error) as e:      \n",
    "            print (\"Error Connecting to MySQL %d: %s, please wait retrying\" % (e.args[0],e.args[1]))\n",
    "            try_ += 1; time.sleep(1)"
   ]
  },
  {
   "cell_type": "code",
   "execution_count": 136,
   "metadata": {
    "scrolled": true
   },
   "outputs": [
    {
     "data": {
      "text/html": [
       "<div>\n",
       "<style scoped>\n",
       "    .dataframe tbody tr th:only-of-type {\n",
       "        vertical-align: middle;\n",
       "    }\n",
       "\n",
       "    .dataframe tbody tr th {\n",
       "        vertical-align: top;\n",
       "    }\n",
       "\n",
       "    .dataframe thead th {\n",
       "        text-align: right;\n",
       "    }\n",
       "</style>\n",
       "<table border=\"1\" class=\"dataframe\">\n",
       "  <thead>\n",
       "    <tr style=\"text-align: right;\">\n",
       "      <th></th>\n",
       "      <th>date</th>\n",
       "      <th>new_tested</th>\n",
       "      <th>acc_tested</th>\n",
       "      <th>new_confirmed</th>\n",
       "      <th>acc_confirmed</th>\n",
       "      <th>acc_negative</th>\n",
       "      <th>being_checked</th>\n",
       "      <th>isolated</th>\n",
       "      <th>new_released</th>\n",
       "      <th>acc_released</th>\n",
       "      <th>new_deceased</th>\n",
       "      <th>acc_deceased</th>\n",
       "      <th>positive_rate</th>\n",
       "      <th>negative_rate</th>\n",
       "      <th>decease_rate</th>\n",
       "      <th>release_rate</th>\n",
       "      <th>dailypositive_rate</th>\n",
       "    </tr>\n",
       "  </thead>\n",
       "  <tbody>\n",
       "    <tr>\n",
       "      <th>0</th>\n",
       "      <td>2-Mar-20</td>\n",
       "      <td>0</td>\n",
       "      <td>339</td>\n",
       "      <td>2</td>\n",
       "      <td>2</td>\n",
       "      <td>335</td>\n",
       "      <td>2</td>\n",
       "      <td>2</td>\n",
       "      <td>0</td>\n",
       "      <td>0</td>\n",
       "      <td>0</td>\n",
       "      <td>0</td>\n",
       "      <td>0.59%</td>\n",
       "      <td>98.82%</td>\n",
       "      <td>0.00%</td>\n",
       "      <td>0.00%</td>\n",
       "      <td>0.00%</td>\n",
       "    </tr>\n",
       "    <tr>\n",
       "      <th>1</th>\n",
       "      <td>3-Mar-20</td>\n",
       "      <td>2</td>\n",
       "      <td>341</td>\n",
       "      <td>0</td>\n",
       "      <td>2</td>\n",
       "      <td>337</td>\n",
       "      <td>2</td>\n",
       "      <td>2</td>\n",
       "      <td>0</td>\n",
       "      <td>0</td>\n",
       "      <td>0</td>\n",
       "      <td>0</td>\n",
       "      <td>0.59%</td>\n",
       "      <td>98.83%</td>\n",
       "      <td>0.00%</td>\n",
       "      <td>0.00%</td>\n",
       "      <td>0.00%</td>\n",
       "    </tr>\n",
       "    <tr>\n",
       "      <th>2</th>\n",
       "      <td>4-Mar-20</td>\n",
       "      <td>31</td>\n",
       "      <td>372</td>\n",
       "      <td>0</td>\n",
       "      <td>2</td>\n",
       "      <td>356</td>\n",
       "      <td>14</td>\n",
       "      <td>2</td>\n",
       "      <td>0</td>\n",
       "      <td>0</td>\n",
       "      <td>0</td>\n",
       "      <td>0</td>\n",
       "      <td>0.54%</td>\n",
       "      <td>95.70%</td>\n",
       "      <td>0.00%</td>\n",
       "      <td>0.00%</td>\n",
       "      <td>0.00%</td>\n",
       "    </tr>\n",
       "    <tr>\n",
       "      <th>3</th>\n",
       "      <td>5-Mar-20</td>\n",
       "      <td>16</td>\n",
       "      <td>388</td>\n",
       "      <td>0</td>\n",
       "      <td>2</td>\n",
       "      <td>371</td>\n",
       "      <td>15</td>\n",
       "      <td>2</td>\n",
       "      <td>0</td>\n",
       "      <td>0</td>\n",
       "      <td>0</td>\n",
       "      <td>0</td>\n",
       "      <td>0.52%</td>\n",
       "      <td>95.62%</td>\n",
       "      <td>0.00%</td>\n",
       "      <td>0.00%</td>\n",
       "      <td>0.00%</td>\n",
       "    </tr>\n",
       "    <tr>\n",
       "      <th>4</th>\n",
       "      <td>6-Mar-20</td>\n",
       "      <td>62</td>\n",
       "      <td>450</td>\n",
       "      <td>2</td>\n",
       "      <td>4</td>\n",
       "      <td>422</td>\n",
       "      <td>24</td>\n",
       "      <td>4</td>\n",
       "      <td>0</td>\n",
       "      <td>0</td>\n",
       "      <td>0</td>\n",
       "      <td>0</td>\n",
       "      <td>0.89%</td>\n",
       "      <td>93.78%</td>\n",
       "      <td>0.00%</td>\n",
       "      <td>0.00%</td>\n",
       "      <td>3.23%</td>\n",
       "    </tr>\n",
       "  </tbody>\n",
       "</table>\n",
       "</div>"
      ],
      "text/plain": [
       "       date  new_tested  acc_tested  new_confirmed  acc_confirmed  \\\n",
       "0  2-Mar-20           0         339              2              2   \n",
       "1  3-Mar-20           2         341              0              2   \n",
       "2  4-Mar-20          31         372              0              2   \n",
       "3  5-Mar-20          16         388              0              2   \n",
       "4  6-Mar-20          62         450              2              4   \n",
       "\n",
       "   acc_negative  being_checked  isolated  new_released  acc_released  \\\n",
       "0           335              2         2             0             0   \n",
       "1           337              2         2             0             0   \n",
       "2           356             14         2             0             0   \n",
       "3           371             15         2             0             0   \n",
       "4           422             24         4             0             0   \n",
       "\n",
       "   new_deceased  acc_deceased positive_rate negative_rate decease_rate  \\\n",
       "0             0             0         0.59%        98.82%        0.00%   \n",
       "1             0             0         0.59%        98.83%        0.00%   \n",
       "2             0             0         0.54%        95.70%        0.00%   \n",
       "3             0             0         0.52%        95.62%        0.00%   \n",
       "4             0             0         0.89%        93.78%        0.00%   \n",
       "\n",
       "  release_rate dailypositive_rate  \n",
       "0        0.00%              0.00%  \n",
       "1        0.00%              0.00%  \n",
       "2        0.00%              0.00%  \n",
       "3        0.00%              0.00%  \n",
       "4        0.00%              3.23%  "
      ]
     },
     "execution_count": 136,
     "metadata": {},
     "output_type": "execute_result"
    }
   ],
   "source": [
    "cases=pd.read_csv('data/cases.csv')\n",
    "cases.head()"
   ]
  },
  {
   "cell_type": "code",
   "execution_count": 137,
   "metadata": {},
   "outputs": [
    {
     "data": {
      "text/plain": [
       "date                  object\n",
       "new_tested             int64\n",
       "acc_tested             int64\n",
       "new_confirmed          int64\n",
       "acc_confirmed          int64\n",
       "acc_negative           int64\n",
       "being_checked          int64\n",
       "isolated               int64\n",
       "new_released           int64\n",
       "acc_released           int64\n",
       "new_deceased           int64\n",
       "acc_deceased           int64\n",
       "positive_rate         object\n",
       "negative_rate         object\n",
       "decease_rate          object\n",
       "release_rate          object\n",
       "dailypositive_rate    object\n",
       "dtype: object"
      ]
     },
     "execution_count": 137,
     "metadata": {},
     "output_type": "execute_result"
    }
   ],
   "source": [
    "cases.dtypes"
   ]
  },
  {
   "cell_type": "code",
   "execution_count": 138,
   "metadata": {},
   "outputs": [
    {
     "data": {
      "text/plain": [
       "(date                  datetime64[ns]\n",
       " new_tested                     int64\n",
       " acc_tested                     int64\n",
       " new_confirmed                  int64\n",
       " acc_confirmed                  int64\n",
       " acc_negative                   int64\n",
       " being_checked                  int64\n",
       " isolated                       int64\n",
       " new_released                   int64\n",
       " acc_released                   int64\n",
       " new_deceased                   int64\n",
       " acc_deceased                   int64\n",
       " positive_rate                 object\n",
       " negative_rate                 object\n",
       " decease_rate                  object\n",
       " release_rate                  object\n",
       " dailypositive_rate            object\n",
       " dtype: object,\n",
       " <bound method DataFrame.transpose of         date  new_tested  acc_tested  new_confirmed  acc_confirmed  \\\n",
       " 0 2020-03-02           0         339              2              2   \n",
       " 1 2020-03-03           2         341              0              2   \n",
       " 2 2020-03-04          31         372              0              2   \n",
       " \n",
       "    acc_negative  being_checked  isolated  new_released  acc_released  \\\n",
       " 0           335              2         2             0             0   \n",
       " 1           337              2         2             0             0   \n",
       " 2           356             14         2             0             0   \n",
       " \n",
       "    new_deceased  acc_deceased positive_rate negative_rate decease_rate  \\\n",
       " 0             0             0         0.59%        98.82%        0.00%   \n",
       " 1             0             0         0.59%        98.83%        0.00%   \n",
       " 2             0             0         0.54%        95.70%        0.00%   \n",
       " \n",
       "   release_rate dailypositive_rate  \n",
       " 0        0.00%              0.00%  \n",
       " 1        0.00%              0.00%  \n",
       " 2        0.00%              0.00%  >)"
      ]
     },
     "execution_count": 138,
     "metadata": {},
     "output_type": "execute_result"
    }
   ],
   "source": [
    "cases['date']=cases['date'].astype('datetime64')\n",
    "cases.dtypes, cases.head(3).transpose"
   ]
  },
  {
   "cell_type": "code",
   "execution_count": 126,
   "metadata": {},
   "outputs": [
    {
     "ename": "ProgrammingError",
     "evalue": "1050 (42S01): Table 'situasi_corona_di_indonesia' already exists",
     "output_type": "error",
     "traceback": [
      "\u001b[1;31m---------------------------------------------------------------------------\u001b[0m",
      "\u001b[1;31mProgrammingError\u001b[0m                          Traceback (most recent call last)",
      "\u001b[1;32m<ipython-input-126-e25cb5733ad3>\u001b[0m in \u001b[0;36m<module>\u001b[1;34m\u001b[0m\n\u001b[0;32m      2\u001b[0m \u001b[0mdb\u001b[0m \u001b[1;33m=\u001b[0m \u001b[0mconMql\u001b[0m\u001b[1;33m(\u001b[0m\u001b[0mdbPar\u001b[0m\u001b[1;33m)\u001b[0m\u001b[1;33m\u001b[0m\u001b[1;33m\u001b[0m\u001b[0m\n\u001b[0;32m      3\u001b[0m \u001b[0mcur\u001b[0m \u001b[1;33m=\u001b[0m \u001b[0mdb\u001b[0m\u001b[1;33m.\u001b[0m\u001b[0mcursor\u001b[0m\u001b[1;33m(\u001b[0m\u001b[1;33m)\u001b[0m\u001b[1;33m\u001b[0m\u001b[1;33m\u001b[0m\u001b[0m\n\u001b[1;32m----> 4\u001b[1;33m \u001b[0mres\u001b[0m \u001b[1;33m=\u001b[0m \u001b[0mcur\u001b[0m\u001b[1;33m.\u001b[0m\u001b[0mexecute\u001b[0m\u001b[1;33m(\u001b[0m\u001b[0mqry\u001b[0m\u001b[1;33m)\u001b[0m\u001b[1;33m\u001b[0m\u001b[1;33m\u001b[0m\u001b[0m\n\u001b[0m\u001b[0;32m      5\u001b[0m \u001b[0mcur\u001b[0m\u001b[1;33m.\u001b[0m\u001b[0mclose\u001b[0m\u001b[1;33m(\u001b[0m\u001b[1;33m)\u001b[0m\u001b[1;33m\u001b[0m\u001b[1;33m\u001b[0m\u001b[0m\n\u001b[0;32m      6\u001b[0m \u001b[0mdb\u001b[0m\u001b[1;33m.\u001b[0m\u001b[0mclose\u001b[0m\u001b[1;33m(\u001b[0m\u001b[1;33m)\u001b[0m\u001b[1;33m\u001b[0m\u001b[1;33m\u001b[0m\u001b[0m\n",
      "\u001b[1;32mC:\\WPy-3670\\python-3.6.7.amd64\\lib\\site-packages\\mysql\\connector\\cursor.py\u001b[0m in \u001b[0;36mexecute\u001b[1;34m(self, operation, params, multi)\u001b[0m\n\u001b[0;32m    564\u001b[0m \u001b[1;33m\u001b[0m\u001b[0m\n\u001b[0;32m    565\u001b[0m         \u001b[1;32mtry\u001b[0m\u001b[1;33m:\u001b[0m\u001b[1;33m\u001b[0m\u001b[1;33m\u001b[0m\u001b[0m\n\u001b[1;32m--> 566\u001b[1;33m             \u001b[0mself\u001b[0m\u001b[1;33m.\u001b[0m\u001b[0m_handle_result\u001b[0m\u001b[1;33m(\u001b[0m\u001b[0mself\u001b[0m\u001b[1;33m.\u001b[0m\u001b[0m_connection\u001b[0m\u001b[1;33m.\u001b[0m\u001b[0mcmd_query\u001b[0m\u001b[1;33m(\u001b[0m\u001b[0mstmt\u001b[0m\u001b[1;33m)\u001b[0m\u001b[1;33m)\u001b[0m\u001b[1;33m\u001b[0m\u001b[1;33m\u001b[0m\u001b[0m\n\u001b[0m\u001b[0;32m    567\u001b[0m         \u001b[1;32mexcept\u001b[0m \u001b[0merrors\u001b[0m\u001b[1;33m.\u001b[0m\u001b[0mInterfaceError\u001b[0m\u001b[1;33m:\u001b[0m\u001b[1;33m\u001b[0m\u001b[1;33m\u001b[0m\u001b[0m\n\u001b[0;32m    568\u001b[0m             \u001b[1;32mif\u001b[0m \u001b[0mself\u001b[0m\u001b[1;33m.\u001b[0m\u001b[0m_connection\u001b[0m\u001b[1;33m.\u001b[0m\u001b[0m_have_next_result\u001b[0m\u001b[1;33m:\u001b[0m  \u001b[1;31m# pylint: disable=W0212\u001b[0m\u001b[1;33m\u001b[0m\u001b[1;33m\u001b[0m\u001b[0m\n",
      "\u001b[1;32mC:\\WPy-3670\\python-3.6.7.amd64\\lib\\site-packages\\mysql\\connector\\connection.py\u001b[0m in \u001b[0;36mcmd_query\u001b[1;34m(self, query, raw, buffered, raw_as_string)\u001b[0m\n\u001b[0;32m    535\u001b[0m         \u001b[1;32mif\u001b[0m \u001b[1;32mnot\u001b[0m \u001b[0misinstance\u001b[0m\u001b[1;33m(\u001b[0m\u001b[0mquery\u001b[0m\u001b[1;33m,\u001b[0m \u001b[0mbytes\u001b[0m\u001b[1;33m)\u001b[0m\u001b[1;33m:\u001b[0m\u001b[1;33m\u001b[0m\u001b[1;33m\u001b[0m\u001b[0m\n\u001b[0;32m    536\u001b[0m             \u001b[0mquery\u001b[0m \u001b[1;33m=\u001b[0m \u001b[0mquery\u001b[0m\u001b[1;33m.\u001b[0m\u001b[0mencode\u001b[0m\u001b[1;33m(\u001b[0m\u001b[1;34m'utf-8'\u001b[0m\u001b[1;33m)\u001b[0m\u001b[1;33m\u001b[0m\u001b[1;33m\u001b[0m\u001b[0m\n\u001b[1;32m--> 537\u001b[1;33m         \u001b[0mresult\u001b[0m \u001b[1;33m=\u001b[0m \u001b[0mself\u001b[0m\u001b[1;33m.\u001b[0m\u001b[0m_handle_result\u001b[0m\u001b[1;33m(\u001b[0m\u001b[0mself\u001b[0m\u001b[1;33m.\u001b[0m\u001b[0m_send_cmd\u001b[0m\u001b[1;33m(\u001b[0m\u001b[0mServerCmd\u001b[0m\u001b[1;33m.\u001b[0m\u001b[0mQUERY\u001b[0m\u001b[1;33m,\u001b[0m \u001b[0mquery\u001b[0m\u001b[1;33m)\u001b[0m\u001b[1;33m)\u001b[0m\u001b[1;33m\u001b[0m\u001b[1;33m\u001b[0m\u001b[0m\n\u001b[0m\u001b[0;32m    538\u001b[0m \u001b[1;33m\u001b[0m\u001b[0m\n\u001b[0;32m    539\u001b[0m         \u001b[1;32mif\u001b[0m \u001b[0mself\u001b[0m\u001b[1;33m.\u001b[0m\u001b[0m_have_next_result\u001b[0m\u001b[1;33m:\u001b[0m\u001b[1;33m\u001b[0m\u001b[1;33m\u001b[0m\u001b[0m\n",
      "\u001b[1;32mC:\\WPy-3670\\python-3.6.7.amd64\\lib\\site-packages\\mysql\\connector\\connection.py\u001b[0m in \u001b[0;36m_handle_result\u001b[1;34m(self, packet)\u001b[0m\n\u001b[0;32m    434\u001b[0m             \u001b[1;32mreturn\u001b[0m \u001b[0mself\u001b[0m\u001b[1;33m.\u001b[0m\u001b[0m_handle_eof\u001b[0m\u001b[1;33m(\u001b[0m\u001b[0mpacket\u001b[0m\u001b[1;33m)\u001b[0m\u001b[1;33m\u001b[0m\u001b[1;33m\u001b[0m\u001b[0m\n\u001b[0;32m    435\u001b[0m         \u001b[1;32melif\u001b[0m \u001b[0mpacket\u001b[0m\u001b[1;33m[\u001b[0m\u001b[1;36m4\u001b[0m\u001b[1;33m]\u001b[0m \u001b[1;33m==\u001b[0m \u001b[1;36m255\u001b[0m\u001b[1;33m:\u001b[0m\u001b[1;33m\u001b[0m\u001b[1;33m\u001b[0m\u001b[0m\n\u001b[1;32m--> 436\u001b[1;33m             \u001b[1;32mraise\u001b[0m \u001b[0merrors\u001b[0m\u001b[1;33m.\u001b[0m\u001b[0mget_exception\u001b[0m\u001b[1;33m(\u001b[0m\u001b[0mpacket\u001b[0m\u001b[1;33m)\u001b[0m\u001b[1;33m\u001b[0m\u001b[1;33m\u001b[0m\u001b[0m\n\u001b[0m\u001b[0;32m    437\u001b[0m \u001b[1;33m\u001b[0m\u001b[0m\n\u001b[0;32m    438\u001b[0m         \u001b[1;31m# We have a text result set\u001b[0m\u001b[1;33m\u001b[0m\u001b[1;33m\u001b[0m\u001b[1;33m\u001b[0m\u001b[0m\n",
      "\u001b[1;31mProgrammingError\u001b[0m: 1050 (42S01): Table 'situasi_corona_di_indonesia' already exists"
     ]
    }
   ],
   "source": [
    "qry = \"CREATE TABLE `u8494347_mtkfstuin`.`situasi_corona_di_indonesia` ( `date` DATE NOT NULL DEFAULT CURRENT_TIMESTAMP COMMENT 'waktu kejadian' , `new_tested` INT(5) UNSIGNED NOT NULL COMMENT 'test pasien baru' , `acc_tested` INT(5) UNSIGNED NOT NULL COMMENT 'konfirmasi tes' , `new_confirmed` INT(5) UNSIGNED NOT NULL COMMENT 'baru terkonfirmasi' , `acc_confirmed` INT(5) UNSIGNED NOT NULL COMMENT 'terkonfirmasi positif' , `acc_negative` INT(5) UNSIGNED NOT NULL COMMENT 'terkonfirmasi negatif' , `being_checked` INT(5) UNSIGNED NOT NULL COMMENT 'sedang diperiksa' , `isolated` INT(5) UNSIGNED NOT NULL COMMENT 'isolasi' , `new_released` INT(5) UNSIGNED NOT NULL COMMENT 'yang baru sembuh' , `acc_released` INT(5) UNSIGNED NOT NULL COMMENT 'terkonfirmasi sembuh' , `new_deceased` INT(5) UNSIGNED NOT NULL COMMENT 'kematian baru' , `acc_deceased` INT(5) UNSIGNED NOT NULL COMMENT 'terkonfirmasi wafat' , `positive_rate` VARCHAR(6) CHARACTER SET utf8 COLLATE utf8_general_ci NOT NULL COMMENT 'tingkat positif' , `negative_rate` VARCHAR(6) CHARACTER SET utf8 COLLATE utf8_general_ci NOT NULL COMMENT 'tingkat negatif' , `deceased_rate` VARCHAR(6) CHARACTER SET utf8 COLLATE utf8_general_ci NOT NULL COMMENT 'tingkat kematian' , `release_rate` VARCHAR(6) CHARACTER SET utf8 COLLATE utf8_general_ci NOT NULL COMMENT 'tingkat kesembuhan' , `dailypositive_rate` VARCHAR(6) CHARACTER SET utf8 COLLATE utf8_general_ci NOT NULL COMMENT 'tingkat kasus positif per hari' ) ENGINE = MyISAM CHARSET=utf8 COLLATE utf8_general_ci COMMENT = 'Kasus Corona di Indonesia';\"\n",
    "db = conMql(dbPar)\n",
    "cur = db.cursor()\n",
    "res = cur.execute(qry)\n",
    "cur.close()\n",
    "db.close()\n",
    "res\n",
    "'Done'"
   ]
  },
  {
   "cell_type": "code",
   "execution_count": 91,
   "metadata": {},
   "outputs": [
    {
     "data": {
      "text/plain": [
       "'Done'"
      ]
     },
     "execution_count": 91,
     "metadata": {},
     "output_type": "execute_result"
    }
   ],
   "source": [
    "qry = \"INSERT INTO `situasi_corona_di_indonesia` (`date`, `new_tested`, `acc_tested`, `new_confirmed`, `acc_confirmed`, `acc_negative`, `being_checked`, `isolated`, `new_released`, `acc_released`, `new_deceased`, `acc_deceased`, `positive_rate`, `negative_rate`, `deceased_rate`, `release_rate`, `dailypositive_rate`) VALUES ('2020-03-02', '0', '339', '2', '2', '335', '2', '2', '0', '0', '0', '0', '0.59%', '98.82%', '0.00%', '0.00%', '0.00%'), ('2020-03-03', '2', '341', '0', '2', '337', '2', '2', '0', '0', '0', '0', '0.59%', '98.83%', '0.00%', '0.00%', '0.00%'), ('2020-03-04', '31', '372', '0', '2', '356', '14', '2', '0', '0', '0', '0', '0.54%', '95.70%', '0.00%', '0.00%', '0.00%'), ('2020-03-05', '16', '388', '0', '2', '371', '15', '2', '0', '0', '0', '0', '0.52%', '95.62%', '0.00%', '0.00%', '0.00%'), ('2020-03-06', '62', '450', '2', '4', '422', '24', '4', '0', '0', '0', '0', '0.89%', '93.78%', '0.00%', '0.00%', '3.23%'), ('2020-03-07', '4', '454', '0', '4', '422', '28', '4', '0', '0', '0', '0', '0.88%', '92.95%', '0.00%', '0.00%', '0.00%'), ('2020-03-08', '29', '483', '2', '6', '445', '32', '6', '0', '0', '0', '0', '1.24%', '92.13%', '0.00%', '0.00%', '6.90%'), ('2020-03-09', '60', '543', '13', '19', '487', '37', '19', '0', '0', '0', '0', '3.50%', '89.69%', '0.00%', '0.00%', '21.67%'), ('2020-03-10', '151', '694', '8', '27', '648', '19', '27', '0', '0', '0', '0', '3.89%', '93.37%', '0.00%', '0.00%', '5.30%'), ('2020-03-11', '99', '793', '7', '34', '744', '15', '30', '2', '2', '2', '2', '4.29%', '93.82%', '5.88%', '5.88%', '7.07%'), ('2020-03-12', '69', '862', '0', '34', '811', '17', '27', '1', '3', '2', '4', '3.94%', '94.08%', '11.76%', '8.82%', '0.00%'), ('2020-03-13', '143', '1005', '35', '69', '917', '19', '60', '2', '5', '0', '4', '6.87%', '91.24%', '5.80%', '7.25%', '24.48%'), ('2020-03-14', '200', '1205', '27', '96', '1109', '0', '83', '3', '8', '1', '5', '7.97%', '92.03%', '5.21%', '8.33%', '13.50%'), ('2020-03-15', '88', '1293', '21', '117', '1167', '9', '104', '0', '8', '0', '5', '9.05%', '90.26%', '4.27%', '6.84%', '23.86%'), ('2020-03-16', '43', '1330', '17', '134', '1183', '13', '121', '0', '8', '0', '5', '10.08%', '88.95%', '3.73%', '5.97%', '23.86%'), ('2020-03-17', '142', '1372', '38', '172', '1278', '22', '156', '1', '9', '2', '7', '12.54%', '93.15%', '4.07%', '5.23%', '26.76%'), ('2020-03-18', '220', '1592', '55', '227', '1342', '23', '197', '2', '11', '12', '19', '14.26%', '84.30%', '8.37%', '4.85%', '25.00%'), ('2020-03-19', '306', '1651', '82', '309', '1570', '19', '269', '4', '15', '6', '25', '18.72%', '95.09%', '8.09%', '4.85%', '26.80%'), ('2020-03-20', '130', '2028', '60', '369', '1643', '18', '321', '1', '16', '7', '32', '18.20%', '81.02%', '8.67%', '4.34%', '46.15%');\"\n",
    "db = conMql(dbPar)\n",
    "cur = db.cursor()\n",
    "res = cur.execute(qry)\n",
    "cur.close()\n",
    "db.close()\n",
    "res\n",
    "'Done'"
   ]
  },
  {
   "cell_type": "code",
   "execution_count": 93,
   "metadata": {},
   "outputs": [
    {
     "data": {
      "text/html": [
       "<div>\n",
       "<style scoped>\n",
       "    .dataframe tbody tr th:only-of-type {\n",
       "        vertical-align: middle;\n",
       "    }\n",
       "\n",
       "    .dataframe tbody tr th {\n",
       "        vertical-align: top;\n",
       "    }\n",
       "\n",
       "    .dataframe thead th {\n",
       "        text-align: right;\n",
       "    }\n",
       "</style>\n",
       "<table border=\"1\" class=\"dataframe\">\n",
       "  <thead>\n",
       "    <tr style=\"text-align: right;\">\n",
       "      <th></th>\n",
       "      <th>date</th>\n",
       "      <th>new_tested</th>\n",
       "      <th>acc_tested</th>\n",
       "      <th>new_confirmed</th>\n",
       "      <th>acc_confirmed</th>\n",
       "      <th>acc_negative</th>\n",
       "      <th>being_checked</th>\n",
       "      <th>isolated</th>\n",
       "      <th>new_released</th>\n",
       "      <th>acc_released</th>\n",
       "      <th>new_deceased</th>\n",
       "      <th>acc_deceased</th>\n",
       "      <th>positive_rate</th>\n",
       "      <th>negative_rate</th>\n",
       "      <th>deceased_rate</th>\n",
       "      <th>release_rate</th>\n",
       "      <th>dailypositive_rate</th>\n",
       "    </tr>\n",
       "  </thead>\n",
       "  <tbody>\n",
       "    <tr>\n",
       "      <th>0</th>\n",
       "      <td>2020-03-02</td>\n",
       "      <td>0</td>\n",
       "      <td>339</td>\n",
       "      <td>2</td>\n",
       "      <td>2</td>\n",
       "      <td>335</td>\n",
       "      <td>2</td>\n",
       "      <td>2</td>\n",
       "      <td>0</td>\n",
       "      <td>0</td>\n",
       "      <td>0</td>\n",
       "      <td>0</td>\n",
       "      <td>0.59%</td>\n",
       "      <td>98.82%</td>\n",
       "      <td>0.00%</td>\n",
       "      <td>0.00%</td>\n",
       "      <td>0.00%</td>\n",
       "    </tr>\n",
       "    <tr>\n",
       "      <th>1</th>\n",
       "      <td>2020-03-03</td>\n",
       "      <td>2</td>\n",
       "      <td>341</td>\n",
       "      <td>0</td>\n",
       "      <td>2</td>\n",
       "      <td>337</td>\n",
       "      <td>2</td>\n",
       "      <td>2</td>\n",
       "      <td>0</td>\n",
       "      <td>0</td>\n",
       "      <td>0</td>\n",
       "      <td>0</td>\n",
       "      <td>0.59%</td>\n",
       "      <td>98.83%</td>\n",
       "      <td>0.00%</td>\n",
       "      <td>0.00%</td>\n",
       "      <td>0.00%</td>\n",
       "    </tr>\n",
       "    <tr>\n",
       "      <th>2</th>\n",
       "      <td>2020-03-04</td>\n",
       "      <td>31</td>\n",
       "      <td>372</td>\n",
       "      <td>0</td>\n",
       "      <td>2</td>\n",
       "      <td>356</td>\n",
       "      <td>14</td>\n",
       "      <td>2</td>\n",
       "      <td>0</td>\n",
       "      <td>0</td>\n",
       "      <td>0</td>\n",
       "      <td>0</td>\n",
       "      <td>0.54%</td>\n",
       "      <td>95.70%</td>\n",
       "      <td>0.00%</td>\n",
       "      <td>0.00%</td>\n",
       "      <td>0.00%</td>\n",
       "    </tr>\n",
       "    <tr>\n",
       "      <th>3</th>\n",
       "      <td>2020-03-05</td>\n",
       "      <td>16</td>\n",
       "      <td>388</td>\n",
       "      <td>0</td>\n",
       "      <td>2</td>\n",
       "      <td>371</td>\n",
       "      <td>15</td>\n",
       "      <td>2</td>\n",
       "      <td>0</td>\n",
       "      <td>0</td>\n",
       "      <td>0</td>\n",
       "      <td>0</td>\n",
       "      <td>0.52%</td>\n",
       "      <td>95.62%</td>\n",
       "      <td>0.00%</td>\n",
       "      <td>0.00%</td>\n",
       "      <td>0.00%</td>\n",
       "    </tr>\n",
       "    <tr>\n",
       "      <th>4</th>\n",
       "      <td>2020-03-06</td>\n",
       "      <td>62</td>\n",
       "      <td>450</td>\n",
       "      <td>2</td>\n",
       "      <td>4</td>\n",
       "      <td>422</td>\n",
       "      <td>24</td>\n",
       "      <td>4</td>\n",
       "      <td>0</td>\n",
       "      <td>0</td>\n",
       "      <td>0</td>\n",
       "      <td>0</td>\n",
       "      <td>0.89%</td>\n",
       "      <td>93.78%</td>\n",
       "      <td>0.00%</td>\n",
       "      <td>0.00%</td>\n",
       "      <td>3.23%</td>\n",
       "    </tr>\n",
       "  </tbody>\n",
       "</table>\n",
       "</div>"
      ],
      "text/plain": [
       "         date  new_tested  acc_tested  new_confirmed  acc_confirmed  \\\n",
       "0  2020-03-02           0         339              2              2   \n",
       "1  2020-03-03           2         341              0              2   \n",
       "2  2020-03-04          31         372              0              2   \n",
       "3  2020-03-05          16         388              0              2   \n",
       "4  2020-03-06          62         450              2              4   \n",
       "\n",
       "   acc_negative  being_checked  isolated  new_released  acc_released  \\\n",
       "0           335              2         2             0             0   \n",
       "1           337              2         2             0             0   \n",
       "2           356             14         2             0             0   \n",
       "3           371             15         2             0             0   \n",
       "4           422             24         4             0             0   \n",
       "\n",
       "   new_deceased  acc_deceased positive_rate negative_rate deceased_rate  \\\n",
       "0             0             0         0.59%        98.82%         0.00%   \n",
       "1             0             0         0.59%        98.83%         0.00%   \n",
       "2             0             0         0.54%        95.70%         0.00%   \n",
       "3             0             0         0.52%        95.62%         0.00%   \n",
       "4             0             0         0.89%        93.78%         0.00%   \n",
       "\n",
       "  release_rate dailypositive_rate  \n",
       "0        0.00%              0.00%  \n",
       "1        0.00%              0.00%  \n",
       "2        0.00%              0.00%  \n",
       "3        0.00%              0.00%  \n",
       "4        0.00%              3.23%  "
      ]
     },
     "execution_count": 93,
     "metadata": {},
     "output_type": "execute_result"
    }
   ],
   "source": [
    "import pandas as pd\n",
    "db = conMql(dbPar)\n",
    "query = \"SELECT*FROM situasi_corona_di_indonesia\"\n",
    "data = pd.read_sql(query,db)\n",
    "data.head()"
   ]
  },
  {
   "cell_type": "markdown",
   "metadata": {},
   "source": [
    "## 2. Kasus corona di China"
   ]
  },
  {
   "cell_type": "code",
   "execution_count": 140,
   "metadata": {},
   "outputs": [],
   "source": [
    "dbPar = {'db_': 'u8494347_mtkfstuin', 'tbl':'', 'usr':'u8494347_mtkfstuin', 'pas':'mtkfstuin', 'hst':'data-university.com'}"
   ]
  },
  {
   "cell_type": "code",
   "execution_count": 141,
   "metadata": {},
   "outputs": [],
   "source": [
    "def conMql(dbPar, maxTry=3):\n",
    "    try_ = 0\n",
    "    while try_<maxTry:\n",
    "        try:\n",
    "            return mysql.connect(host=dbPar['hst'],user=dbPar['usr'],passwd=dbPar['pas'],db=dbPar['db_'])\n",
    "        except (mysql.Error) as e:      \n",
    "            print (\"Error Connecting to MySQL %d: %s, please wait retrying\" % (e.args[0],e.args[1]))\n",
    "            try_ += 1; time.sleep(1)"
   ]
  },
  {
   "cell_type": "code",
   "execution_count": 142,
   "metadata": {},
   "outputs": [
    {
     "data": {
      "text/html": [
       "<div>\n",
       "<style scoped>\n",
       "    .dataframe tbody tr th:only-of-type {\n",
       "        vertical-align: middle;\n",
       "    }\n",
       "\n",
       "    .dataframe tbody tr th {\n",
       "        vertical-align: top;\n",
       "    }\n",
       "\n",
       "    .dataframe thead th {\n",
       "        text-align: right;\n",
       "    }\n",
       "</style>\n",
       "<table border=\"1\" class=\"dataframe\">\n",
       "  <thead>\n",
       "    <tr style=\"text-align: right;\">\n",
       "      <th></th>\n",
       "      <th>Date</th>\n",
       "      <th>Confirmed</th>\n",
       "      <th>Death</th>\n",
       "      <th>Recovery</th>\n",
       "    </tr>\n",
       "  </thead>\n",
       "  <tbody>\n",
       "    <tr>\n",
       "      <th>0</th>\n",
       "      <td>1/22/2020</td>\n",
       "      <td>444</td>\n",
       "      <td>17</td>\n",
       "      <td>28</td>\n",
       "    </tr>\n",
       "    <tr>\n",
       "      <th>1</th>\n",
       "      <td>1/23/2020</td>\n",
       "      <td>444</td>\n",
       "      <td>17</td>\n",
       "      <td>28</td>\n",
       "    </tr>\n",
       "    <tr>\n",
       "      <th>2</th>\n",
       "      <td>1/24/2020</td>\n",
       "      <td>549</td>\n",
       "      <td>24</td>\n",
       "      <td>31</td>\n",
       "    </tr>\n",
       "    <tr>\n",
       "      <th>3</th>\n",
       "      <td>1/25/2020</td>\n",
       "      <td>761</td>\n",
       "      <td>40</td>\n",
       "      <td>32</td>\n",
       "    </tr>\n",
       "    <tr>\n",
       "      <th>4</th>\n",
       "      <td>1/26/2020</td>\n",
       "      <td>1058</td>\n",
       "      <td>52</td>\n",
       "      <td>42</td>\n",
       "    </tr>\n",
       "  </tbody>\n",
       "</table>\n",
       "</div>"
      ],
      "text/plain": [
       "        Date  Confirmed  Death  Recovery\n",
       "0  1/22/2020        444     17        28\n",
       "1  1/23/2020        444     17        28\n",
       "2  1/24/2020        549     24        31\n",
       "3  1/25/2020        761     40        32\n",
       "4  1/26/2020       1058     52        42"
      ]
     },
     "execution_count": 142,
     "metadata": {},
     "output_type": "execute_result"
    }
   ],
   "source": [
    "china_cases=pd.read_csv('data/china case.csv')\n",
    "china_cases.head()"
   ]
  },
  {
   "cell_type": "code",
   "execution_count": 143,
   "metadata": {},
   "outputs": [
    {
     "data": {
      "text/plain": [
       "Date         object\n",
       "Confirmed     int64\n",
       "Death         int64\n",
       "Recovery      int64\n",
       "dtype: object"
      ]
     },
     "execution_count": 143,
     "metadata": {},
     "output_type": "execute_result"
    }
   ],
   "source": [
    "china_cases.dtypes"
   ]
  },
  {
   "cell_type": "code",
   "execution_count": 144,
   "metadata": {},
   "outputs": [
    {
     "data": {
      "text/plain": [
       "Date         datetime64[ns]\n",
       "Confirmed             int64\n",
       "Death                 int64\n",
       "Recovery              int64\n",
       "dtype: object"
      ]
     },
     "execution_count": 144,
     "metadata": {},
     "output_type": "execute_result"
    }
   ],
   "source": [
    "china_cases['Date']=china_cases['Date'].astype('datetime64')\n",
    "china_cases.dtypes"
   ]
  },
  {
   "cell_type": "code",
   "execution_count": 145,
   "metadata": {},
   "outputs": [
    {
     "data": {
      "text/plain": [
       "'Done'"
      ]
     },
     "execution_count": 145,
     "metadata": {},
     "output_type": "execute_result"
    }
   ],
   "source": [
    "qry = \"CREATE TABLE `u8494347_mtkfstuin`.`kasus_corona_di_cina` ( `Date` DATE NOT NULL DEFAULT CURRENT_TIMESTAMP COMMENT 'waktu kejadian' , `Confirmed` INT(6) UNSIGNED NOT NULL COMMENT 'jumlah pasien yang terkonfirmasi' , `Death` INT(6) UNSIGNED NOT NULL COMMENT 'jumlah pasien yang meninggal' , `Recovery` INT(6) UNSIGNED NOT NULL COMMENT 'jumlah pasien yang sembuh' ) ENGINE = MyISAM CHARSET=utf8 COLLATE utf8_general_ci COMMENT = 'corona_hubei_cina';\"\n",
    "db = conMql(dbPar)\n",
    "cur = db.cursor()\n",
    "res = cur.execute(qry)\n",
    "cur.close()\n",
    "db.close()\n",
    "res\n",
    "'Done'"
   ]
  },
  {
   "cell_type": "code",
   "execution_count": 146,
   "metadata": {},
   "outputs": [
    {
     "data": {
      "text/plain": [
       "'Done'"
      ]
     },
     "execution_count": 146,
     "metadata": {},
     "output_type": "execute_result"
    }
   ],
   "source": [
    "qry = \"INSERT INTO `kasus_corona_di_cina` (`Date`, `Confirmed`, `Death`, `Recovery`) VALUES ('2020-01-22', '444', '17', '28'), ('2020-01-23', '444', '17', '28'), ('2020-01-24', '549', '24', '31'), ('2020-01-25', '761', '40', '32'), ('2020-01-26', '1058', '52', '42'), ('2020-01-27', '1423', '76', '45'), ('2020-01-28', '3554', '125', '80'), ('2020-01-29', '3554', '125', '88'), ('2020-01-30', '4903', '162', '90'), ('2020-01-31', '5806', '204', '141'), ('2020-02-01', '7153', '249', '168'), ('2020-02-02', '11177', '350', '295'), ('2020-02-03', '13522', '414', '386'), ('2020-02-04', '16678', '479', '522'), ('2020-02-05', '19665', '549', '633'), ('2020-02-06', '22112', '618', '817'), ('2020-02-07', '24953', '699', '1115'), ('2020-02-08', '27100', '780', '1439'), ('2020-02-09', '29631', '871', '1795'), ('2020-02-10', '31728', '974', '2222'), ('2020-02-11', '33366', '1068', '2639'), ('2020-02-12', '33366', '1068', '2686'), ('2020-02-13', '48206', '1310', '3459'), ('2020-02-14', '54406', '1457', '4774'), ('2020-02-15', '56249', '1596', '5623'), ('2020-02-16', '58182', '1696', '6639'), ('2020-02-17', '59989', '1789', '7862'), ('2020-02-18', '61682', '1921', '9128'), ('2020-02-19', '62031', '2029', '10337'), ('2020-02-20', '62442', '2144', '11788'), ('2020-02-21', '62662', '2144', '11881'), ('2020-02-22', '64084', '2346', '15299'), ('2020-02-23', '64084', '2346', '15343'), ('2020-02-24', '64287', '2495', '16748'), ('2020-02-25', '64786', '2563', '18971'), ('2020-02-26', '65187', '2615', '20969'), ('2020-02-27', '65596', '2641', '23383'), ('2020-02-28', '65914', '2682', '26403'), ('2020-02-29', '66337', '2727', '28993'), ('2020-03-01', '66907', '2761', '31536'), ('2020-03-02', '67103', '2803', '33934'), ('2020-03-03', '67217', '2835', '36208'), ('2020-03-04', '67332', '2871', '38557'), ('2020-03-05', '67466', '2902', '40592'), ('2020-03-06', '67592', '2931', '42033'), ('2020-03-07', '67666', '2959', '43500'), ('2020-03-08', '67707', '2986', '45235'), ('2020-03-09', '67743', '3008', '46488'), ('2020-03-10', '67760', '3024', '47743'), ('2020-03-11', '67773', '3046', '49134'), ('2020-03-12', '67781', '3056', '50318'), ('2020-03-13', '67786', '3062', '51553'), ('2020-03-14', '67790', '3075', '52960'), ('2020-03-15', '67794', '3085', '54288'), ('2020-03-16', '67798', '3099', '55142'), ('2020-03-17', '67799', '3111', '56003'), ('2020-03-18', '67800', '3122', '56927'), ('2020-03-19', '67800', '3130', '57682'), ('2020-03-20', '67800', '3133', '58382'), ('2020-03-21', '67800', '3139', '58946'), ('2020-03-22', '67800', '3153', '59433'), ('2020-03-23', '67800', '3153', '59879'), ('2020-03-24', '67801', '3160', '60324'), ('2020-03-25', '67801', '3163', '60811'), ('2020-03-26', '67801', '3169', '61201')\"\n",
    "db = conMql(dbPar)\n",
    "cur = db.cursor()\n",
    "res = cur.execute(qry)\n",
    "cur.close()\n",
    "db.close()\n",
    "res\n",
    "'Done'"
   ]
  },
  {
   "cell_type": "code",
   "execution_count": 148,
   "metadata": {},
   "outputs": [
    {
     "data": {
      "text/html": [
       "<div>\n",
       "<style scoped>\n",
       "    .dataframe tbody tr th:only-of-type {\n",
       "        vertical-align: middle;\n",
       "    }\n",
       "\n",
       "    .dataframe tbody tr th {\n",
       "        vertical-align: top;\n",
       "    }\n",
       "\n",
       "    .dataframe thead th {\n",
       "        text-align: right;\n",
       "    }\n",
       "</style>\n",
       "<table border=\"1\" class=\"dataframe\">\n",
       "  <thead>\n",
       "    <tr style=\"text-align: right;\">\n",
       "      <th></th>\n",
       "      <th>Date</th>\n",
       "      <th>Confirmed</th>\n",
       "      <th>Death</th>\n",
       "      <th>Recovery</th>\n",
       "    </tr>\n",
       "  </thead>\n",
       "  <tbody>\n",
       "    <tr>\n",
       "      <th>0</th>\n",
       "      <td>2020-01-22</td>\n",
       "      <td>444</td>\n",
       "      <td>17</td>\n",
       "      <td>28</td>\n",
       "    </tr>\n",
       "    <tr>\n",
       "      <th>1</th>\n",
       "      <td>2020-01-23</td>\n",
       "      <td>444</td>\n",
       "      <td>17</td>\n",
       "      <td>28</td>\n",
       "    </tr>\n",
       "    <tr>\n",
       "      <th>2</th>\n",
       "      <td>2020-01-24</td>\n",
       "      <td>549</td>\n",
       "      <td>24</td>\n",
       "      <td>31</td>\n",
       "    </tr>\n",
       "    <tr>\n",
       "      <th>3</th>\n",
       "      <td>2020-01-25</td>\n",
       "      <td>761</td>\n",
       "      <td>40</td>\n",
       "      <td>32</td>\n",
       "    </tr>\n",
       "    <tr>\n",
       "      <th>4</th>\n",
       "      <td>2020-01-26</td>\n",
       "      <td>1058</td>\n",
       "      <td>52</td>\n",
       "      <td>42</td>\n",
       "    </tr>\n",
       "  </tbody>\n",
       "</table>\n",
       "</div>"
      ],
      "text/plain": [
       "         Date  Confirmed  Death  Recovery\n",
       "0  2020-01-22        444     17        28\n",
       "1  2020-01-23        444     17        28\n",
       "2  2020-01-24        549     24        31\n",
       "3  2020-01-25        761     40        32\n",
       "4  2020-01-26       1058     52        42"
      ]
     },
     "execution_count": 148,
     "metadata": {},
     "output_type": "execute_result"
    }
   ],
   "source": [
    "import pandas as pd\n",
    "db = conMql(dbPar)\n",
    "query = \"SELECT*FROM kasus_corona_di_cina\"\n",
    "data = pd.read_sql(query,db)\n",
    "data.head()"
   ]
  }
 ],
 "metadata": {
  "kernelspec": {
   "display_name": "Python 3",
   "language": "python",
   "name": "python3"
  },
  "language_info": {
   "codemirror_mode": {
    "name": "ipython",
    "version": 3
   },
   "file_extension": ".py",
   "mimetype": "text/x-python",
   "name": "python",
   "nbconvert_exporter": "python",
   "pygments_lexer": "ipython3",
   "version": "3.6.7"
  }
 },
 "nbformat": 4,
 "nbformat_minor": 2
}
