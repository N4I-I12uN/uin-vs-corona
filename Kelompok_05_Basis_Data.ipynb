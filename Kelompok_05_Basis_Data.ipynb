{
 "cells": [
  {
   "cell_type": "markdown",
   "metadata": {},
   "source": [
    "## Tugas Mata Kuliah Basis Data \n",
    "### Nama anggota :\n",
    "1. Cucun Cunaeti                       (11160940000021)\n",
    "2. Saskia Sahrain                       (11160940000032)\n",
    "3. Alfi Hasni                                 (11160940000043)  \n",
    "4. Maisy Amelia Silvani               (11160940000066)\n",
    "5. Indah Tri Nurlita                      (11160940000082)\n",
    "6. Siti Aenun Naimatul Jannah              (11170940000004)\n",
    "7. Irman Suryana                         (11170940000018)\n",
    "8. Gery Ferdian Aly                      (11170940000039)\n",
    "9. Tira Amalia                               (11170940000042)\n",
    "10. Ujang Hasanudin                     (11170940000062)"
   ]
  },
  {
   "cell_type": "markdown",
   "metadata": {},
   "source": [
    "## Nama dataset :\n",
    "1. situasi_corona_di_indonesia\n",
    "2. kasus_corona_di_cina"
   ]
  },
  {
   "cell_type": "code",
   "execution_count": null,
   "metadata": {},
   "outputs": [],
   "source": []
  }
 ],
 "metadata": {
  "kernelspec": {
   "display_name": "Python 3",
   "language": "python",
   "name": "python3"
  },
  "language_info": {
   "codemirror_mode": {
    "name": "ipython",
    "version": 3
   },
   "file_extension": ".py",
   "mimetype": "text/x-python",
   "name": "python",
   "nbconvert_exporter": "python",
   "pygments_lexer": "ipython3",
   "version": "3.6.7"
  }
 },
 "nbformat": 4,
 "nbformat_minor": 2
}
